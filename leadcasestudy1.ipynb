{
 "cells": [
  {
   "cell_type": "code",
   "execution_count": 1,
   "metadata": {},
   "outputs": [],
   "source": [
    "# Suppressing Warnings\n",
    "import warnings\n",
    "warnings.filterwarnings('ignore')"
   ]
  },
  {
   "cell_type": "code",
   "execution_count": 2,
   "metadata": {},
   "outputs": [],
   "source": [
    "# Importing Pandas and NumPy\n",
    "#importing libraries\n",
    "import pandas as pd,numpy as np,matplotlib.pyplot as plt,seaborn as sns \n",
    "import matplotlib.ticker as ticker"
   ]
  },
  {
   "cell_type": "markdown",
   "metadata": {},
   "source": [
    "## Reading the dataset"
   ]
  },
  {
   "cell_type": "code",
   "execution_count": 6,
   "metadata": {},
   "outputs": [
    {
     "data": {
      "text/html": [
       "<div>\n",
       "<style scoped>\n",
       "    .dataframe tbody tr th:only-of-type {\n",
       "        vertical-align: middle;\n",
       "    }\n",
       "\n",
       "    .dataframe tbody tr th {\n",
       "        vertical-align: top;\n",
       "    }\n",
       "\n",
       "    .dataframe thead th {\n",
       "        text-align: right;\n",
       "    }\n",
       "</style>\n",
       "<table border=\"1\" class=\"dataframe\">\n",
       "  <thead>\n",
       "    <tr style=\"text-align: right;\">\n",
       "      <th></th>\n",
       "      <th>Prospect ID</th>\n",
       "      <th>Lead Number</th>\n",
       "      <th>Lead Origin</th>\n",
       "      <th>Lead Source</th>\n",
       "      <th>Do Not Email</th>\n",
       "      <th>Do Not Call</th>\n",
       "      <th>Converted</th>\n",
       "      <th>TotalVisits</th>\n",
       "      <th>Total Time Spent on Website</th>\n",
       "      <th>Page Views Per Visit</th>\n",
       "      <th>...</th>\n",
       "      <th>Get updates on DM Content</th>\n",
       "      <th>Lead Profile</th>\n",
       "      <th>City</th>\n",
       "      <th>Asymmetrique Activity Index</th>\n",
       "      <th>Asymmetrique Profile Index</th>\n",
       "      <th>Asymmetrique Activity Score</th>\n",
       "      <th>Asymmetrique Profile Score</th>\n",
       "      <th>I agree to pay the amount through cheque</th>\n",
       "      <th>A free copy of Mastering The Interview</th>\n",
       "      <th>Last Notable Activity</th>\n",
       "    </tr>\n",
       "  </thead>\n",
       "  <tbody>\n",
       "    <tr>\n",
       "      <th>0</th>\n",
       "      <td>7927b2df-8bba-4d29-b9a2-b6e0beafe620</td>\n",
       "      <td>660737</td>\n",
       "      <td>API</td>\n",
       "      <td>Olark Chat</td>\n",
       "      <td>No</td>\n",
       "      <td>No</td>\n",
       "      <td>0</td>\n",
       "      <td>0.0</td>\n",
       "      <td>0</td>\n",
       "      <td>0.0</td>\n",
       "      <td>...</td>\n",
       "      <td>No</td>\n",
       "      <td>Select</td>\n",
       "      <td>Select</td>\n",
       "      <td>02.Medium</td>\n",
       "      <td>02.Medium</td>\n",
       "      <td>15.0</td>\n",
       "      <td>15.0</td>\n",
       "      <td>No</td>\n",
       "      <td>No</td>\n",
       "      <td>Modified</td>\n",
       "    </tr>\n",
       "    <tr>\n",
       "      <th>1</th>\n",
       "      <td>2a272436-5132-4136-86fa-dcc88c88f482</td>\n",
       "      <td>660728</td>\n",
       "      <td>API</td>\n",
       "      <td>Organic Search</td>\n",
       "      <td>No</td>\n",
       "      <td>No</td>\n",
       "      <td>0</td>\n",
       "      <td>5.0</td>\n",
       "      <td>674</td>\n",
       "      <td>2.5</td>\n",
       "      <td>...</td>\n",
       "      <td>No</td>\n",
       "      <td>Select</td>\n",
       "      <td>Select</td>\n",
       "      <td>02.Medium</td>\n",
       "      <td>02.Medium</td>\n",
       "      <td>15.0</td>\n",
       "      <td>15.0</td>\n",
       "      <td>No</td>\n",
       "      <td>No</td>\n",
       "      <td>Email Opened</td>\n",
       "    </tr>\n",
       "    <tr>\n",
       "      <th>2</th>\n",
       "      <td>8cc8c611-a219-4f35-ad23-fdfd2656bd8a</td>\n",
       "      <td>660727</td>\n",
       "      <td>Landing Page Submission</td>\n",
       "      <td>Direct Traffic</td>\n",
       "      <td>No</td>\n",
       "      <td>No</td>\n",
       "      <td>1</td>\n",
       "      <td>2.0</td>\n",
       "      <td>1532</td>\n",
       "      <td>2.0</td>\n",
       "      <td>...</td>\n",
       "      <td>No</td>\n",
       "      <td>Potential Lead</td>\n",
       "      <td>Mumbai</td>\n",
       "      <td>02.Medium</td>\n",
       "      <td>01.High</td>\n",
       "      <td>14.0</td>\n",
       "      <td>20.0</td>\n",
       "      <td>No</td>\n",
       "      <td>Yes</td>\n",
       "      <td>Email Opened</td>\n",
       "    </tr>\n",
       "    <tr>\n",
       "      <th>3</th>\n",
       "      <td>0cc2df48-7cf4-4e39-9de9-19797f9b38cc</td>\n",
       "      <td>660719</td>\n",
       "      <td>Landing Page Submission</td>\n",
       "      <td>Direct Traffic</td>\n",
       "      <td>No</td>\n",
       "      <td>No</td>\n",
       "      <td>0</td>\n",
       "      <td>1.0</td>\n",
       "      <td>305</td>\n",
       "      <td>1.0</td>\n",
       "      <td>...</td>\n",
       "      <td>No</td>\n",
       "      <td>Select</td>\n",
       "      <td>Mumbai</td>\n",
       "      <td>02.Medium</td>\n",
       "      <td>01.High</td>\n",
       "      <td>13.0</td>\n",
       "      <td>17.0</td>\n",
       "      <td>No</td>\n",
       "      <td>No</td>\n",
       "      <td>Modified</td>\n",
       "    </tr>\n",
       "    <tr>\n",
       "      <th>4</th>\n",
       "      <td>3256f628-e534-4826-9d63-4a8b88782852</td>\n",
       "      <td>660681</td>\n",
       "      <td>Landing Page Submission</td>\n",
       "      <td>Google</td>\n",
       "      <td>No</td>\n",
       "      <td>No</td>\n",
       "      <td>1</td>\n",
       "      <td>2.0</td>\n",
       "      <td>1428</td>\n",
       "      <td>1.0</td>\n",
       "      <td>...</td>\n",
       "      <td>No</td>\n",
       "      <td>Select</td>\n",
       "      <td>Mumbai</td>\n",
       "      <td>02.Medium</td>\n",
       "      <td>01.High</td>\n",
       "      <td>15.0</td>\n",
       "      <td>18.0</td>\n",
       "      <td>No</td>\n",
       "      <td>No</td>\n",
       "      <td>Modified</td>\n",
       "    </tr>\n",
       "  </tbody>\n",
       "</table>\n",
       "<p>5 rows × 37 columns</p>\n",
       "</div>"
      ],
      "text/plain": [
       "                            Prospect ID  Lead Number              Lead Origin  \\\n",
       "0  7927b2df-8bba-4d29-b9a2-b6e0beafe620       660737                      API   \n",
       "1  2a272436-5132-4136-86fa-dcc88c88f482       660728                      API   \n",
       "2  8cc8c611-a219-4f35-ad23-fdfd2656bd8a       660727  Landing Page Submission   \n",
       "3  0cc2df48-7cf4-4e39-9de9-19797f9b38cc       660719  Landing Page Submission   \n",
       "4  3256f628-e534-4826-9d63-4a8b88782852       660681  Landing Page Submission   \n",
       "\n",
       "      Lead Source Do Not Email Do Not Call  Converted  TotalVisits  \\\n",
       "0      Olark Chat           No          No          0          0.0   \n",
       "1  Organic Search           No          No          0          5.0   \n",
       "2  Direct Traffic           No          No          1          2.0   \n",
       "3  Direct Traffic           No          No          0          1.0   \n",
       "4          Google           No          No          1          2.0   \n",
       "\n",
       "   Total Time Spent on Website  Page Views Per Visit  ...  \\\n",
       "0                            0                   0.0  ...   \n",
       "1                          674                   2.5  ...   \n",
       "2                         1532                   2.0  ...   \n",
       "3                          305                   1.0  ...   \n",
       "4                         1428                   1.0  ...   \n",
       "\n",
       "  Get updates on DM Content    Lead Profile    City  \\\n",
       "0                        No          Select  Select   \n",
       "1                        No          Select  Select   \n",
       "2                        No  Potential Lead  Mumbai   \n",
       "3                        No          Select  Mumbai   \n",
       "4                        No          Select  Mumbai   \n",
       "\n",
       "  Asymmetrique Activity Index Asymmetrique Profile Index  \\\n",
       "0                   02.Medium                  02.Medium   \n",
       "1                   02.Medium                  02.Medium   \n",
       "2                   02.Medium                    01.High   \n",
       "3                   02.Medium                    01.High   \n",
       "4                   02.Medium                    01.High   \n",
       "\n",
       "  Asymmetrique Activity Score Asymmetrique Profile Score  \\\n",
       "0                        15.0                       15.0   \n",
       "1                        15.0                       15.0   \n",
       "2                        14.0                       20.0   \n",
       "3                        13.0                       17.0   \n",
       "4                        15.0                       18.0   \n",
       "\n",
       "  I agree to pay the amount through cheque  \\\n",
       "0                                       No   \n",
       "1                                       No   \n",
       "2                                       No   \n",
       "3                                       No   \n",
       "4                                       No   \n",
       "\n",
       "  A free copy of Mastering The Interview Last Notable Activity  \n",
       "0                                     No              Modified  \n",
       "1                                     No          Email Opened  \n",
       "2                                    Yes          Email Opened  \n",
       "3                                     No              Modified  \n",
       "4                                     No              Modified  \n",
       "\n",
       "[5 rows x 37 columns]"
      ]
     },
     "execution_count": 6,
     "metadata": {},
     "output_type": "execute_result"
    }
   ],
   "source": [
    "leads_df = pd.read_csv(r\"Leads.csv\")\n",
    "leads_df.head()"
   ]
  },
  {
   "cell_type": "code",
   "execution_count": 7,
   "metadata": {},
   "outputs": [
    {
     "name": "stdout",
     "output_type": "stream",
     "text": [
      "<class 'pandas.core.frame.DataFrame'>\n",
      "RangeIndex: 9240 entries, 0 to 9239\n",
      "Data columns (total 37 columns):\n",
      " #   Column                                         Non-Null Count  Dtype  \n",
      "---  ------                                         --------------  -----  \n",
      " 0   Prospect ID                                    9240 non-null   object \n",
      " 1   Lead Number                                    9240 non-null   int64  \n",
      " 2   Lead Origin                                    9240 non-null   object \n",
      " 3   Lead Source                                    9204 non-null   object \n",
      " 4   Do Not Email                                   9240 non-null   object \n",
      " 5   Do Not Call                                    9240 non-null   object \n",
      " 6   Converted                                      9240 non-null   int64  \n",
      " 7   TotalVisits                                    9103 non-null   float64\n",
      " 8   Total Time Spent on Website                    9240 non-null   int64  \n",
      " 9   Page Views Per Visit                           9103 non-null   float64\n",
      " 10  Last Activity                                  9137 non-null   object \n",
      " 11  Country                                        6779 non-null   object \n",
      " 12  Specialization                                 7802 non-null   object \n",
      " 13  How did you hear about X Education             7033 non-null   object \n",
      " 14  What is your current occupation                6550 non-null   object \n",
      " 15  What matters most to you in choosing a course  6531 non-null   object \n",
      " 16  Search                                         9240 non-null   object \n",
      " 17  Magazine                                       9240 non-null   object \n",
      " 18  Newspaper Article                              9240 non-null   object \n",
      " 19  X Education Forums                             9240 non-null   object \n",
      " 20  Newspaper                                      9240 non-null   object \n",
      " 21  Digital Advertisement                          9240 non-null   object \n",
      " 22  Through Recommendations                        9240 non-null   object \n",
      " 23  Receive More Updates About Our Courses         9240 non-null   object \n",
      " 24  Tags                                           5887 non-null   object \n",
      " 25  Lead Quality                                   4473 non-null   object \n",
      " 26  Update me on Supply Chain Content              9240 non-null   object \n",
      " 27  Get updates on DM Content                      9240 non-null   object \n",
      " 28  Lead Profile                                   6531 non-null   object \n",
      " 29  City                                           7820 non-null   object \n",
      " 30  Asymmetrique Activity Index                    5022 non-null   object \n",
      " 31  Asymmetrique Profile Index                     5022 non-null   object \n",
      " 32  Asymmetrique Activity Score                    5022 non-null   float64\n",
      " 33  Asymmetrique Profile Score                     5022 non-null   float64\n",
      " 34  I agree to pay the amount through cheque       9240 non-null   object \n",
      " 35  A free copy of Mastering The Interview         9240 non-null   object \n",
      " 36  Last Notable Activity                          9240 non-null   object \n",
      "dtypes: float64(4), int64(3), object(30)\n",
      "memory usage: 2.6+ MB\n"
     ]
    }
   ],
   "source": [
    "leads_df.info()"
   ]
  },
  {
   "cell_type": "code",
   "execution_count": 8,
   "metadata": {},
   "outputs": [
    {
     "data": {
      "text/html": [
       "<div>\n",
       "<style scoped>\n",
       "    .dataframe tbody tr th:only-of-type {\n",
       "        vertical-align: middle;\n",
       "    }\n",
       "\n",
       "    .dataframe tbody tr th {\n",
       "        vertical-align: top;\n",
       "    }\n",
       "\n",
       "    .dataframe thead th {\n",
       "        text-align: right;\n",
       "    }\n",
       "</style>\n",
       "<table border=\"1\" class=\"dataframe\">\n",
       "  <thead>\n",
       "    <tr style=\"text-align: right;\">\n",
       "      <th></th>\n",
       "      <th>Lead Number</th>\n",
       "      <th>Converted</th>\n",
       "      <th>TotalVisits</th>\n",
       "      <th>Total Time Spent on Website</th>\n",
       "      <th>Page Views Per Visit</th>\n",
       "      <th>Asymmetrique Activity Score</th>\n",
       "      <th>Asymmetrique Profile Score</th>\n",
       "    </tr>\n",
       "  </thead>\n",
       "  <tbody>\n",
       "    <tr>\n",
       "      <th>count</th>\n",
       "      <td>9240.000000</td>\n",
       "      <td>9240.000000</td>\n",
       "      <td>9103.000000</td>\n",
       "      <td>9240.000000</td>\n",
       "      <td>9103.000000</td>\n",
       "      <td>5022.000000</td>\n",
       "      <td>5022.000000</td>\n",
       "    </tr>\n",
       "    <tr>\n",
       "      <th>mean</th>\n",
       "      <td>617188.435606</td>\n",
       "      <td>0.385390</td>\n",
       "      <td>3.445238</td>\n",
       "      <td>487.698268</td>\n",
       "      <td>2.362820</td>\n",
       "      <td>14.306252</td>\n",
       "      <td>16.344883</td>\n",
       "    </tr>\n",
       "    <tr>\n",
       "      <th>std</th>\n",
       "      <td>23405.995698</td>\n",
       "      <td>0.486714</td>\n",
       "      <td>4.854853</td>\n",
       "      <td>548.021466</td>\n",
       "      <td>2.161418</td>\n",
       "      <td>1.386694</td>\n",
       "      <td>1.811395</td>\n",
       "    </tr>\n",
       "    <tr>\n",
       "      <th>min</th>\n",
       "      <td>579533.000000</td>\n",
       "      <td>0.000000</td>\n",
       "      <td>0.000000</td>\n",
       "      <td>0.000000</td>\n",
       "      <td>0.000000</td>\n",
       "      <td>7.000000</td>\n",
       "      <td>11.000000</td>\n",
       "    </tr>\n",
       "    <tr>\n",
       "      <th>25%</th>\n",
       "      <td>596484.500000</td>\n",
       "      <td>0.000000</td>\n",
       "      <td>1.000000</td>\n",
       "      <td>12.000000</td>\n",
       "      <td>1.000000</td>\n",
       "      <td>14.000000</td>\n",
       "      <td>15.000000</td>\n",
       "    </tr>\n",
       "    <tr>\n",
       "      <th>50%</th>\n",
       "      <td>615479.000000</td>\n",
       "      <td>0.000000</td>\n",
       "      <td>3.000000</td>\n",
       "      <td>248.000000</td>\n",
       "      <td>2.000000</td>\n",
       "      <td>14.000000</td>\n",
       "      <td>16.000000</td>\n",
       "    </tr>\n",
       "    <tr>\n",
       "      <th>75%</th>\n",
       "      <td>637387.250000</td>\n",
       "      <td>1.000000</td>\n",
       "      <td>5.000000</td>\n",
       "      <td>936.000000</td>\n",
       "      <td>3.000000</td>\n",
       "      <td>15.000000</td>\n",
       "      <td>18.000000</td>\n",
       "    </tr>\n",
       "    <tr>\n",
       "      <th>max</th>\n",
       "      <td>660737.000000</td>\n",
       "      <td>1.000000</td>\n",
       "      <td>251.000000</td>\n",
       "      <td>2272.000000</td>\n",
       "      <td>55.000000</td>\n",
       "      <td>18.000000</td>\n",
       "      <td>20.000000</td>\n",
       "    </tr>\n",
       "  </tbody>\n",
       "</table>\n",
       "</div>"
      ],
      "text/plain": [
       "         Lead Number    Converted  TotalVisits  Total Time Spent on Website  \\\n",
       "count    9240.000000  9240.000000  9103.000000                  9240.000000   \n",
       "mean   617188.435606     0.385390     3.445238                   487.698268   \n",
       "std     23405.995698     0.486714     4.854853                   548.021466   \n",
       "min    579533.000000     0.000000     0.000000                     0.000000   \n",
       "25%    596484.500000     0.000000     1.000000                    12.000000   \n",
       "50%    615479.000000     0.000000     3.000000                   248.000000   \n",
       "75%    637387.250000     1.000000     5.000000                   936.000000   \n",
       "max    660737.000000     1.000000   251.000000                  2272.000000   \n",
       "\n",
       "       Page Views Per Visit  Asymmetrique Activity Score  \\\n",
       "count           9103.000000                  5022.000000   \n",
       "mean               2.362820                    14.306252   \n",
       "std                2.161418                     1.386694   \n",
       "min                0.000000                     7.000000   \n",
       "25%                1.000000                    14.000000   \n",
       "50%                2.000000                    14.000000   \n",
       "75%                3.000000                    15.000000   \n",
       "max               55.000000                    18.000000   \n",
       "\n",
       "       Asymmetrique Profile Score  \n",
       "count                 5022.000000  \n",
       "mean                    16.344883  \n",
       "std                      1.811395  \n",
       "min                     11.000000  \n",
       "25%                     15.000000  \n",
       "50%                     16.000000  \n",
       "75%                     18.000000  \n",
       "max                     20.000000  "
      ]
     },
     "execution_count": 8,
     "metadata": {},
     "output_type": "execute_result"
    }
   ],
   "source": [
    "leads_df.describe()"
   ]
  },
  {
   "cell_type": "code",
   "execution_count": 9,
   "metadata": {
    "scrolled": true
   },
   "outputs": [
    {
     "data": {
      "text/plain": [
       "(9240, 37)"
      ]
     },
     "execution_count": 9,
     "metadata": {},
     "output_type": "execute_result"
    }
   ],
   "source": [
    "leads_df.shape"
   ]
  },
  {
   "cell_type": "markdown",
   "metadata": {},
   "source": [
    "## Dropping the unecessary columns"
   ]
  },
  {
   "cell_type": "code",
   "execution_count": 10,
   "metadata": {},
   "outputs": [
    {
     "data": {
      "text/html": [
       "<div>\n",
       "<style scoped>\n",
       "    .dataframe tbody tr th:only-of-type {\n",
       "        vertical-align: middle;\n",
       "    }\n",
       "\n",
       "    .dataframe tbody tr th {\n",
       "        vertical-align: top;\n",
       "    }\n",
       "\n",
       "    .dataframe thead th {\n",
       "        text-align: right;\n",
       "    }\n",
       "</style>\n",
       "<table border=\"1\" class=\"dataframe\">\n",
       "  <thead>\n",
       "    <tr style=\"text-align: right;\">\n",
       "      <th></th>\n",
       "      <th>Lead Number</th>\n",
       "      <th>Lead Origin</th>\n",
       "      <th>Lead Source</th>\n",
       "      <th>Do Not Email</th>\n",
       "      <th>Do Not Call</th>\n",
       "      <th>Converted</th>\n",
       "      <th>TotalVisits</th>\n",
       "      <th>Total Time Spent on Website</th>\n",
       "      <th>Page Views Per Visit</th>\n",
       "      <th>Last Activity</th>\n",
       "      <th>...</th>\n",
       "      <th>Get updates on DM Content</th>\n",
       "      <th>Lead Profile</th>\n",
       "      <th>City</th>\n",
       "      <th>Asymmetrique Activity Index</th>\n",
       "      <th>Asymmetrique Profile Index</th>\n",
       "      <th>Asymmetrique Activity Score</th>\n",
       "      <th>Asymmetrique Profile Score</th>\n",
       "      <th>I agree to pay the amount through cheque</th>\n",
       "      <th>A free copy of Mastering The Interview</th>\n",
       "      <th>Last Notable Activity</th>\n",
       "    </tr>\n",
       "  </thead>\n",
       "  <tbody>\n",
       "    <tr>\n",
       "      <th>0</th>\n",
       "      <td>660737</td>\n",
       "      <td>API</td>\n",
       "      <td>Olark Chat</td>\n",
       "      <td>No</td>\n",
       "      <td>No</td>\n",
       "      <td>0</td>\n",
       "      <td>0.0</td>\n",
       "      <td>0</td>\n",
       "      <td>0.0</td>\n",
       "      <td>Page Visited on Website</td>\n",
       "      <td>...</td>\n",
       "      <td>No</td>\n",
       "      <td>Select</td>\n",
       "      <td>Select</td>\n",
       "      <td>02.Medium</td>\n",
       "      <td>02.Medium</td>\n",
       "      <td>15.0</td>\n",
       "      <td>15.0</td>\n",
       "      <td>No</td>\n",
       "      <td>No</td>\n",
       "      <td>Modified</td>\n",
       "    </tr>\n",
       "    <tr>\n",
       "      <th>1</th>\n",
       "      <td>660728</td>\n",
       "      <td>API</td>\n",
       "      <td>Organic Search</td>\n",
       "      <td>No</td>\n",
       "      <td>No</td>\n",
       "      <td>0</td>\n",
       "      <td>5.0</td>\n",
       "      <td>674</td>\n",
       "      <td>2.5</td>\n",
       "      <td>Email Opened</td>\n",
       "      <td>...</td>\n",
       "      <td>No</td>\n",
       "      <td>Select</td>\n",
       "      <td>Select</td>\n",
       "      <td>02.Medium</td>\n",
       "      <td>02.Medium</td>\n",
       "      <td>15.0</td>\n",
       "      <td>15.0</td>\n",
       "      <td>No</td>\n",
       "      <td>No</td>\n",
       "      <td>Email Opened</td>\n",
       "    </tr>\n",
       "    <tr>\n",
       "      <th>2</th>\n",
       "      <td>660727</td>\n",
       "      <td>Landing Page Submission</td>\n",
       "      <td>Direct Traffic</td>\n",
       "      <td>No</td>\n",
       "      <td>No</td>\n",
       "      <td>1</td>\n",
       "      <td>2.0</td>\n",
       "      <td>1532</td>\n",
       "      <td>2.0</td>\n",
       "      <td>Email Opened</td>\n",
       "      <td>...</td>\n",
       "      <td>No</td>\n",
       "      <td>Potential Lead</td>\n",
       "      <td>Mumbai</td>\n",
       "      <td>02.Medium</td>\n",
       "      <td>01.High</td>\n",
       "      <td>14.0</td>\n",
       "      <td>20.0</td>\n",
       "      <td>No</td>\n",
       "      <td>Yes</td>\n",
       "      <td>Email Opened</td>\n",
       "    </tr>\n",
       "    <tr>\n",
       "      <th>3</th>\n",
       "      <td>660719</td>\n",
       "      <td>Landing Page Submission</td>\n",
       "      <td>Direct Traffic</td>\n",
       "      <td>No</td>\n",
       "      <td>No</td>\n",
       "      <td>0</td>\n",
       "      <td>1.0</td>\n",
       "      <td>305</td>\n",
       "      <td>1.0</td>\n",
       "      <td>Unreachable</td>\n",
       "      <td>...</td>\n",
       "      <td>No</td>\n",
       "      <td>Select</td>\n",
       "      <td>Mumbai</td>\n",
       "      <td>02.Medium</td>\n",
       "      <td>01.High</td>\n",
       "      <td>13.0</td>\n",
       "      <td>17.0</td>\n",
       "      <td>No</td>\n",
       "      <td>No</td>\n",
       "      <td>Modified</td>\n",
       "    </tr>\n",
       "    <tr>\n",
       "      <th>4</th>\n",
       "      <td>660681</td>\n",
       "      <td>Landing Page Submission</td>\n",
       "      <td>Google</td>\n",
       "      <td>No</td>\n",
       "      <td>No</td>\n",
       "      <td>1</td>\n",
       "      <td>2.0</td>\n",
       "      <td>1428</td>\n",
       "      <td>1.0</td>\n",
       "      <td>Converted to Lead</td>\n",
       "      <td>...</td>\n",
       "      <td>No</td>\n",
       "      <td>Select</td>\n",
       "      <td>Mumbai</td>\n",
       "      <td>02.Medium</td>\n",
       "      <td>01.High</td>\n",
       "      <td>15.0</td>\n",
       "      <td>18.0</td>\n",
       "      <td>No</td>\n",
       "      <td>No</td>\n",
       "      <td>Modified</td>\n",
       "    </tr>\n",
       "  </tbody>\n",
       "</table>\n",
       "<p>5 rows × 36 columns</p>\n",
       "</div>"
      ],
      "text/plain": [
       "   Lead Number              Lead Origin     Lead Source Do Not Email  \\\n",
       "0       660737                      API      Olark Chat           No   \n",
       "1       660728                      API  Organic Search           No   \n",
       "2       660727  Landing Page Submission  Direct Traffic           No   \n",
       "3       660719  Landing Page Submission  Direct Traffic           No   \n",
       "4       660681  Landing Page Submission          Google           No   \n",
       "\n",
       "  Do Not Call  Converted  TotalVisits  Total Time Spent on Website  \\\n",
       "0          No          0          0.0                            0   \n",
       "1          No          0          5.0                          674   \n",
       "2          No          1          2.0                         1532   \n",
       "3          No          0          1.0                          305   \n",
       "4          No          1          2.0                         1428   \n",
       "\n",
       "   Page Views Per Visit            Last Activity  ...  \\\n",
       "0                   0.0  Page Visited on Website  ...   \n",
       "1                   2.5             Email Opened  ...   \n",
       "2                   2.0             Email Opened  ...   \n",
       "3                   1.0              Unreachable  ...   \n",
       "4                   1.0        Converted to Lead  ...   \n",
       "\n",
       "  Get updates on DM Content    Lead Profile    City  \\\n",
       "0                        No          Select  Select   \n",
       "1                        No          Select  Select   \n",
       "2                        No  Potential Lead  Mumbai   \n",
       "3                        No          Select  Mumbai   \n",
       "4                        No          Select  Mumbai   \n",
       "\n",
       "  Asymmetrique Activity Index Asymmetrique Profile Index  \\\n",
       "0                   02.Medium                  02.Medium   \n",
       "1                   02.Medium                  02.Medium   \n",
       "2                   02.Medium                    01.High   \n",
       "3                   02.Medium                    01.High   \n",
       "4                   02.Medium                    01.High   \n",
       "\n",
       "  Asymmetrique Activity Score Asymmetrique Profile Score  \\\n",
       "0                        15.0                       15.0   \n",
       "1                        15.0                       15.0   \n",
       "2                        14.0                       20.0   \n",
       "3                        13.0                       17.0   \n",
       "4                        15.0                       18.0   \n",
       "\n",
       "  I agree to pay the amount through cheque  \\\n",
       "0                                       No   \n",
       "1                                       No   \n",
       "2                                       No   \n",
       "3                                       No   \n",
       "4                                       No   \n",
       "\n",
       "  A free copy of Mastering The Interview Last Notable Activity  \n",
       "0                                     No              Modified  \n",
       "1                                     No          Email Opened  \n",
       "2                                    Yes          Email Opened  \n",
       "3                                     No              Modified  \n",
       "4                                     No              Modified  \n",
       "\n",
       "[5 rows x 36 columns]"
      ]
     },
     "execution_count": 10,
     "metadata": {},
     "output_type": "execute_result"
    }
   ],
   "source": [
    "leads_df  = leads_df.drop(['Prospect ID'],axis = 1) \n",
    "leads_df.head()"
   ]
  },
  {
   "cell_type": "code",
   "execution_count": 11,
   "metadata": {},
   "outputs": [
    {
     "data": {
      "text/html": [
       "<div>\n",
       "<style scoped>\n",
       "    .dataframe tbody tr th:only-of-type {\n",
       "        vertical-align: middle;\n",
       "    }\n",
       "\n",
       "    .dataframe tbody tr th {\n",
       "        vertical-align: top;\n",
       "    }\n",
       "\n",
       "    .dataframe thead th {\n",
       "        text-align: right;\n",
       "    }\n",
       "</style>\n",
       "<table border=\"1\" class=\"dataframe\">\n",
       "  <thead>\n",
       "    <tr style=\"text-align: right;\">\n",
       "      <th></th>\n",
       "      <th>Lead Origin</th>\n",
       "      <th>Lead Source</th>\n",
       "      <th>Do Not Email</th>\n",
       "      <th>Do Not Call</th>\n",
       "      <th>Converted</th>\n",
       "      <th>TotalVisits</th>\n",
       "      <th>Total Time Spent on Website</th>\n",
       "      <th>Page Views Per Visit</th>\n",
       "      <th>Last Activity</th>\n",
       "      <th>Country</th>\n",
       "      <th>...</th>\n",
       "      <th>Get updates on DM Content</th>\n",
       "      <th>Lead Profile</th>\n",
       "      <th>City</th>\n",
       "      <th>Asymmetrique Activity Index</th>\n",
       "      <th>Asymmetrique Profile Index</th>\n",
       "      <th>Asymmetrique Activity Score</th>\n",
       "      <th>Asymmetrique Profile Score</th>\n",
       "      <th>I agree to pay the amount through cheque</th>\n",
       "      <th>A free copy of Mastering The Interview</th>\n",
       "      <th>Last Notable Activity</th>\n",
       "    </tr>\n",
       "  </thead>\n",
       "  <tbody>\n",
       "    <tr>\n",
       "      <th>0</th>\n",
       "      <td>API</td>\n",
       "      <td>Olark Chat</td>\n",
       "      <td>No</td>\n",
       "      <td>No</td>\n",
       "      <td>0</td>\n",
       "      <td>0.0</td>\n",
       "      <td>0</td>\n",
       "      <td>0.0</td>\n",
       "      <td>Page Visited on Website</td>\n",
       "      <td>NaN</td>\n",
       "      <td>...</td>\n",
       "      <td>No</td>\n",
       "      <td>Select</td>\n",
       "      <td>Select</td>\n",
       "      <td>02.Medium</td>\n",
       "      <td>02.Medium</td>\n",
       "      <td>15.0</td>\n",
       "      <td>15.0</td>\n",
       "      <td>No</td>\n",
       "      <td>No</td>\n",
       "      <td>Modified</td>\n",
       "    </tr>\n",
       "    <tr>\n",
       "      <th>1</th>\n",
       "      <td>API</td>\n",
       "      <td>Organic Search</td>\n",
       "      <td>No</td>\n",
       "      <td>No</td>\n",
       "      <td>0</td>\n",
       "      <td>5.0</td>\n",
       "      <td>674</td>\n",
       "      <td>2.5</td>\n",
       "      <td>Email Opened</td>\n",
       "      <td>India</td>\n",
       "      <td>...</td>\n",
       "      <td>No</td>\n",
       "      <td>Select</td>\n",
       "      <td>Select</td>\n",
       "      <td>02.Medium</td>\n",
       "      <td>02.Medium</td>\n",
       "      <td>15.0</td>\n",
       "      <td>15.0</td>\n",
       "      <td>No</td>\n",
       "      <td>No</td>\n",
       "      <td>Email Opened</td>\n",
       "    </tr>\n",
       "    <tr>\n",
       "      <th>2</th>\n",
       "      <td>Landing Page Submission</td>\n",
       "      <td>Direct Traffic</td>\n",
       "      <td>No</td>\n",
       "      <td>No</td>\n",
       "      <td>1</td>\n",
       "      <td>2.0</td>\n",
       "      <td>1532</td>\n",
       "      <td>2.0</td>\n",
       "      <td>Email Opened</td>\n",
       "      <td>India</td>\n",
       "      <td>...</td>\n",
       "      <td>No</td>\n",
       "      <td>Potential Lead</td>\n",
       "      <td>Mumbai</td>\n",
       "      <td>02.Medium</td>\n",
       "      <td>01.High</td>\n",
       "      <td>14.0</td>\n",
       "      <td>20.0</td>\n",
       "      <td>No</td>\n",
       "      <td>Yes</td>\n",
       "      <td>Email Opened</td>\n",
       "    </tr>\n",
       "    <tr>\n",
       "      <th>3</th>\n",
       "      <td>Landing Page Submission</td>\n",
       "      <td>Direct Traffic</td>\n",
       "      <td>No</td>\n",
       "      <td>No</td>\n",
       "      <td>0</td>\n",
       "      <td>1.0</td>\n",
       "      <td>305</td>\n",
       "      <td>1.0</td>\n",
       "      <td>Unreachable</td>\n",
       "      <td>India</td>\n",
       "      <td>...</td>\n",
       "      <td>No</td>\n",
       "      <td>Select</td>\n",
       "      <td>Mumbai</td>\n",
       "      <td>02.Medium</td>\n",
       "      <td>01.High</td>\n",
       "      <td>13.0</td>\n",
       "      <td>17.0</td>\n",
       "      <td>No</td>\n",
       "      <td>No</td>\n",
       "      <td>Modified</td>\n",
       "    </tr>\n",
       "    <tr>\n",
       "      <th>4</th>\n",
       "      <td>Landing Page Submission</td>\n",
       "      <td>Google</td>\n",
       "      <td>No</td>\n",
       "      <td>No</td>\n",
       "      <td>1</td>\n",
       "      <td>2.0</td>\n",
       "      <td>1428</td>\n",
       "      <td>1.0</td>\n",
       "      <td>Converted to Lead</td>\n",
       "      <td>India</td>\n",
       "      <td>...</td>\n",
       "      <td>No</td>\n",
       "      <td>Select</td>\n",
       "      <td>Mumbai</td>\n",
       "      <td>02.Medium</td>\n",
       "      <td>01.High</td>\n",
       "      <td>15.0</td>\n",
       "      <td>18.0</td>\n",
       "      <td>No</td>\n",
       "      <td>No</td>\n",
       "      <td>Modified</td>\n",
       "    </tr>\n",
       "  </tbody>\n",
       "</table>\n",
       "<p>5 rows × 35 columns</p>\n",
       "</div>"
      ],
      "text/plain": [
       "               Lead Origin     Lead Source Do Not Email Do Not Call  \\\n",
       "0                      API      Olark Chat           No          No   \n",
       "1                      API  Organic Search           No          No   \n",
       "2  Landing Page Submission  Direct Traffic           No          No   \n",
       "3  Landing Page Submission  Direct Traffic           No          No   \n",
       "4  Landing Page Submission          Google           No          No   \n",
       "\n",
       "   Converted  TotalVisits  Total Time Spent on Website  Page Views Per Visit  \\\n",
       "0          0          0.0                            0                   0.0   \n",
       "1          0          5.0                          674                   2.5   \n",
       "2          1          2.0                         1532                   2.0   \n",
       "3          0          1.0                          305                   1.0   \n",
       "4          1          2.0                         1428                   1.0   \n",
       "\n",
       "             Last Activity Country  ... Get updates on DM Content  \\\n",
       "0  Page Visited on Website     NaN  ...                        No   \n",
       "1             Email Opened   India  ...                        No   \n",
       "2             Email Opened   India  ...                        No   \n",
       "3              Unreachable   India  ...                        No   \n",
       "4        Converted to Lead   India  ...                        No   \n",
       "\n",
       "     Lead Profile    City Asymmetrique Activity Index  \\\n",
       "0          Select  Select                   02.Medium   \n",
       "1          Select  Select                   02.Medium   \n",
       "2  Potential Lead  Mumbai                   02.Medium   \n",
       "3          Select  Mumbai                   02.Medium   \n",
       "4          Select  Mumbai                   02.Medium   \n",
       "\n",
       "  Asymmetrique Profile Index Asymmetrique Activity Score  \\\n",
       "0                  02.Medium                        15.0   \n",
       "1                  02.Medium                        15.0   \n",
       "2                    01.High                        14.0   \n",
       "3                    01.High                        13.0   \n",
       "4                    01.High                        15.0   \n",
       "\n",
       "  Asymmetrique Profile Score I agree to pay the amount through cheque  \\\n",
       "0                       15.0                                       No   \n",
       "1                       15.0                                       No   \n",
       "2                       20.0                                       No   \n",
       "3                       17.0                                       No   \n",
       "4                       18.0                                       No   \n",
       "\n",
       "  A free copy of Mastering The Interview Last Notable Activity  \n",
       "0                                     No              Modified  \n",
       "1                                     No          Email Opened  \n",
       "2                                    Yes          Email Opened  \n",
       "3                                     No              Modified  \n",
       "4                                     No              Modified  \n",
       "\n",
       "[5 rows x 35 columns]"
      ]
     },
     "execution_count": 11,
     "metadata": {},
     "output_type": "execute_result"
    }
   ],
   "source": [
    "leads_df  = leads_df.drop(['Lead Number'],axis = 1) \n",
    "leads_df.head()"
   ]
  },
  {
   "cell_type": "markdown",
   "metadata": {},
   "source": [
    "## Replacing the 'select' option with null"
   ]
  },
  {
   "cell_type": "code",
   "execution_count": 12,
   "metadata": {},
   "outputs": [
    {
     "data": {
      "text/html": [
       "<div>\n",
       "<style scoped>\n",
       "    .dataframe tbody tr th:only-of-type {\n",
       "        vertical-align: middle;\n",
       "    }\n",
       "\n",
       "    .dataframe tbody tr th {\n",
       "        vertical-align: top;\n",
       "    }\n",
       "\n",
       "    .dataframe thead th {\n",
       "        text-align: right;\n",
       "    }\n",
       "</style>\n",
       "<table border=\"1\" class=\"dataframe\">\n",
       "  <thead>\n",
       "    <tr style=\"text-align: right;\">\n",
       "      <th></th>\n",
       "      <th>Lead Origin</th>\n",
       "      <th>Lead Source</th>\n",
       "      <th>Do Not Email</th>\n",
       "      <th>Do Not Call</th>\n",
       "      <th>Converted</th>\n",
       "      <th>TotalVisits</th>\n",
       "      <th>Total Time Spent on Website</th>\n",
       "      <th>Page Views Per Visit</th>\n",
       "      <th>Last Activity</th>\n",
       "      <th>Country</th>\n",
       "      <th>...</th>\n",
       "      <th>Get updates on DM Content</th>\n",
       "      <th>Lead Profile</th>\n",
       "      <th>City</th>\n",
       "      <th>Asymmetrique Activity Index</th>\n",
       "      <th>Asymmetrique Profile Index</th>\n",
       "      <th>Asymmetrique Activity Score</th>\n",
       "      <th>Asymmetrique Profile Score</th>\n",
       "      <th>I agree to pay the amount through cheque</th>\n",
       "      <th>A free copy of Mastering The Interview</th>\n",
       "      <th>Last Notable Activity</th>\n",
       "    </tr>\n",
       "  </thead>\n",
       "  <tbody>\n",
       "    <tr>\n",
       "      <th>0</th>\n",
       "      <td>API</td>\n",
       "      <td>Olark Chat</td>\n",
       "      <td>No</td>\n",
       "      <td>No</td>\n",
       "      <td>0</td>\n",
       "      <td>0.0</td>\n",
       "      <td>0</td>\n",
       "      <td>0.0</td>\n",
       "      <td>Page Visited on Website</td>\n",
       "      <td>NaN</td>\n",
       "      <td>...</td>\n",
       "      <td>No</td>\n",
       "      <td>NaN</td>\n",
       "      <td>Select</td>\n",
       "      <td>02.Medium</td>\n",
       "      <td>02.Medium</td>\n",
       "      <td>15.0</td>\n",
       "      <td>15.0</td>\n",
       "      <td>No</td>\n",
       "      <td>No</td>\n",
       "      <td>Modified</td>\n",
       "    </tr>\n",
       "    <tr>\n",
       "      <th>1</th>\n",
       "      <td>API</td>\n",
       "      <td>Organic Search</td>\n",
       "      <td>No</td>\n",
       "      <td>No</td>\n",
       "      <td>0</td>\n",
       "      <td>5.0</td>\n",
       "      <td>674</td>\n",
       "      <td>2.5</td>\n",
       "      <td>Email Opened</td>\n",
       "      <td>India</td>\n",
       "      <td>...</td>\n",
       "      <td>No</td>\n",
       "      <td>NaN</td>\n",
       "      <td>Select</td>\n",
       "      <td>02.Medium</td>\n",
       "      <td>02.Medium</td>\n",
       "      <td>15.0</td>\n",
       "      <td>15.0</td>\n",
       "      <td>No</td>\n",
       "      <td>No</td>\n",
       "      <td>Email Opened</td>\n",
       "    </tr>\n",
       "    <tr>\n",
       "      <th>2</th>\n",
       "      <td>Landing Page Submission</td>\n",
       "      <td>Direct Traffic</td>\n",
       "      <td>No</td>\n",
       "      <td>No</td>\n",
       "      <td>1</td>\n",
       "      <td>2.0</td>\n",
       "      <td>1532</td>\n",
       "      <td>2.0</td>\n",
       "      <td>Email Opened</td>\n",
       "      <td>India</td>\n",
       "      <td>...</td>\n",
       "      <td>No</td>\n",
       "      <td>Potential Lead</td>\n",
       "      <td>Mumbai</td>\n",
       "      <td>02.Medium</td>\n",
       "      <td>01.High</td>\n",
       "      <td>14.0</td>\n",
       "      <td>20.0</td>\n",
       "      <td>No</td>\n",
       "      <td>Yes</td>\n",
       "      <td>Email Opened</td>\n",
       "    </tr>\n",
       "    <tr>\n",
       "      <th>3</th>\n",
       "      <td>Landing Page Submission</td>\n",
       "      <td>Direct Traffic</td>\n",
       "      <td>No</td>\n",
       "      <td>No</td>\n",
       "      <td>0</td>\n",
       "      <td>1.0</td>\n",
       "      <td>305</td>\n",
       "      <td>1.0</td>\n",
       "      <td>Unreachable</td>\n",
       "      <td>India</td>\n",
       "      <td>...</td>\n",
       "      <td>No</td>\n",
       "      <td>NaN</td>\n",
       "      <td>Mumbai</td>\n",
       "      <td>02.Medium</td>\n",
       "      <td>01.High</td>\n",
       "      <td>13.0</td>\n",
       "      <td>17.0</td>\n",
       "      <td>No</td>\n",
       "      <td>No</td>\n",
       "      <td>Modified</td>\n",
       "    </tr>\n",
       "    <tr>\n",
       "      <th>4</th>\n",
       "      <td>Landing Page Submission</td>\n",
       "      <td>Google</td>\n",
       "      <td>No</td>\n",
       "      <td>No</td>\n",
       "      <td>1</td>\n",
       "      <td>2.0</td>\n",
       "      <td>1428</td>\n",
       "      <td>1.0</td>\n",
       "      <td>Converted to Lead</td>\n",
       "      <td>India</td>\n",
       "      <td>...</td>\n",
       "      <td>No</td>\n",
       "      <td>NaN</td>\n",
       "      <td>Mumbai</td>\n",
       "      <td>02.Medium</td>\n",
       "      <td>01.High</td>\n",
       "      <td>15.0</td>\n",
       "      <td>18.0</td>\n",
       "      <td>No</td>\n",
       "      <td>No</td>\n",
       "      <td>Modified</td>\n",
       "    </tr>\n",
       "  </tbody>\n",
       "</table>\n",
       "<p>5 rows × 35 columns</p>\n",
       "</div>"
      ],
      "text/plain": [
       "               Lead Origin     Lead Source Do Not Email Do Not Call  \\\n",
       "0                      API      Olark Chat           No          No   \n",
       "1                      API  Organic Search           No          No   \n",
       "2  Landing Page Submission  Direct Traffic           No          No   \n",
       "3  Landing Page Submission  Direct Traffic           No          No   \n",
       "4  Landing Page Submission          Google           No          No   \n",
       "\n",
       "   Converted  TotalVisits  Total Time Spent on Website  Page Views Per Visit  \\\n",
       "0          0          0.0                            0                   0.0   \n",
       "1          0          5.0                          674                   2.5   \n",
       "2          1          2.0                         1532                   2.0   \n",
       "3          0          1.0                          305                   1.0   \n",
       "4          1          2.0                         1428                   1.0   \n",
       "\n",
       "             Last Activity Country  ... Get updates on DM Content  \\\n",
       "0  Page Visited on Website     NaN  ...                        No   \n",
       "1             Email Opened   India  ...                        No   \n",
       "2             Email Opened   India  ...                        No   \n",
       "3              Unreachable   India  ...                        No   \n",
       "4        Converted to Lead   India  ...                        No   \n",
       "\n",
       "     Lead Profile    City Asymmetrique Activity Index  \\\n",
       "0             NaN  Select                   02.Medium   \n",
       "1             NaN  Select                   02.Medium   \n",
       "2  Potential Lead  Mumbai                   02.Medium   \n",
       "3             NaN  Mumbai                   02.Medium   \n",
       "4             NaN  Mumbai                   02.Medium   \n",
       "\n",
       "  Asymmetrique Profile Index Asymmetrique Activity Score  \\\n",
       "0                  02.Medium                        15.0   \n",
       "1                  02.Medium                        15.0   \n",
       "2                    01.High                        14.0   \n",
       "3                    01.High                        13.0   \n",
       "4                    01.High                        15.0   \n",
       "\n",
       "  Asymmetrique Profile Score I agree to pay the amount through cheque  \\\n",
       "0                       15.0                                       No   \n",
       "1                       15.0                                       No   \n",
       "2                       20.0                                       No   \n",
       "3                       17.0                                       No   \n",
       "4                       18.0                                       No   \n",
       "\n",
       "  A free copy of Mastering The Interview Last Notable Activity  \n",
       "0                                     No              Modified  \n",
       "1                                     No          Email Opened  \n",
       "2                                    Yes          Email Opened  \n",
       "3                                     No              Modified  \n",
       "4                                     No              Modified  \n",
       "\n",
       "[5 rows x 35 columns]"
      ]
     },
     "execution_count": 12,
     "metadata": {},
     "output_type": "execute_result"
    }
   ],
   "source": [
    "leads_df['Lead Profile'] = leads_df['Lead Profile'].replace('Select',np.NaN)\n",
    "leads_df.head()\n"
   ]
  },
  {
   "cell_type": "code",
   "execution_count": 13,
   "metadata": {},
   "outputs": [
    {
     "data": {
      "text/html": [
       "<div>\n",
       "<style scoped>\n",
       "    .dataframe tbody tr th:only-of-type {\n",
       "        vertical-align: middle;\n",
       "    }\n",
       "\n",
       "    .dataframe tbody tr th {\n",
       "        vertical-align: top;\n",
       "    }\n",
       "\n",
       "    .dataframe thead th {\n",
       "        text-align: right;\n",
       "    }\n",
       "</style>\n",
       "<table border=\"1\" class=\"dataframe\">\n",
       "  <thead>\n",
       "    <tr style=\"text-align: right;\">\n",
       "      <th></th>\n",
       "      <th>Lead Origin</th>\n",
       "      <th>Lead Source</th>\n",
       "      <th>Do Not Email</th>\n",
       "      <th>Do Not Call</th>\n",
       "      <th>Converted</th>\n",
       "      <th>TotalVisits</th>\n",
       "      <th>Total Time Spent on Website</th>\n",
       "      <th>Page Views Per Visit</th>\n",
       "      <th>Last Activity</th>\n",
       "      <th>Country</th>\n",
       "      <th>...</th>\n",
       "      <th>Get updates on DM Content</th>\n",
       "      <th>Lead Profile</th>\n",
       "      <th>City</th>\n",
       "      <th>Asymmetrique Activity Index</th>\n",
       "      <th>Asymmetrique Profile Index</th>\n",
       "      <th>Asymmetrique Activity Score</th>\n",
       "      <th>Asymmetrique Profile Score</th>\n",
       "      <th>I agree to pay the amount through cheque</th>\n",
       "      <th>A free copy of Mastering The Interview</th>\n",
       "      <th>Last Notable Activity</th>\n",
       "    </tr>\n",
       "  </thead>\n",
       "  <tbody>\n",
       "    <tr>\n",
       "      <th>0</th>\n",
       "      <td>API</td>\n",
       "      <td>Olark Chat</td>\n",
       "      <td>No</td>\n",
       "      <td>No</td>\n",
       "      <td>0</td>\n",
       "      <td>0.0</td>\n",
       "      <td>0</td>\n",
       "      <td>0.0</td>\n",
       "      <td>Page Visited on Website</td>\n",
       "      <td>NaN</td>\n",
       "      <td>...</td>\n",
       "      <td>No</td>\n",
       "      <td>NaN</td>\n",
       "      <td>NaN</td>\n",
       "      <td>02.Medium</td>\n",
       "      <td>02.Medium</td>\n",
       "      <td>15.0</td>\n",
       "      <td>15.0</td>\n",
       "      <td>No</td>\n",
       "      <td>No</td>\n",
       "      <td>Modified</td>\n",
       "    </tr>\n",
       "    <tr>\n",
       "      <th>1</th>\n",
       "      <td>API</td>\n",
       "      <td>Organic Search</td>\n",
       "      <td>No</td>\n",
       "      <td>No</td>\n",
       "      <td>0</td>\n",
       "      <td>5.0</td>\n",
       "      <td>674</td>\n",
       "      <td>2.5</td>\n",
       "      <td>Email Opened</td>\n",
       "      <td>India</td>\n",
       "      <td>...</td>\n",
       "      <td>No</td>\n",
       "      <td>NaN</td>\n",
       "      <td>NaN</td>\n",
       "      <td>02.Medium</td>\n",
       "      <td>02.Medium</td>\n",
       "      <td>15.0</td>\n",
       "      <td>15.0</td>\n",
       "      <td>No</td>\n",
       "      <td>No</td>\n",
       "      <td>Email Opened</td>\n",
       "    </tr>\n",
       "    <tr>\n",
       "      <th>2</th>\n",
       "      <td>Landing Page Submission</td>\n",
       "      <td>Direct Traffic</td>\n",
       "      <td>No</td>\n",
       "      <td>No</td>\n",
       "      <td>1</td>\n",
       "      <td>2.0</td>\n",
       "      <td>1532</td>\n",
       "      <td>2.0</td>\n",
       "      <td>Email Opened</td>\n",
       "      <td>India</td>\n",
       "      <td>...</td>\n",
       "      <td>No</td>\n",
       "      <td>Potential Lead</td>\n",
       "      <td>Mumbai</td>\n",
       "      <td>02.Medium</td>\n",
       "      <td>01.High</td>\n",
       "      <td>14.0</td>\n",
       "      <td>20.0</td>\n",
       "      <td>No</td>\n",
       "      <td>Yes</td>\n",
       "      <td>Email Opened</td>\n",
       "    </tr>\n",
       "    <tr>\n",
       "      <th>3</th>\n",
       "      <td>Landing Page Submission</td>\n",
       "      <td>Direct Traffic</td>\n",
       "      <td>No</td>\n",
       "      <td>No</td>\n",
       "      <td>0</td>\n",
       "      <td>1.0</td>\n",
       "      <td>305</td>\n",
       "      <td>1.0</td>\n",
       "      <td>Unreachable</td>\n",
       "      <td>India</td>\n",
       "      <td>...</td>\n",
       "      <td>No</td>\n",
       "      <td>NaN</td>\n",
       "      <td>Mumbai</td>\n",
       "      <td>02.Medium</td>\n",
       "      <td>01.High</td>\n",
       "      <td>13.0</td>\n",
       "      <td>17.0</td>\n",
       "      <td>No</td>\n",
       "      <td>No</td>\n",
       "      <td>Modified</td>\n",
       "    </tr>\n",
       "    <tr>\n",
       "      <th>4</th>\n",
       "      <td>Landing Page Submission</td>\n",
       "      <td>Google</td>\n",
       "      <td>No</td>\n",
       "      <td>No</td>\n",
       "      <td>1</td>\n",
       "      <td>2.0</td>\n",
       "      <td>1428</td>\n",
       "      <td>1.0</td>\n",
       "      <td>Converted to Lead</td>\n",
       "      <td>India</td>\n",
       "      <td>...</td>\n",
       "      <td>No</td>\n",
       "      <td>NaN</td>\n",
       "      <td>Mumbai</td>\n",
       "      <td>02.Medium</td>\n",
       "      <td>01.High</td>\n",
       "      <td>15.0</td>\n",
       "      <td>18.0</td>\n",
       "      <td>No</td>\n",
       "      <td>No</td>\n",
       "      <td>Modified</td>\n",
       "    </tr>\n",
       "  </tbody>\n",
       "</table>\n",
       "<p>5 rows × 35 columns</p>\n",
       "</div>"
      ],
      "text/plain": [
       "               Lead Origin     Lead Source Do Not Email Do Not Call  \\\n",
       "0                      API      Olark Chat           No          No   \n",
       "1                      API  Organic Search           No          No   \n",
       "2  Landing Page Submission  Direct Traffic           No          No   \n",
       "3  Landing Page Submission  Direct Traffic           No          No   \n",
       "4  Landing Page Submission          Google           No          No   \n",
       "\n",
       "   Converted  TotalVisits  Total Time Spent on Website  Page Views Per Visit  \\\n",
       "0          0          0.0                            0                   0.0   \n",
       "1          0          5.0                          674                   2.5   \n",
       "2          1          2.0                         1532                   2.0   \n",
       "3          0          1.0                          305                   1.0   \n",
       "4          1          2.0                         1428                   1.0   \n",
       "\n",
       "             Last Activity Country  ... Get updates on DM Content  \\\n",
       "0  Page Visited on Website     NaN  ...                        No   \n",
       "1             Email Opened   India  ...                        No   \n",
       "2             Email Opened   India  ...                        No   \n",
       "3              Unreachable   India  ...                        No   \n",
       "4        Converted to Lead   India  ...                        No   \n",
       "\n",
       "     Lead Profile    City Asymmetrique Activity Index  \\\n",
       "0             NaN     NaN                   02.Medium   \n",
       "1             NaN     NaN                   02.Medium   \n",
       "2  Potential Lead  Mumbai                   02.Medium   \n",
       "3             NaN  Mumbai                   02.Medium   \n",
       "4             NaN  Mumbai                   02.Medium   \n",
       "\n",
       "  Asymmetrique Profile Index Asymmetrique Activity Score  \\\n",
       "0                  02.Medium                        15.0   \n",
       "1                  02.Medium                        15.0   \n",
       "2                    01.High                        14.0   \n",
       "3                    01.High                        13.0   \n",
       "4                    01.High                        15.0   \n",
       "\n",
       "  Asymmetrique Profile Score I agree to pay the amount through cheque  \\\n",
       "0                       15.0                                       No   \n",
       "1                       15.0                                       No   \n",
       "2                       20.0                                       No   \n",
       "3                       17.0                                       No   \n",
       "4                       18.0                                       No   \n",
       "\n",
       "  A free copy of Mastering The Interview Last Notable Activity  \n",
       "0                                     No              Modified  \n",
       "1                                     No          Email Opened  \n",
       "2                                    Yes          Email Opened  \n",
       "3                                     No              Modified  \n",
       "4                                     No              Modified  \n",
       "\n",
       "[5 rows x 35 columns]"
      ]
     },
     "execution_count": 13,
     "metadata": {},
     "output_type": "execute_result"
    }
   ],
   "source": [
    "leads_df['City'] = leads_df['City'].replace('Select',np.NaN)\n",
    "leads_df.head()\n"
   ]
  },
  {
   "cell_type": "code",
   "execution_count": 14,
   "metadata": {},
   "outputs": [
    {
     "data": {
      "text/html": [
       "<div>\n",
       "<style scoped>\n",
       "    .dataframe tbody tr th:only-of-type {\n",
       "        vertical-align: middle;\n",
       "    }\n",
       "\n",
       "    .dataframe tbody tr th {\n",
       "        vertical-align: top;\n",
       "    }\n",
       "\n",
       "    .dataframe thead th {\n",
       "        text-align: right;\n",
       "    }\n",
       "</style>\n",
       "<table border=\"1\" class=\"dataframe\">\n",
       "  <thead>\n",
       "    <tr style=\"text-align: right;\">\n",
       "      <th></th>\n",
       "      <th>Lead Origin</th>\n",
       "      <th>Lead Source</th>\n",
       "      <th>Do Not Email</th>\n",
       "      <th>Do Not Call</th>\n",
       "      <th>Converted</th>\n",
       "      <th>TotalVisits</th>\n",
       "      <th>Total Time Spent on Website</th>\n",
       "      <th>Page Views Per Visit</th>\n",
       "      <th>Last Activity</th>\n",
       "      <th>Country</th>\n",
       "      <th>...</th>\n",
       "      <th>Get updates on DM Content</th>\n",
       "      <th>Lead Profile</th>\n",
       "      <th>City</th>\n",
       "      <th>Asymmetrique Activity Index</th>\n",
       "      <th>Asymmetrique Profile Index</th>\n",
       "      <th>Asymmetrique Activity Score</th>\n",
       "      <th>Asymmetrique Profile Score</th>\n",
       "      <th>I agree to pay the amount through cheque</th>\n",
       "      <th>A free copy of Mastering The Interview</th>\n",
       "      <th>Last Notable Activity</th>\n",
       "    </tr>\n",
       "  </thead>\n",
       "  <tbody>\n",
       "    <tr>\n",
       "      <th>0</th>\n",
       "      <td>API</td>\n",
       "      <td>Olark Chat</td>\n",
       "      <td>No</td>\n",
       "      <td>No</td>\n",
       "      <td>0</td>\n",
       "      <td>0.0</td>\n",
       "      <td>0</td>\n",
       "      <td>0.0</td>\n",
       "      <td>Page Visited on Website</td>\n",
       "      <td>NaN</td>\n",
       "      <td>...</td>\n",
       "      <td>No</td>\n",
       "      <td>NaN</td>\n",
       "      <td>NaN</td>\n",
       "      <td>02.Medium</td>\n",
       "      <td>02.Medium</td>\n",
       "      <td>15.0</td>\n",
       "      <td>15.0</td>\n",
       "      <td>No</td>\n",
       "      <td>No</td>\n",
       "      <td>Modified</td>\n",
       "    </tr>\n",
       "    <tr>\n",
       "      <th>1</th>\n",
       "      <td>API</td>\n",
       "      <td>Organic Search</td>\n",
       "      <td>No</td>\n",
       "      <td>No</td>\n",
       "      <td>0</td>\n",
       "      <td>5.0</td>\n",
       "      <td>674</td>\n",
       "      <td>2.5</td>\n",
       "      <td>Email Opened</td>\n",
       "      <td>India</td>\n",
       "      <td>...</td>\n",
       "      <td>No</td>\n",
       "      <td>NaN</td>\n",
       "      <td>NaN</td>\n",
       "      <td>02.Medium</td>\n",
       "      <td>02.Medium</td>\n",
       "      <td>15.0</td>\n",
       "      <td>15.0</td>\n",
       "      <td>No</td>\n",
       "      <td>No</td>\n",
       "      <td>Email Opened</td>\n",
       "    </tr>\n",
       "    <tr>\n",
       "      <th>2</th>\n",
       "      <td>Landing Page Submission</td>\n",
       "      <td>Direct Traffic</td>\n",
       "      <td>No</td>\n",
       "      <td>No</td>\n",
       "      <td>1</td>\n",
       "      <td>2.0</td>\n",
       "      <td>1532</td>\n",
       "      <td>2.0</td>\n",
       "      <td>Email Opened</td>\n",
       "      <td>India</td>\n",
       "      <td>...</td>\n",
       "      <td>No</td>\n",
       "      <td>Potential Lead</td>\n",
       "      <td>Mumbai</td>\n",
       "      <td>02.Medium</td>\n",
       "      <td>01.High</td>\n",
       "      <td>14.0</td>\n",
       "      <td>20.0</td>\n",
       "      <td>No</td>\n",
       "      <td>Yes</td>\n",
       "      <td>Email Opened</td>\n",
       "    </tr>\n",
       "    <tr>\n",
       "      <th>3</th>\n",
       "      <td>Landing Page Submission</td>\n",
       "      <td>Direct Traffic</td>\n",
       "      <td>No</td>\n",
       "      <td>No</td>\n",
       "      <td>0</td>\n",
       "      <td>1.0</td>\n",
       "      <td>305</td>\n",
       "      <td>1.0</td>\n",
       "      <td>Unreachable</td>\n",
       "      <td>India</td>\n",
       "      <td>...</td>\n",
       "      <td>No</td>\n",
       "      <td>NaN</td>\n",
       "      <td>Mumbai</td>\n",
       "      <td>02.Medium</td>\n",
       "      <td>01.High</td>\n",
       "      <td>13.0</td>\n",
       "      <td>17.0</td>\n",
       "      <td>No</td>\n",
       "      <td>No</td>\n",
       "      <td>Modified</td>\n",
       "    </tr>\n",
       "    <tr>\n",
       "      <th>4</th>\n",
       "      <td>Landing Page Submission</td>\n",
       "      <td>Google</td>\n",
       "      <td>No</td>\n",
       "      <td>No</td>\n",
       "      <td>1</td>\n",
       "      <td>2.0</td>\n",
       "      <td>1428</td>\n",
       "      <td>1.0</td>\n",
       "      <td>Converted to Lead</td>\n",
       "      <td>India</td>\n",
       "      <td>...</td>\n",
       "      <td>No</td>\n",
       "      <td>NaN</td>\n",
       "      <td>Mumbai</td>\n",
       "      <td>02.Medium</td>\n",
       "      <td>01.High</td>\n",
       "      <td>15.0</td>\n",
       "      <td>18.0</td>\n",
       "      <td>No</td>\n",
       "      <td>No</td>\n",
       "      <td>Modified</td>\n",
       "    </tr>\n",
       "  </tbody>\n",
       "</table>\n",
       "<p>5 rows × 35 columns</p>\n",
       "</div>"
      ],
      "text/plain": [
       "               Lead Origin     Lead Source Do Not Email Do Not Call  \\\n",
       "0                      API      Olark Chat           No          No   \n",
       "1                      API  Organic Search           No          No   \n",
       "2  Landing Page Submission  Direct Traffic           No          No   \n",
       "3  Landing Page Submission  Direct Traffic           No          No   \n",
       "4  Landing Page Submission          Google           No          No   \n",
       "\n",
       "   Converted  TotalVisits  Total Time Spent on Website  Page Views Per Visit  \\\n",
       "0          0          0.0                            0                   0.0   \n",
       "1          0          5.0                          674                   2.5   \n",
       "2          1          2.0                         1532                   2.0   \n",
       "3          0          1.0                          305                   1.0   \n",
       "4          1          2.0                         1428                   1.0   \n",
       "\n",
       "             Last Activity Country  ... Get updates on DM Content  \\\n",
       "0  Page Visited on Website     NaN  ...                        No   \n",
       "1             Email Opened   India  ...                        No   \n",
       "2             Email Opened   India  ...                        No   \n",
       "3              Unreachable   India  ...                        No   \n",
       "4        Converted to Lead   India  ...                        No   \n",
       "\n",
       "     Lead Profile    City Asymmetrique Activity Index  \\\n",
       "0             NaN     NaN                   02.Medium   \n",
       "1             NaN     NaN                   02.Medium   \n",
       "2  Potential Lead  Mumbai                   02.Medium   \n",
       "3             NaN  Mumbai                   02.Medium   \n",
       "4             NaN  Mumbai                   02.Medium   \n",
       "\n",
       "  Asymmetrique Profile Index Asymmetrique Activity Score  \\\n",
       "0                  02.Medium                        15.0   \n",
       "1                  02.Medium                        15.0   \n",
       "2                    01.High                        14.0   \n",
       "3                    01.High                        13.0   \n",
       "4                    01.High                        15.0   \n",
       "\n",
       "  Asymmetrique Profile Score I agree to pay the amount through cheque  \\\n",
       "0                       15.0                                       No   \n",
       "1                       15.0                                       No   \n",
       "2                       20.0                                       No   \n",
       "3                       17.0                                       No   \n",
       "4                       18.0                                       No   \n",
       "\n",
       "  A free copy of Mastering The Interview Last Notable Activity  \n",
       "0                                     No              Modified  \n",
       "1                                     No          Email Opened  \n",
       "2                                    Yes          Email Opened  \n",
       "3                                     No              Modified  \n",
       "4                                     No              Modified  \n",
       "\n",
       "[5 rows x 35 columns]"
      ]
     },
     "execution_count": 14,
     "metadata": {},
     "output_type": "execute_result"
    }
   ],
   "source": [
    "leads_df['Specialization'] = leads_df['Specialization'].replace('Select',np.NaN)\n",
    "leads_df.head()\n"
   ]
  },
  {
   "cell_type": "code",
   "execution_count": 15,
   "metadata": {},
   "outputs": [
    {
     "data": {
      "text/html": [
       "<div>\n",
       "<style scoped>\n",
       "    .dataframe tbody tr th:only-of-type {\n",
       "        vertical-align: middle;\n",
       "    }\n",
       "\n",
       "    .dataframe tbody tr th {\n",
       "        vertical-align: top;\n",
       "    }\n",
       "\n",
       "    .dataframe thead th {\n",
       "        text-align: right;\n",
       "    }\n",
       "</style>\n",
       "<table border=\"1\" class=\"dataframe\">\n",
       "  <thead>\n",
       "    <tr style=\"text-align: right;\">\n",
       "      <th></th>\n",
       "      <th>Lead Origin</th>\n",
       "      <th>Lead Source</th>\n",
       "      <th>Do Not Email</th>\n",
       "      <th>Do Not Call</th>\n",
       "      <th>Converted</th>\n",
       "      <th>TotalVisits</th>\n",
       "      <th>Total Time Spent on Website</th>\n",
       "      <th>Page Views Per Visit</th>\n",
       "      <th>Last Activity</th>\n",
       "      <th>Country</th>\n",
       "      <th>...</th>\n",
       "      <th>Lead Profile</th>\n",
       "      <th>City</th>\n",
       "      <th>Asymmetrique Activity Index</th>\n",
       "      <th>Asymmetrique Profile Index</th>\n",
       "      <th>Asymmetrique Activity Score</th>\n",
       "      <th>Asymmetrique Profile Score</th>\n",
       "      <th>I agree to pay the amount through cheque</th>\n",
       "      <th>A free copy of Mastering The Interview</th>\n",
       "      <th>Last Notable Activity</th>\n",
       "      <th>How did you hear about X Education</th>\n",
       "    </tr>\n",
       "  </thead>\n",
       "  <tbody>\n",
       "    <tr>\n",
       "      <th>0</th>\n",
       "      <td>API</td>\n",
       "      <td>Olark Chat</td>\n",
       "      <td>No</td>\n",
       "      <td>No</td>\n",
       "      <td>0</td>\n",
       "      <td>0.0</td>\n",
       "      <td>0</td>\n",
       "      <td>0.0</td>\n",
       "      <td>Page Visited on Website</td>\n",
       "      <td>NaN</td>\n",
       "      <td>...</td>\n",
       "      <td>NaN</td>\n",
       "      <td>NaN</td>\n",
       "      <td>02.Medium</td>\n",
       "      <td>02.Medium</td>\n",
       "      <td>15.0</td>\n",
       "      <td>15.0</td>\n",
       "      <td>No</td>\n",
       "      <td>No</td>\n",
       "      <td>Modified</td>\n",
       "      <td>NaN</td>\n",
       "    </tr>\n",
       "    <tr>\n",
       "      <th>1</th>\n",
       "      <td>API</td>\n",
       "      <td>Organic Search</td>\n",
       "      <td>No</td>\n",
       "      <td>No</td>\n",
       "      <td>0</td>\n",
       "      <td>5.0</td>\n",
       "      <td>674</td>\n",
       "      <td>2.5</td>\n",
       "      <td>Email Opened</td>\n",
       "      <td>India</td>\n",
       "      <td>...</td>\n",
       "      <td>NaN</td>\n",
       "      <td>NaN</td>\n",
       "      <td>02.Medium</td>\n",
       "      <td>02.Medium</td>\n",
       "      <td>15.0</td>\n",
       "      <td>15.0</td>\n",
       "      <td>No</td>\n",
       "      <td>No</td>\n",
       "      <td>Email Opened</td>\n",
       "      <td>NaN</td>\n",
       "    </tr>\n",
       "    <tr>\n",
       "      <th>2</th>\n",
       "      <td>Landing Page Submission</td>\n",
       "      <td>Direct Traffic</td>\n",
       "      <td>No</td>\n",
       "      <td>No</td>\n",
       "      <td>1</td>\n",
       "      <td>2.0</td>\n",
       "      <td>1532</td>\n",
       "      <td>2.0</td>\n",
       "      <td>Email Opened</td>\n",
       "      <td>India</td>\n",
       "      <td>...</td>\n",
       "      <td>Potential Lead</td>\n",
       "      <td>Mumbai</td>\n",
       "      <td>02.Medium</td>\n",
       "      <td>01.High</td>\n",
       "      <td>14.0</td>\n",
       "      <td>20.0</td>\n",
       "      <td>No</td>\n",
       "      <td>Yes</td>\n",
       "      <td>Email Opened</td>\n",
       "      <td>NaN</td>\n",
       "    </tr>\n",
       "    <tr>\n",
       "      <th>3</th>\n",
       "      <td>Landing Page Submission</td>\n",
       "      <td>Direct Traffic</td>\n",
       "      <td>No</td>\n",
       "      <td>No</td>\n",
       "      <td>0</td>\n",
       "      <td>1.0</td>\n",
       "      <td>305</td>\n",
       "      <td>1.0</td>\n",
       "      <td>Unreachable</td>\n",
       "      <td>India</td>\n",
       "      <td>...</td>\n",
       "      <td>NaN</td>\n",
       "      <td>Mumbai</td>\n",
       "      <td>02.Medium</td>\n",
       "      <td>01.High</td>\n",
       "      <td>13.0</td>\n",
       "      <td>17.0</td>\n",
       "      <td>No</td>\n",
       "      <td>No</td>\n",
       "      <td>Modified</td>\n",
       "      <td>Word Of Mouth</td>\n",
       "    </tr>\n",
       "    <tr>\n",
       "      <th>4</th>\n",
       "      <td>Landing Page Submission</td>\n",
       "      <td>Google</td>\n",
       "      <td>No</td>\n",
       "      <td>No</td>\n",
       "      <td>1</td>\n",
       "      <td>2.0</td>\n",
       "      <td>1428</td>\n",
       "      <td>1.0</td>\n",
       "      <td>Converted to Lead</td>\n",
       "      <td>India</td>\n",
       "      <td>...</td>\n",
       "      <td>NaN</td>\n",
       "      <td>Mumbai</td>\n",
       "      <td>02.Medium</td>\n",
       "      <td>01.High</td>\n",
       "      <td>15.0</td>\n",
       "      <td>18.0</td>\n",
       "      <td>No</td>\n",
       "      <td>No</td>\n",
       "      <td>Modified</td>\n",
       "      <td>Other</td>\n",
       "    </tr>\n",
       "  </tbody>\n",
       "</table>\n",
       "<p>5 rows × 36 columns</p>\n",
       "</div>"
      ],
      "text/plain": [
       "               Lead Origin     Lead Source Do Not Email Do Not Call  \\\n",
       "0                      API      Olark Chat           No          No   \n",
       "1                      API  Organic Search           No          No   \n",
       "2  Landing Page Submission  Direct Traffic           No          No   \n",
       "3  Landing Page Submission  Direct Traffic           No          No   \n",
       "4  Landing Page Submission          Google           No          No   \n",
       "\n",
       "   Converted  TotalVisits  Total Time Spent on Website  Page Views Per Visit  \\\n",
       "0          0          0.0                            0                   0.0   \n",
       "1          0          5.0                          674                   2.5   \n",
       "2          1          2.0                         1532                   2.0   \n",
       "3          0          1.0                          305                   1.0   \n",
       "4          1          2.0                         1428                   1.0   \n",
       "\n",
       "             Last Activity Country  ...    Lead Profile    City  \\\n",
       "0  Page Visited on Website     NaN  ...             NaN     NaN   \n",
       "1             Email Opened   India  ...             NaN     NaN   \n",
       "2             Email Opened   India  ...  Potential Lead  Mumbai   \n",
       "3              Unreachable   India  ...             NaN  Mumbai   \n",
       "4        Converted to Lead   India  ...             NaN  Mumbai   \n",
       "\n",
       "  Asymmetrique Activity Index Asymmetrique Profile Index  \\\n",
       "0                   02.Medium                  02.Medium   \n",
       "1                   02.Medium                  02.Medium   \n",
       "2                   02.Medium                    01.High   \n",
       "3                   02.Medium                    01.High   \n",
       "4                   02.Medium                    01.High   \n",
       "\n",
       "  Asymmetrique Activity Score Asymmetrique Profile Score  \\\n",
       "0                        15.0                       15.0   \n",
       "1                        15.0                       15.0   \n",
       "2                        14.0                       20.0   \n",
       "3                        13.0                       17.0   \n",
       "4                        15.0                       18.0   \n",
       "\n",
       "  I agree to pay the amount through cheque  \\\n",
       "0                                       No   \n",
       "1                                       No   \n",
       "2                                       No   \n",
       "3                                       No   \n",
       "4                                       No   \n",
       "\n",
       "  A free copy of Mastering The Interview Last Notable Activity  \\\n",
       "0                                     No              Modified   \n",
       "1                                     No          Email Opened   \n",
       "2                                    Yes          Email Opened   \n",
       "3                                     No              Modified   \n",
       "4                                     No              Modified   \n",
       "\n",
       "  How did you hear about X Education   \n",
       "0                                 NaN  \n",
       "1                                 NaN  \n",
       "2                                 NaN  \n",
       "3                       Word Of Mouth  \n",
       "4                               Other  \n",
       "\n",
       "[5 rows x 36 columns]"
      ]
     },
     "execution_count": 15,
     "metadata": {},
     "output_type": "execute_result"
    }
   ],
   "source": [
    "leads_df['How did you hear about X Education '] = leads_df['How did you hear about X Education'].replace('Select',np.NaN)\n",
    "leads_df.head()\n"
   ]
  },
  {
   "cell_type": "code",
   "execution_count": 16,
   "metadata": {},
   "outputs": [
    {
     "data": {
      "text/html": [
       "<div>\n",
       "<style scoped>\n",
       "    .dataframe tbody tr th:only-of-type {\n",
       "        vertical-align: middle;\n",
       "    }\n",
       "\n",
       "    .dataframe tbody tr th {\n",
       "        vertical-align: top;\n",
       "    }\n",
       "\n",
       "    .dataframe thead th {\n",
       "        text-align: right;\n",
       "    }\n",
       "</style>\n",
       "<table border=\"1\" class=\"dataframe\">\n",
       "  <thead>\n",
       "    <tr style=\"text-align: right;\">\n",
       "      <th></th>\n",
       "      <th>Lead Origin</th>\n",
       "      <th>Lead Source</th>\n",
       "      <th>Do Not Email</th>\n",
       "      <th>Do Not Call</th>\n",
       "      <th>Converted</th>\n",
       "      <th>TotalVisits</th>\n",
       "      <th>Total Time Spent on Website</th>\n",
       "      <th>Page Views Per Visit</th>\n",
       "      <th>Last Activity</th>\n",
       "      <th>Country</th>\n",
       "      <th>...</th>\n",
       "      <th>Lead Profile</th>\n",
       "      <th>City</th>\n",
       "      <th>Asymmetrique Activity Index</th>\n",
       "      <th>Asymmetrique Profile Index</th>\n",
       "      <th>Asymmetrique Activity Score</th>\n",
       "      <th>Asymmetrique Profile Score</th>\n",
       "      <th>I agree to pay the amount through cheque</th>\n",
       "      <th>A free copy of Mastering The Interview</th>\n",
       "      <th>Last Notable Activity</th>\n",
       "      <th>How did you hear about X Education</th>\n",
       "    </tr>\n",
       "  </thead>\n",
       "  <tbody>\n",
       "    <tr>\n",
       "      <th>0</th>\n",
       "      <td>API</td>\n",
       "      <td>Olark Chat</td>\n",
       "      <td>No</td>\n",
       "      <td>No</td>\n",
       "      <td>0</td>\n",
       "      <td>0.0</td>\n",
       "      <td>0</td>\n",
       "      <td>0.0</td>\n",
       "      <td>Page Visited on Website</td>\n",
       "      <td>NaN</td>\n",
       "      <td>...</td>\n",
       "      <td>NaN</td>\n",
       "      <td>NaN</td>\n",
       "      <td>02.Medium</td>\n",
       "      <td>02.Medium</td>\n",
       "      <td>15.0</td>\n",
       "      <td>15.0</td>\n",
       "      <td>No</td>\n",
       "      <td>No</td>\n",
       "      <td>Modified</td>\n",
       "      <td>NaN</td>\n",
       "    </tr>\n",
       "    <tr>\n",
       "      <th>1</th>\n",
       "      <td>API</td>\n",
       "      <td>Organic Search</td>\n",
       "      <td>No</td>\n",
       "      <td>No</td>\n",
       "      <td>0</td>\n",
       "      <td>5.0</td>\n",
       "      <td>674</td>\n",
       "      <td>2.5</td>\n",
       "      <td>Email Opened</td>\n",
       "      <td>India</td>\n",
       "      <td>...</td>\n",
       "      <td>NaN</td>\n",
       "      <td>NaN</td>\n",
       "      <td>02.Medium</td>\n",
       "      <td>02.Medium</td>\n",
       "      <td>15.0</td>\n",
       "      <td>15.0</td>\n",
       "      <td>No</td>\n",
       "      <td>No</td>\n",
       "      <td>Email Opened</td>\n",
       "      <td>NaN</td>\n",
       "    </tr>\n",
       "    <tr>\n",
       "      <th>2</th>\n",
       "      <td>Landing Page Submission</td>\n",
       "      <td>Direct Traffic</td>\n",
       "      <td>No</td>\n",
       "      <td>No</td>\n",
       "      <td>1</td>\n",
       "      <td>2.0</td>\n",
       "      <td>1532</td>\n",
       "      <td>2.0</td>\n",
       "      <td>Email Opened</td>\n",
       "      <td>India</td>\n",
       "      <td>...</td>\n",
       "      <td>Potential Lead</td>\n",
       "      <td>Mumbai</td>\n",
       "      <td>02.Medium</td>\n",
       "      <td>01.High</td>\n",
       "      <td>14.0</td>\n",
       "      <td>20.0</td>\n",
       "      <td>No</td>\n",
       "      <td>Yes</td>\n",
       "      <td>Email Opened</td>\n",
       "      <td>NaN</td>\n",
       "    </tr>\n",
       "    <tr>\n",
       "      <th>3</th>\n",
       "      <td>Landing Page Submission</td>\n",
       "      <td>Direct Traffic</td>\n",
       "      <td>No</td>\n",
       "      <td>No</td>\n",
       "      <td>0</td>\n",
       "      <td>1.0</td>\n",
       "      <td>305</td>\n",
       "      <td>1.0</td>\n",
       "      <td>Unreachable</td>\n",
       "      <td>India</td>\n",
       "      <td>...</td>\n",
       "      <td>NaN</td>\n",
       "      <td>Mumbai</td>\n",
       "      <td>02.Medium</td>\n",
       "      <td>01.High</td>\n",
       "      <td>13.0</td>\n",
       "      <td>17.0</td>\n",
       "      <td>No</td>\n",
       "      <td>No</td>\n",
       "      <td>Modified</td>\n",
       "      <td>Word Of Mouth</td>\n",
       "    </tr>\n",
       "    <tr>\n",
       "      <th>4</th>\n",
       "      <td>Landing Page Submission</td>\n",
       "      <td>Google</td>\n",
       "      <td>No</td>\n",
       "      <td>No</td>\n",
       "      <td>1</td>\n",
       "      <td>2.0</td>\n",
       "      <td>1428</td>\n",
       "      <td>1.0</td>\n",
       "      <td>Converted to Lead</td>\n",
       "      <td>India</td>\n",
       "      <td>...</td>\n",
       "      <td>NaN</td>\n",
       "      <td>Mumbai</td>\n",
       "      <td>02.Medium</td>\n",
       "      <td>01.High</td>\n",
       "      <td>15.0</td>\n",
       "      <td>18.0</td>\n",
       "      <td>No</td>\n",
       "      <td>No</td>\n",
       "      <td>Modified</td>\n",
       "      <td>Other</td>\n",
       "    </tr>\n",
       "  </tbody>\n",
       "</table>\n",
       "<p>5 rows × 35 columns</p>\n",
       "</div>"
      ],
      "text/plain": [
       "               Lead Origin     Lead Source Do Not Email Do Not Call  \\\n",
       "0                      API      Olark Chat           No          No   \n",
       "1                      API  Organic Search           No          No   \n",
       "2  Landing Page Submission  Direct Traffic           No          No   \n",
       "3  Landing Page Submission  Direct Traffic           No          No   \n",
       "4  Landing Page Submission          Google           No          No   \n",
       "\n",
       "   Converted  TotalVisits  Total Time Spent on Website  Page Views Per Visit  \\\n",
       "0          0          0.0                            0                   0.0   \n",
       "1          0          5.0                          674                   2.5   \n",
       "2          1          2.0                         1532                   2.0   \n",
       "3          0          1.0                          305                   1.0   \n",
       "4          1          2.0                         1428                   1.0   \n",
       "\n",
       "             Last Activity Country  ...    Lead Profile    City  \\\n",
       "0  Page Visited on Website     NaN  ...             NaN     NaN   \n",
       "1             Email Opened   India  ...             NaN     NaN   \n",
       "2             Email Opened   India  ...  Potential Lead  Mumbai   \n",
       "3              Unreachable   India  ...             NaN  Mumbai   \n",
       "4        Converted to Lead   India  ...             NaN  Mumbai   \n",
       "\n",
       "  Asymmetrique Activity Index Asymmetrique Profile Index  \\\n",
       "0                   02.Medium                  02.Medium   \n",
       "1                   02.Medium                  02.Medium   \n",
       "2                   02.Medium                    01.High   \n",
       "3                   02.Medium                    01.High   \n",
       "4                   02.Medium                    01.High   \n",
       "\n",
       "  Asymmetrique Activity Score Asymmetrique Profile Score  \\\n",
       "0                        15.0                       15.0   \n",
       "1                        15.0                       15.0   \n",
       "2                        14.0                       20.0   \n",
       "3                        13.0                       17.0   \n",
       "4                        15.0                       18.0   \n",
       "\n",
       "  I agree to pay the amount through cheque  \\\n",
       "0                                       No   \n",
       "1                                       No   \n",
       "2                                       No   \n",
       "3                                       No   \n",
       "4                                       No   \n",
       "\n",
       "  A free copy of Mastering The Interview Last Notable Activity  \\\n",
       "0                                     No              Modified   \n",
       "1                                     No          Email Opened   \n",
       "2                                    Yes          Email Opened   \n",
       "3                                     No              Modified   \n",
       "4                                     No              Modified   \n",
       "\n",
       "  How did you hear about X Education   \n",
       "0                                 NaN  \n",
       "1                                 NaN  \n",
       "2                                 NaN  \n",
       "3                       Word Of Mouth  \n",
       "4                               Other  \n",
       "\n",
       "[5 rows x 35 columns]"
      ]
     },
     "execution_count": 16,
     "metadata": {},
     "output_type": "execute_result"
    }
   ],
   "source": [
    "# This column has high percentage of missing values, so it needs to be dropped\n",
    "leads_df = leads_df.drop('How did you hear about X Education',axis = 1)\n",
    "leads_df.head()"
   ]
  },
  {
   "cell_type": "code",
   "execution_count": 17,
   "metadata": {
    "scrolled": true
   },
   "outputs": [
    {
     "name": "stdout",
     "output_type": "stream",
     "text": [
      "<class 'pandas.core.frame.DataFrame'>\n",
      "RangeIndex: 9240 entries, 0 to 9239\n",
      "Data columns (total 35 columns):\n",
      " #   Column                                         Non-Null Count  Dtype  \n",
      "---  ------                                         --------------  -----  \n",
      " 0   Lead Origin                                    9240 non-null   object \n",
      " 1   Lead Source                                    9204 non-null   object \n",
      " 2   Do Not Email                                   9240 non-null   object \n",
      " 3   Do Not Call                                    9240 non-null   object \n",
      " 4   Converted                                      9240 non-null   int64  \n",
      " 5   TotalVisits                                    9103 non-null   float64\n",
      " 6   Total Time Spent on Website                    9240 non-null   int64  \n",
      " 7   Page Views Per Visit                           9103 non-null   float64\n",
      " 8   Last Activity                                  9137 non-null   object \n",
      " 9   Country                                        6779 non-null   object \n",
      " 10  Specialization                                 5860 non-null   object \n",
      " 11  What is your current occupation                6550 non-null   object \n",
      " 12  What matters most to you in choosing a course  6531 non-null   object \n",
      " 13  Search                                         9240 non-null   object \n",
      " 14  Magazine                                       9240 non-null   object \n",
      " 15  Newspaper Article                              9240 non-null   object \n",
      " 16  X Education Forums                             9240 non-null   object \n",
      " 17  Newspaper                                      9240 non-null   object \n",
      " 18  Digital Advertisement                          9240 non-null   object \n",
      " 19  Through Recommendations                        9240 non-null   object \n",
      " 20  Receive More Updates About Our Courses         9240 non-null   object \n",
      " 21  Tags                                           5887 non-null   object \n",
      " 22  Lead Quality                                   4473 non-null   object \n",
      " 23  Update me on Supply Chain Content              9240 non-null   object \n",
      " 24  Get updates on DM Content                      9240 non-null   object \n",
      " 25  Lead Profile                                   2385 non-null   object \n",
      " 26  City                                           5571 non-null   object \n",
      " 27  Asymmetrique Activity Index                    5022 non-null   object \n",
      " 28  Asymmetrique Profile Index                     5022 non-null   object \n",
      " 29  Asymmetrique Activity Score                    5022 non-null   float64\n",
      " 30  Asymmetrique Profile Score                     5022 non-null   float64\n",
      " 31  I agree to pay the amount through cheque       9240 non-null   object \n",
      " 32  A free copy of Mastering The Interview         9240 non-null   object \n",
      " 33  Last Notable Activity                          9240 non-null   object \n",
      " 34  How did you hear about X Education             1990 non-null   object \n",
      "dtypes: float64(4), int64(2), object(29)\n",
      "memory usage: 2.5+ MB\n"
     ]
    }
   ],
   "source": [
    "leads_df.info(verbose = True)"
   ]
  },
  {
   "cell_type": "code",
   "execution_count": 18,
   "metadata": {},
   "outputs": [
    {
     "data": {
      "text/plain": [
       "Lead Origin                                       0.00\n",
       "Lead Source                                       0.39\n",
       "Do Not Email                                      0.00\n",
       "Do Not Call                                       0.00\n",
       "Converted                                         0.00\n",
       "TotalVisits                                       1.48\n",
       "Total Time Spent on Website                       0.00\n",
       "Page Views Per Visit                              1.48\n",
       "Last Activity                                     1.11\n",
       "Country                                          26.63\n",
       "Specialization                                   36.58\n",
       "What is your current occupation                  29.11\n",
       "What matters most to you in choosing a course    29.32\n",
       "Search                                            0.00\n",
       "Magazine                                          0.00\n",
       "Newspaper Article                                 0.00\n",
       "X Education Forums                                0.00\n",
       "Newspaper                                         0.00\n",
       "Digital Advertisement                             0.00\n",
       "Through Recommendations                           0.00\n",
       "Receive More Updates About Our Courses            0.00\n",
       "Tags                                             36.29\n",
       "Lead Quality                                     51.59\n",
       "Update me on Supply Chain Content                 0.00\n",
       "Get updates on DM Content                         0.00\n",
       "Lead Profile                                     74.19\n",
       "City                                             39.71\n",
       "Asymmetrique Activity Index                      45.65\n",
       "Asymmetrique Profile Index                       45.65\n",
       "Asymmetrique Activity Score                      45.65\n",
       "Asymmetrique Profile Score                       45.65\n",
       "I agree to pay the amount through cheque          0.00\n",
       "A free copy of Mastering The Interview            0.00\n",
       "Last Notable Activity                             0.00\n",
       "How did you hear about X Education               78.46\n",
       "dtype: float64"
      ]
     },
     "execution_count": 18,
     "metadata": {},
     "output_type": "execute_result"
    }
   ],
   "source": [
    "#Finding the percentage of missing values in each column\n",
    "round(100*(leads_df.isnull().sum()/len(leads_df)),2)"
   ]
  },
  {
   "cell_type": "code",
   "execution_count": 19,
   "metadata": {},
   "outputs": [
    {
     "data": {
      "text/plain": [
       "(9240, 35)"
      ]
     },
     "execution_count": 19,
     "metadata": {},
     "output_type": "execute_result"
    }
   ],
   "source": [
    "leads_df.shape"
   ]
  },
  {
   "cell_type": "markdown",
   "metadata": {},
   "source": [
    "### Taking the columns with missing value percentage less than 45% into a new dataframe"
   ]
  },
  {
   "cell_type": "code",
   "execution_count": 20,
   "metadata": {},
   "outputs": [
    {
     "data": {
      "text/html": [
       "<div>\n",
       "<style scoped>\n",
       "    .dataframe tbody tr th:only-of-type {\n",
       "        vertical-align: middle;\n",
       "    }\n",
       "\n",
       "    .dataframe tbody tr th {\n",
       "        vertical-align: top;\n",
       "    }\n",
       "\n",
       "    .dataframe thead th {\n",
       "        text-align: right;\n",
       "    }\n",
       "</style>\n",
       "<table border=\"1\" class=\"dataframe\">\n",
       "  <thead>\n",
       "    <tr style=\"text-align: right;\">\n",
       "      <th></th>\n",
       "      <th>Lead Origin</th>\n",
       "      <th>Lead Source</th>\n",
       "      <th>Do Not Email</th>\n",
       "      <th>Do Not Call</th>\n",
       "      <th>Converted</th>\n",
       "      <th>TotalVisits</th>\n",
       "      <th>Total Time Spent on Website</th>\n",
       "      <th>Page Views Per Visit</th>\n",
       "      <th>Last Activity</th>\n",
       "      <th>Country</th>\n",
       "      <th>...</th>\n",
       "      <th>Digital Advertisement</th>\n",
       "      <th>Through Recommendations</th>\n",
       "      <th>Receive More Updates About Our Courses</th>\n",
       "      <th>Tags</th>\n",
       "      <th>Update me on Supply Chain Content</th>\n",
       "      <th>Get updates on DM Content</th>\n",
       "      <th>City</th>\n",
       "      <th>I agree to pay the amount through cheque</th>\n",
       "      <th>A free copy of Mastering The Interview</th>\n",
       "      <th>Last Notable Activity</th>\n",
       "    </tr>\n",
       "  </thead>\n",
       "  <tbody>\n",
       "    <tr>\n",
       "      <th>0</th>\n",
       "      <td>API</td>\n",
       "      <td>Olark Chat</td>\n",
       "      <td>No</td>\n",
       "      <td>No</td>\n",
       "      <td>0</td>\n",
       "      <td>0.0</td>\n",
       "      <td>0</td>\n",
       "      <td>0.0</td>\n",
       "      <td>Page Visited on Website</td>\n",
       "      <td>NaN</td>\n",
       "      <td>...</td>\n",
       "      <td>No</td>\n",
       "      <td>No</td>\n",
       "      <td>No</td>\n",
       "      <td>Interested in other courses</td>\n",
       "      <td>No</td>\n",
       "      <td>No</td>\n",
       "      <td>NaN</td>\n",
       "      <td>No</td>\n",
       "      <td>No</td>\n",
       "      <td>Modified</td>\n",
       "    </tr>\n",
       "    <tr>\n",
       "      <th>1</th>\n",
       "      <td>API</td>\n",
       "      <td>Organic Search</td>\n",
       "      <td>No</td>\n",
       "      <td>No</td>\n",
       "      <td>0</td>\n",
       "      <td>5.0</td>\n",
       "      <td>674</td>\n",
       "      <td>2.5</td>\n",
       "      <td>Email Opened</td>\n",
       "      <td>India</td>\n",
       "      <td>...</td>\n",
       "      <td>No</td>\n",
       "      <td>No</td>\n",
       "      <td>No</td>\n",
       "      <td>Ringing</td>\n",
       "      <td>No</td>\n",
       "      <td>No</td>\n",
       "      <td>NaN</td>\n",
       "      <td>No</td>\n",
       "      <td>No</td>\n",
       "      <td>Email Opened</td>\n",
       "    </tr>\n",
       "    <tr>\n",
       "      <th>2</th>\n",
       "      <td>Landing Page Submission</td>\n",
       "      <td>Direct Traffic</td>\n",
       "      <td>No</td>\n",
       "      <td>No</td>\n",
       "      <td>1</td>\n",
       "      <td>2.0</td>\n",
       "      <td>1532</td>\n",
       "      <td>2.0</td>\n",
       "      <td>Email Opened</td>\n",
       "      <td>India</td>\n",
       "      <td>...</td>\n",
       "      <td>No</td>\n",
       "      <td>No</td>\n",
       "      <td>No</td>\n",
       "      <td>Will revert after reading the email</td>\n",
       "      <td>No</td>\n",
       "      <td>No</td>\n",
       "      <td>Mumbai</td>\n",
       "      <td>No</td>\n",
       "      <td>Yes</td>\n",
       "      <td>Email Opened</td>\n",
       "    </tr>\n",
       "    <tr>\n",
       "      <th>3</th>\n",
       "      <td>Landing Page Submission</td>\n",
       "      <td>Direct Traffic</td>\n",
       "      <td>No</td>\n",
       "      <td>No</td>\n",
       "      <td>0</td>\n",
       "      <td>1.0</td>\n",
       "      <td>305</td>\n",
       "      <td>1.0</td>\n",
       "      <td>Unreachable</td>\n",
       "      <td>India</td>\n",
       "      <td>...</td>\n",
       "      <td>No</td>\n",
       "      <td>No</td>\n",
       "      <td>No</td>\n",
       "      <td>Ringing</td>\n",
       "      <td>No</td>\n",
       "      <td>No</td>\n",
       "      <td>Mumbai</td>\n",
       "      <td>No</td>\n",
       "      <td>No</td>\n",
       "      <td>Modified</td>\n",
       "    </tr>\n",
       "    <tr>\n",
       "      <th>4</th>\n",
       "      <td>Landing Page Submission</td>\n",
       "      <td>Google</td>\n",
       "      <td>No</td>\n",
       "      <td>No</td>\n",
       "      <td>1</td>\n",
       "      <td>2.0</td>\n",
       "      <td>1428</td>\n",
       "      <td>1.0</td>\n",
       "      <td>Converted to Lead</td>\n",
       "      <td>India</td>\n",
       "      <td>...</td>\n",
       "      <td>No</td>\n",
       "      <td>No</td>\n",
       "      <td>No</td>\n",
       "      <td>Will revert after reading the email</td>\n",
       "      <td>No</td>\n",
       "      <td>No</td>\n",
       "      <td>Mumbai</td>\n",
       "      <td>No</td>\n",
       "      <td>No</td>\n",
       "      <td>Modified</td>\n",
       "    </tr>\n",
       "  </tbody>\n",
       "</table>\n",
       "<p>5 rows × 28 columns</p>\n",
       "</div>"
      ],
      "text/plain": [
       "               Lead Origin     Lead Source Do Not Email Do Not Call  \\\n",
       "0                      API      Olark Chat           No          No   \n",
       "1                      API  Organic Search           No          No   \n",
       "2  Landing Page Submission  Direct Traffic           No          No   \n",
       "3  Landing Page Submission  Direct Traffic           No          No   \n",
       "4  Landing Page Submission          Google           No          No   \n",
       "\n",
       "   Converted  TotalVisits  Total Time Spent on Website  Page Views Per Visit  \\\n",
       "0          0          0.0                            0                   0.0   \n",
       "1          0          5.0                          674                   2.5   \n",
       "2          1          2.0                         1532                   2.0   \n",
       "3          0          1.0                          305                   1.0   \n",
       "4          1          2.0                         1428                   1.0   \n",
       "\n",
       "             Last Activity Country  ... Digital Advertisement  \\\n",
       "0  Page Visited on Website     NaN  ...                    No   \n",
       "1             Email Opened   India  ...                    No   \n",
       "2             Email Opened   India  ...                    No   \n",
       "3              Unreachable   India  ...                    No   \n",
       "4        Converted to Lead   India  ...                    No   \n",
       "\n",
       "  Through Recommendations Receive More Updates About Our Courses  \\\n",
       "0                      No                                     No   \n",
       "1                      No                                     No   \n",
       "2                      No                                     No   \n",
       "3                      No                                     No   \n",
       "4                      No                                     No   \n",
       "\n",
       "                                  Tags Update me on Supply Chain Content  \\\n",
       "0          Interested in other courses                                No   \n",
       "1                              Ringing                                No   \n",
       "2  Will revert after reading the email                                No   \n",
       "3                              Ringing                                No   \n",
       "4  Will revert after reading the email                                No   \n",
       "\n",
       "  Get updates on DM Content    City I agree to pay the amount through cheque  \\\n",
       "0                        No     NaN                                       No   \n",
       "1                        No     NaN                                       No   \n",
       "2                        No  Mumbai                                       No   \n",
       "3                        No  Mumbai                                       No   \n",
       "4                        No  Mumbai                                       No   \n",
       "\n",
       "  A free copy of Mastering The Interview Last Notable Activity  \n",
       "0                                     No              Modified  \n",
       "1                                     No          Email Opened  \n",
       "2                                    Yes          Email Opened  \n",
       "3                                     No              Modified  \n",
       "4                                     No              Modified  \n",
       "\n",
       "[5 rows x 28 columns]"
      ]
     },
     "execution_count": 20,
     "metadata": {},
     "output_type": "execute_result"
    }
   ],
   "source": [
    "leads_df1=leads_df.loc[:, leads_df.isnull().mean() < .45] \n",
    "leads_df1.head()"
   ]
  },
  {
   "cell_type": "code",
   "execution_count": 21,
   "metadata": {
    "scrolled": true
   },
   "outputs": [
    {
     "data": {
      "text/plain": [
       "(9240, 28)"
      ]
     },
     "execution_count": 21,
     "metadata": {},
     "output_type": "execute_result"
    }
   ],
   "source": [
    "leads_df1.shape"
   ]
  },
  {
   "cell_type": "code",
   "execution_count": 22,
   "metadata": {},
   "outputs": [
    {
     "name": "stdout",
     "output_type": "stream",
     "text": [
      "<class 'pandas.core.frame.DataFrame'>\n",
      "RangeIndex: 9240 entries, 0 to 9239\n",
      "Data columns (total 28 columns):\n",
      " #   Column                                         Non-Null Count  Dtype  \n",
      "---  ------                                         --------------  -----  \n",
      " 0   Lead Origin                                    9240 non-null   object \n",
      " 1   Lead Source                                    9204 non-null   object \n",
      " 2   Do Not Email                                   9240 non-null   object \n",
      " 3   Do Not Call                                    9240 non-null   object \n",
      " 4   Converted                                      9240 non-null   int64  \n",
      " 5   TotalVisits                                    9103 non-null   float64\n",
      " 6   Total Time Spent on Website                    9240 non-null   int64  \n",
      " 7   Page Views Per Visit                           9103 non-null   float64\n",
      " 8   Last Activity                                  9137 non-null   object \n",
      " 9   Country                                        6779 non-null   object \n",
      " 10  Specialization                                 5860 non-null   object \n",
      " 11  What is your current occupation                6550 non-null   object \n",
      " 12  What matters most to you in choosing a course  6531 non-null   object \n",
      " 13  Search                                         9240 non-null   object \n",
      " 14  Magazine                                       9240 non-null   object \n",
      " 15  Newspaper Article                              9240 non-null   object \n",
      " 16  X Education Forums                             9240 non-null   object \n",
      " 17  Newspaper                                      9240 non-null   object \n",
      " 18  Digital Advertisement                          9240 non-null   object \n",
      " 19  Through Recommendations                        9240 non-null   object \n",
      " 20  Receive More Updates About Our Courses         9240 non-null   object \n",
      " 21  Tags                                           5887 non-null   object \n",
      " 22  Update me on Supply Chain Content              9240 non-null   object \n",
      " 23  Get updates on DM Content                      9240 non-null   object \n",
      " 24  City                                           5571 non-null   object \n",
      " 25  I agree to pay the amount through cheque       9240 non-null   object \n",
      " 26  A free copy of Mastering The Interview         9240 non-null   object \n",
      " 27  Last Notable Activity                          9240 non-null   object \n",
      "dtypes: float64(2), int64(2), object(24)\n",
      "memory usage: 2.0+ MB\n"
     ]
    }
   ],
   "source": [
    "leads_df1.info(verbose = True)"
   ]
  },
  {
   "cell_type": "code",
   "execution_count": 23,
   "metadata": {},
   "outputs": [
    {
     "data": {
      "text/plain": [
       "Lead Origin                                       0.00\n",
       "Lead Source                                       0.39\n",
       "Do Not Email                                      0.00\n",
       "Do Not Call                                       0.00\n",
       "Converted                                         0.00\n",
       "TotalVisits                                       1.48\n",
       "Total Time Spent on Website                       0.00\n",
       "Page Views Per Visit                              1.48\n",
       "Last Activity                                     1.11\n",
       "Country                                          26.63\n",
       "Specialization                                   36.58\n",
       "What is your current occupation                  29.11\n",
       "What matters most to you in choosing a course    29.32\n",
       "Search                                            0.00\n",
       "Magazine                                          0.00\n",
       "Newspaper Article                                 0.00\n",
       "X Education Forums                                0.00\n",
       "Newspaper                                         0.00\n",
       "Digital Advertisement                             0.00\n",
       "Through Recommendations                           0.00\n",
       "Receive More Updates About Our Courses            0.00\n",
       "Tags                                             36.29\n",
       "Update me on Supply Chain Content                 0.00\n",
       "Get updates on DM Content                         0.00\n",
       "City                                             39.71\n",
       "I agree to pay the amount through cheque          0.00\n",
       "A free copy of Mastering The Interview            0.00\n",
       "Last Notable Activity                             0.00\n",
       "dtype: float64"
      ]
     },
     "execution_count": 23,
     "metadata": {},
     "output_type": "execute_result"
    }
   ],
   "source": [
    "#Finding the missing values percentage in the new dataframe\n",
    "round(100*(leads_df1.isnull().sum()/len(leads_df1)),2)"
   ]
  },
  {
   "cell_type": "code",
   "execution_count": 24,
   "metadata": {
    "scrolled": true
   },
   "outputs": [
    {
     "data": {
      "text/plain": [
       "NaN                            0.397078\n",
       "Mumbai                         0.348701\n",
       "Thane & Outskirts              0.081385\n",
       "Other Cities                   0.074242\n",
       "Other Cities of Maharashtra    0.049459\n",
       "Other Metro Cities             0.041126\n",
       "Tier II Cities                 0.008009\n",
       "Name: City, dtype: float64"
      ]
     },
     "execution_count": 24,
     "metadata": {},
     "output_type": "execute_result"
    }
   ],
   "source": [
    "leads_df1['City'].value_counts(normalize = True,dropna = False)"
   ]
  },
  {
   "cell_type": "code",
   "execution_count": 25,
   "metadata": {},
   "outputs": [],
   "source": [
    "#Replacing the null columns with Mumbai as Mumbai has a high value count\n",
    "leads_df1['City'] = leads_df1['City'].replace(np.NaN,'Mumbai')\n"
   ]
  },
  {
   "cell_type": "code",
   "execution_count": 26,
   "metadata": {},
   "outputs": [
    {
     "data": {
      "text/plain": [
       "Mumbai                         0.745779\n",
       "Thane & Outskirts              0.081385\n",
       "Other Cities                   0.074242\n",
       "Other Cities of Maharashtra    0.049459\n",
       "Other Metro Cities             0.041126\n",
       "Tier II Cities                 0.008009\n",
       "Name: City, dtype: float64"
      ]
     },
     "execution_count": 26,
     "metadata": {},
     "output_type": "execute_result"
    }
   ],
   "source": [
    "leads_df1['City'].value_counts(normalize = True,dropna = False)"
   ]
  },
  {
   "cell_type": "code",
   "execution_count": 27,
   "metadata": {},
   "outputs": [
    {
     "data": {
      "text/plain": [
       "India                   0.702597\n",
       "NaN                     0.266342\n",
       "United States           0.007468\n",
       "United Arab Emirates    0.005736\n",
       "Singapore               0.002597\n",
       "Saudi Arabia            0.002273\n",
       "United Kingdom          0.001623\n",
       "Australia               0.001407\n",
       "Qatar                   0.001082\n",
       "Hong Kong               0.000758\n",
       "Bahrain                 0.000758\n",
       "Oman                    0.000649\n",
       "France                  0.000649\n",
       "unknown                 0.000541\n",
       "Germany                 0.000433\n",
       "Kuwait                  0.000433\n",
       "Nigeria                 0.000433\n",
       "Canada                  0.000433\n",
       "South Africa            0.000433\n",
       "Sweden                  0.000325\n",
       "Belgium                 0.000216\n",
       "China                   0.000216\n",
       "Uganda                  0.000216\n",
       "Asia/Pacific Region     0.000216\n",
       "Netherlands             0.000216\n",
       "Philippines             0.000216\n",
       "Italy                   0.000216\n",
       "Bangladesh              0.000216\n",
       "Ghana                   0.000216\n",
       "Malaysia                0.000108\n",
       "Liberia                 0.000108\n",
       "Sri Lanka               0.000108\n",
       "Indonesia               0.000108\n",
       "Tanzania                0.000108\n",
       "Vietnam                 0.000108\n",
       "Denmark                 0.000108\n",
       "Russia                  0.000108\n",
       "Switzerland             0.000108\n",
       "Kenya                   0.000108\n",
       "Name: Country, dtype: float64"
      ]
     },
     "execution_count": 27,
     "metadata": {},
     "output_type": "execute_result"
    }
   ],
   "source": [
    "leads_df1['Country'].value_counts(dropna = False,normalize = True)"
   ]
  },
  {
   "cell_type": "code",
   "execution_count": 28,
   "metadata": {},
   "outputs": [],
   "source": [
    "# Replacing all the null values with India as India has a high value count\n",
    "leads_df1['Country'] = leads_df1['Country'].replace(np.nan,'India')"
   ]
  },
  {
   "cell_type": "code",
   "execution_count": 29,
   "metadata": {},
   "outputs": [
    {
     "data": {
      "text/plain": [
       "India                   0.968939\n",
       "United States           0.007468\n",
       "United Arab Emirates    0.005736\n",
       "Singapore               0.002597\n",
       "Saudi Arabia            0.002273\n",
       "United Kingdom          0.001623\n",
       "Australia               0.001407\n",
       "Qatar                   0.001082\n",
       "Hong Kong               0.000758\n",
       "Bahrain                 0.000758\n",
       "Oman                    0.000649\n",
       "France                  0.000649\n",
       "unknown                 0.000541\n",
       "Germany                 0.000433\n",
       "Kuwait                  0.000433\n",
       "South Africa            0.000433\n",
       "Canada                  0.000433\n",
       "Nigeria                 0.000433\n",
       "Sweden                  0.000325\n",
       "Asia/Pacific Region     0.000216\n",
       "Philippines             0.000216\n",
       "Bangladesh              0.000216\n",
       "China                   0.000216\n",
       "Ghana                   0.000216\n",
       "Belgium                 0.000216\n",
       "Netherlands             0.000216\n",
       "Uganda                  0.000216\n",
       "Italy                   0.000216\n",
       "Tanzania                0.000108\n",
       "Kenya                   0.000108\n",
       "Vietnam                 0.000108\n",
       "Russia                  0.000108\n",
       "Switzerland             0.000108\n",
       "Indonesia               0.000108\n",
       "Denmark                 0.000108\n",
       "Sri Lanka               0.000108\n",
       "Liberia                 0.000108\n",
       "Malaysia                0.000108\n",
       "Name: Country, dtype: float64"
      ]
     },
     "execution_count": 29,
     "metadata": {},
     "output_type": "execute_result"
    }
   ],
   "source": [
    "leads_df1['Country'].value_counts(dropna = False,normalize = True)"
   ]
  },
  {
   "cell_type": "code",
   "execution_count": 30,
   "metadata": {},
   "outputs": [],
   "source": [
    "# Droping these columns as the data in these columns is highly skewed\n",
    "leads_df = leads_df.drop('Country',axis = 1)\n",
    "leads_df = leads_df.drop('City',axis = 1)"
   ]
  },
  {
   "cell_type": "code",
   "execution_count": 31,
   "metadata": {},
   "outputs": [
    {
     "data": {
      "text/html": [
       "<div>\n",
       "<style scoped>\n",
       "    .dataframe tbody tr th:only-of-type {\n",
       "        vertical-align: middle;\n",
       "    }\n",
       "\n",
       "    .dataframe tbody tr th {\n",
       "        vertical-align: top;\n",
       "    }\n",
       "\n",
       "    .dataframe thead th {\n",
       "        text-align: right;\n",
       "    }\n",
       "</style>\n",
       "<table border=\"1\" class=\"dataframe\">\n",
       "  <thead>\n",
       "    <tr style=\"text-align: right;\">\n",
       "      <th></th>\n",
       "      <th>Lead Origin</th>\n",
       "      <th>Lead Source</th>\n",
       "      <th>Do Not Email</th>\n",
       "      <th>Do Not Call</th>\n",
       "      <th>Converted</th>\n",
       "      <th>TotalVisits</th>\n",
       "      <th>Total Time Spent on Website</th>\n",
       "      <th>Page Views Per Visit</th>\n",
       "      <th>Last Activity</th>\n",
       "      <th>Specialization</th>\n",
       "      <th>...</th>\n",
       "      <th>Get updates on DM Content</th>\n",
       "      <th>Lead Profile</th>\n",
       "      <th>Asymmetrique Activity Index</th>\n",
       "      <th>Asymmetrique Profile Index</th>\n",
       "      <th>Asymmetrique Activity Score</th>\n",
       "      <th>Asymmetrique Profile Score</th>\n",
       "      <th>I agree to pay the amount through cheque</th>\n",
       "      <th>A free copy of Mastering The Interview</th>\n",
       "      <th>Last Notable Activity</th>\n",
       "      <th>How did you hear about X Education</th>\n",
       "    </tr>\n",
       "  </thead>\n",
       "  <tbody>\n",
       "    <tr>\n",
       "      <th>0</th>\n",
       "      <td>API</td>\n",
       "      <td>Olark Chat</td>\n",
       "      <td>No</td>\n",
       "      <td>No</td>\n",
       "      <td>0</td>\n",
       "      <td>0.0</td>\n",
       "      <td>0</td>\n",
       "      <td>0.0</td>\n",
       "      <td>Page Visited on Website</td>\n",
       "      <td>NaN</td>\n",
       "      <td>...</td>\n",
       "      <td>No</td>\n",
       "      <td>NaN</td>\n",
       "      <td>02.Medium</td>\n",
       "      <td>02.Medium</td>\n",
       "      <td>15.0</td>\n",
       "      <td>15.0</td>\n",
       "      <td>No</td>\n",
       "      <td>No</td>\n",
       "      <td>Modified</td>\n",
       "      <td>NaN</td>\n",
       "    </tr>\n",
       "    <tr>\n",
       "      <th>1</th>\n",
       "      <td>API</td>\n",
       "      <td>Organic Search</td>\n",
       "      <td>No</td>\n",
       "      <td>No</td>\n",
       "      <td>0</td>\n",
       "      <td>5.0</td>\n",
       "      <td>674</td>\n",
       "      <td>2.5</td>\n",
       "      <td>Email Opened</td>\n",
       "      <td>NaN</td>\n",
       "      <td>...</td>\n",
       "      <td>No</td>\n",
       "      <td>NaN</td>\n",
       "      <td>02.Medium</td>\n",
       "      <td>02.Medium</td>\n",
       "      <td>15.0</td>\n",
       "      <td>15.0</td>\n",
       "      <td>No</td>\n",
       "      <td>No</td>\n",
       "      <td>Email Opened</td>\n",
       "      <td>NaN</td>\n",
       "    </tr>\n",
       "    <tr>\n",
       "      <th>2</th>\n",
       "      <td>Landing Page Submission</td>\n",
       "      <td>Direct Traffic</td>\n",
       "      <td>No</td>\n",
       "      <td>No</td>\n",
       "      <td>1</td>\n",
       "      <td>2.0</td>\n",
       "      <td>1532</td>\n",
       "      <td>2.0</td>\n",
       "      <td>Email Opened</td>\n",
       "      <td>Business Administration</td>\n",
       "      <td>...</td>\n",
       "      <td>No</td>\n",
       "      <td>Potential Lead</td>\n",
       "      <td>02.Medium</td>\n",
       "      <td>01.High</td>\n",
       "      <td>14.0</td>\n",
       "      <td>20.0</td>\n",
       "      <td>No</td>\n",
       "      <td>Yes</td>\n",
       "      <td>Email Opened</td>\n",
       "      <td>NaN</td>\n",
       "    </tr>\n",
       "    <tr>\n",
       "      <th>3</th>\n",
       "      <td>Landing Page Submission</td>\n",
       "      <td>Direct Traffic</td>\n",
       "      <td>No</td>\n",
       "      <td>No</td>\n",
       "      <td>0</td>\n",
       "      <td>1.0</td>\n",
       "      <td>305</td>\n",
       "      <td>1.0</td>\n",
       "      <td>Unreachable</td>\n",
       "      <td>Media and Advertising</td>\n",
       "      <td>...</td>\n",
       "      <td>No</td>\n",
       "      <td>NaN</td>\n",
       "      <td>02.Medium</td>\n",
       "      <td>01.High</td>\n",
       "      <td>13.0</td>\n",
       "      <td>17.0</td>\n",
       "      <td>No</td>\n",
       "      <td>No</td>\n",
       "      <td>Modified</td>\n",
       "      <td>Word Of Mouth</td>\n",
       "    </tr>\n",
       "    <tr>\n",
       "      <th>4</th>\n",
       "      <td>Landing Page Submission</td>\n",
       "      <td>Google</td>\n",
       "      <td>No</td>\n",
       "      <td>No</td>\n",
       "      <td>1</td>\n",
       "      <td>2.0</td>\n",
       "      <td>1428</td>\n",
       "      <td>1.0</td>\n",
       "      <td>Converted to Lead</td>\n",
       "      <td>NaN</td>\n",
       "      <td>...</td>\n",
       "      <td>No</td>\n",
       "      <td>NaN</td>\n",
       "      <td>02.Medium</td>\n",
       "      <td>01.High</td>\n",
       "      <td>15.0</td>\n",
       "      <td>18.0</td>\n",
       "      <td>No</td>\n",
       "      <td>No</td>\n",
       "      <td>Modified</td>\n",
       "      <td>Other</td>\n",
       "    </tr>\n",
       "  </tbody>\n",
       "</table>\n",
       "<p>5 rows × 33 columns</p>\n",
       "</div>"
      ],
      "text/plain": [
       "               Lead Origin     Lead Source Do Not Email Do Not Call  \\\n",
       "0                      API      Olark Chat           No          No   \n",
       "1                      API  Organic Search           No          No   \n",
       "2  Landing Page Submission  Direct Traffic           No          No   \n",
       "3  Landing Page Submission  Direct Traffic           No          No   \n",
       "4  Landing Page Submission          Google           No          No   \n",
       "\n",
       "   Converted  TotalVisits  Total Time Spent on Website  Page Views Per Visit  \\\n",
       "0          0          0.0                            0                   0.0   \n",
       "1          0          5.0                          674                   2.5   \n",
       "2          1          2.0                         1532                   2.0   \n",
       "3          0          1.0                          305                   1.0   \n",
       "4          1          2.0                         1428                   1.0   \n",
       "\n",
       "             Last Activity           Specialization  ...  \\\n",
       "0  Page Visited on Website                      NaN  ...   \n",
       "1             Email Opened                      NaN  ...   \n",
       "2             Email Opened  Business Administration  ...   \n",
       "3              Unreachable    Media and Advertising  ...   \n",
       "4        Converted to Lead                      NaN  ...   \n",
       "\n",
       "  Get updates on DM Content    Lead Profile Asymmetrique Activity Index  \\\n",
       "0                        No             NaN                   02.Medium   \n",
       "1                        No             NaN                   02.Medium   \n",
       "2                        No  Potential Lead                   02.Medium   \n",
       "3                        No             NaN                   02.Medium   \n",
       "4                        No             NaN                   02.Medium   \n",
       "\n",
       "  Asymmetrique Profile Index Asymmetrique Activity Score  \\\n",
       "0                  02.Medium                        15.0   \n",
       "1                  02.Medium                        15.0   \n",
       "2                    01.High                        14.0   \n",
       "3                    01.High                        13.0   \n",
       "4                    01.High                        15.0   \n",
       "\n",
       "  Asymmetrique Profile Score I agree to pay the amount through cheque  \\\n",
       "0                       15.0                                       No   \n",
       "1                       15.0                                       No   \n",
       "2                       20.0                                       No   \n",
       "3                       17.0                                       No   \n",
       "4                       18.0                                       No   \n",
       "\n",
       "  A free copy of Mastering The Interview Last Notable Activity  \\\n",
       "0                                     No              Modified   \n",
       "1                                     No          Email Opened   \n",
       "2                                    Yes          Email Opened   \n",
       "3                                     No              Modified   \n",
       "4                                     No              Modified   \n",
       "\n",
       "  How did you hear about X Education   \n",
       "0                                 NaN  \n",
       "1                                 NaN  \n",
       "2                                 NaN  \n",
       "3                       Word Of Mouth  \n",
       "4                               Other  \n",
       "\n",
       "[5 rows x 33 columns]"
      ]
     },
     "execution_count": 31,
     "metadata": {},
     "output_type": "execute_result"
    }
   ],
   "source": [
    "leads_df.head()"
   ]
  },
  {
   "cell_type": "code",
   "execution_count": 32,
   "metadata": {},
   "outputs": [
    {
     "data": {
      "text/plain": [
       "NaN                                  0.365801\n",
       "Finance Management                   0.105628\n",
       "Human Resource Management            0.091775\n",
       "Marketing Management                 0.090693\n",
       "Operations Management                0.054437\n",
       "Business Administration              0.043615\n",
       "IT Projects Management               0.039610\n",
       "Supply Chain Management              0.037771\n",
       "Banking, Investment And Insurance    0.036580\n",
       "Travel and Tourism                   0.021970\n",
       "Media and Advertising                0.021970\n",
       "International Business               0.019264\n",
       "Healthcare Management                0.017208\n",
       "Hospitality Management               0.012338\n",
       "E-COMMERCE                           0.012121\n",
       "Retail Management                    0.010823\n",
       "Rural and Agribusiness               0.007900\n",
       "E-Business                           0.006169\n",
       "Services Excellence                  0.004329\n",
       "Name: Specialization, dtype: float64"
      ]
     },
     "execution_count": 32,
     "metadata": {},
     "output_type": "execute_result"
    }
   ],
   "source": [
    "leads_df1['Specialization'].value_counts(dropna=False,normalize =True)\n"
   ]
  },
  {
   "cell_type": "markdown",
   "metadata": {},
   "source": [
    "As the Nan columns has the highest data points, we need to replace it with 'Not given'"
   ]
  },
  {
   "cell_type": "code",
   "execution_count": 33,
   "metadata": {},
   "outputs": [],
   "source": [
    "leads_df1['Specialization'] = leads_df1['Specialization'].replace(np.nan, 'Not given')"
   ]
  },
  {
   "cell_type": "code",
   "execution_count": 34,
   "metadata": {},
   "outputs": [
    {
     "data": {
      "text/plain": [
       "Not given                            0.365801\n",
       "Finance Management                   0.105628\n",
       "Human Resource Management            0.091775\n",
       "Marketing Management                 0.090693\n",
       "Operations Management                0.054437\n",
       "Business Administration              0.043615\n",
       "IT Projects Management               0.039610\n",
       "Supply Chain Management              0.037771\n",
       "Banking, Investment And Insurance    0.036580\n",
       "Travel and Tourism                   0.021970\n",
       "Media and Advertising                0.021970\n",
       "International Business               0.019264\n",
       "Healthcare Management                0.017208\n",
       "Hospitality Management               0.012338\n",
       "E-COMMERCE                           0.012121\n",
       "Retail Management                    0.010823\n",
       "Rural and Agribusiness               0.007900\n",
       "E-Business                           0.006169\n",
       "Services Excellence                  0.004329\n",
       "Name: Specialization, dtype: float64"
      ]
     },
     "execution_count": 34,
     "metadata": {},
     "output_type": "execute_result"
    }
   ],
   "source": [
    "leads_df1['Specialization'].value_counts(dropna=False,normalize =True)\n"
   ]
  },
  {
   "cell_type": "code",
   "execution_count": 35,
   "metadata": {},
   "outputs": [
    {
     "data": {
      "image/png": "[encoded data removed]",
      "text/plain": [
       "<Figure size 720x360 with 1 Axes>"
      ]
     },
     "metadata": {
      "needs_background": "light"
     },
     "output_type": "display_data"
    }
   ],
   "source": [
    "plt.figure(figsize=(10,5))\n",
    "sa=sns.countplot(leads_df1.Specialization, hue=leads_df1.Converted)\n",
    "sa.set_xticklabels(sa.get_xticklabels(),rotation=90)\n",
    "plt.show()"
   ]
  },
  {
   "cell_type": "markdown",
   "metadata": {},
   "source": [
    "While plotting the above we observe that the management specialisations can be combined into one column so we get a better understanding of this columns"
   ]
  },
  {
   "cell_type": "code",
   "execution_count": 36,
   "metadata": {},
   "outputs": [],
   "source": [
    "leads_df1['Specialization'] = leads_df1['Specialization'].replace(['Finance Management','Human Resource Management',\n",
    "                                                                   'Marketing Management','Operations Management',\n",
    "                                                                   'IT Projects Management','Supply Chain Management',\n",
    "                                                                  'Healthcare Management','Hospitality Management',\n",
    "                                                                   'Retail Management'] ,'Management_Specializations')  \n"
   ]
  },
  {
   "cell_type": "code",
   "execution_count": 37,
   "metadata": {},
   "outputs": [
    {
     "data": {
      "image/png": "[encoded data removed]",
      "text/plain": [
       "<Figure size 720x360 with 1 Axes>"
      ]
     },
     "metadata": {
      "needs_background": "light"
     },
     "output_type": "display_data"
    }
   ],
   "source": [
    "plt.figure(figsize=(10,5))\n",
    "sb=sns.countplot(leads_df1.Specialization, hue=leads_df1.Converted)\n",
    "sb.set_xticklabels(sb.get_xticklabels(),rotation=45)\n",
    "plt.show()"
   ]
  },
  {
   "cell_type": "markdown",
   "metadata": {},
   "source": [
    "We observe that most of the people have either not given their specialisation or they are from the media and advertising specialisation. We also observe that when people have not given their specialisation the ratio of people who have not converted and who have is very high."
   ]
  },
  {
   "cell_type": "code",
   "execution_count": 38,
   "metadata": {},
   "outputs": [
    {
     "data": {
      "text/plain": [
       "Unemployed              0.606061\n",
       "NaN                     0.291126\n",
       "Working Professional    0.076407\n",
       "Student                 0.022727\n",
       "Other                   0.001732\n",
       "Housewife               0.001082\n",
       "Businessman             0.000866\n",
       "Name: What is your current occupation, dtype: float64"
      ]
     },
     "execution_count": 38,
     "metadata": {},
     "output_type": "execute_result"
    }
   ],
   "source": [
    "leads_df1['What is your current occupation'].value_counts(dropna=False,normalize = True)"
   ]
  },
  {
   "cell_type": "markdown",
   "metadata": {},
   "source": [
    "Since most of the data points are on Unemployed, we will replace null with Unemployed"
   ]
  },
  {
   "cell_type": "code",
   "execution_count": 39,
   "metadata": {},
   "outputs": [],
   "source": [
    "leads_df1['What is your current occupation'] = leads_df1['What is your current occupation'].replace(np.nan, 'Unemployed')"
   ]
  },
  {
   "cell_type": "code",
   "execution_count": 40,
   "metadata": {},
   "outputs": [
    {
     "data": {
      "image/png": "[encoded data removed]",
      "text/plain": [
       "<Figure size 720x360 with 1 Axes>"
      ]
     },
     "metadata": {
      "needs_background": "light"
     },
     "output_type": "display_data"
    }
   ],
   "source": [
    "plt.figure(figsize=(10,5))\n",
    "sb=sns.countplot(leads_df1['What is your current occupation'], hue=leads_df1.Converted)\n",
    "plt.show()"
   ]
  },
  {
   "cell_type": "markdown",
   "metadata": {},
   "source": [
    "We can see that working professionals have higher number of conversions out of total working profesionals who have filled the form."
   ]
  },
  {
   "cell_type": "code",
   "execution_count": 41,
   "metadata": {},
   "outputs": [
    {
     "data": {
      "text/plain": [
       "Better Career Prospects      0.706494\n",
       "NaN                          0.293182\n",
       "Flexibility & Convenience    0.000216\n",
       "Other                        0.000108\n",
       "Name: What matters most to you in choosing a course, dtype: float64"
      ]
     },
     "execution_count": 41,
     "metadata": {},
     "output_type": "execute_result"
    }
   ],
   "source": [
    "leads_df1['What matters most to you in choosing a course'].value_counts(dropna=False,normalize = True)"
   ]
  },
  {
   "cell_type": "code",
   "execution_count": 42,
   "metadata": {},
   "outputs": [],
   "source": [
    "leads_df1['What matters most to you in choosing a course'] = leads_df1['What matters most to you in choosing a course'].replace(np.nan, 'Better Career Prospects')"
   ]
  },
  {
   "cell_type": "code",
   "execution_count": 43,
   "metadata": {},
   "outputs": [
    {
     "data": {
      "text/plain": [
       "Better Career Prospects      0.999675\n",
       "Flexibility & Convenience    0.000216\n",
       "Other                        0.000108\n",
       "Name: What matters most to you in choosing a course, dtype: float64"
      ]
     },
     "execution_count": 43,
     "metadata": {},
     "output_type": "execute_result"
    }
   ],
   "source": [
    "leads_df1['What matters most to you in choosing a course'].value_counts(dropna=False,normalize = True)"
   ]
  },
  {
   "cell_type": "markdown",
   "metadata": {},
   "source": [
    "Since the column has highly skewed data we need to delete this column"
   ]
  },
  {
   "cell_type": "code",
   "execution_count": 44,
   "metadata": {},
   "outputs": [
    {
     "data": {
      "text/html": [
       "<div>\n",
       "<style scoped>\n",
       "    .dataframe tbody tr th:only-of-type {\n",
       "        vertical-align: middle;\n",
       "    }\n",
       "\n",
       "    .dataframe tbody tr th {\n",
       "        vertical-align: top;\n",
       "    }\n",
       "\n",
       "    .dataframe thead th {\n",
       "        text-align: right;\n",
       "    }\n",
       "</style>\n",
       "<table border=\"1\" class=\"dataframe\">\n",
       "  <thead>\n",
       "    <tr style=\"text-align: right;\">\n",
       "      <th></th>\n",
       "      <th>Lead Origin</th>\n",
       "      <th>Lead Source</th>\n",
       "      <th>Do Not Email</th>\n",
       "      <th>Do Not Call</th>\n",
       "      <th>Converted</th>\n",
       "      <th>TotalVisits</th>\n",
       "      <th>Total Time Spent on Website</th>\n",
       "      <th>Page Views Per Visit</th>\n",
       "      <th>Last Activity</th>\n",
       "      <th>Country</th>\n",
       "      <th>...</th>\n",
       "      <th>Digital Advertisement</th>\n",
       "      <th>Through Recommendations</th>\n",
       "      <th>Receive More Updates About Our Courses</th>\n",
       "      <th>Tags</th>\n",
       "      <th>Update me on Supply Chain Content</th>\n",
       "      <th>Get updates on DM Content</th>\n",
       "      <th>City</th>\n",
       "      <th>I agree to pay the amount through cheque</th>\n",
       "      <th>A free copy of Mastering The Interview</th>\n",
       "      <th>Last Notable Activity</th>\n",
       "    </tr>\n",
       "  </thead>\n",
       "  <tbody>\n",
       "    <tr>\n",
       "      <th>0</th>\n",
       "      <td>API</td>\n",
       "      <td>Olark Chat</td>\n",
       "      <td>No</td>\n",
       "      <td>No</td>\n",
       "      <td>0</td>\n",
       "      <td>0.0</td>\n",
       "      <td>0</td>\n",
       "      <td>0.0</td>\n",
       "      <td>Page Visited on Website</td>\n",
       "      <td>India</td>\n",
       "      <td>...</td>\n",
       "      <td>No</td>\n",
       "      <td>No</td>\n",
       "      <td>No</td>\n",
       "      <td>Interested in other courses</td>\n",
       "      <td>No</td>\n",
       "      <td>No</td>\n",
       "      <td>Mumbai</td>\n",
       "      <td>No</td>\n",
       "      <td>No</td>\n",
       "      <td>Modified</td>\n",
       "    </tr>\n",
       "    <tr>\n",
       "      <th>1</th>\n",
       "      <td>API</td>\n",
       "      <td>Organic Search</td>\n",
       "      <td>No</td>\n",
       "      <td>No</td>\n",
       "      <td>0</td>\n",
       "      <td>5.0</td>\n",
       "      <td>674</td>\n",
       "      <td>2.5</td>\n",
       "      <td>Email Opened</td>\n",
       "      <td>India</td>\n",
       "      <td>...</td>\n",
       "      <td>No</td>\n",
       "      <td>No</td>\n",
       "      <td>No</td>\n",
       "      <td>Ringing</td>\n",
       "      <td>No</td>\n",
       "      <td>No</td>\n",
       "      <td>Mumbai</td>\n",
       "      <td>No</td>\n",
       "      <td>No</td>\n",
       "      <td>Email Opened</td>\n",
       "    </tr>\n",
       "    <tr>\n",
       "      <th>2</th>\n",
       "      <td>Landing Page Submission</td>\n",
       "      <td>Direct Traffic</td>\n",
       "      <td>No</td>\n",
       "      <td>No</td>\n",
       "      <td>1</td>\n",
       "      <td>2.0</td>\n",
       "      <td>1532</td>\n",
       "      <td>2.0</td>\n",
       "      <td>Email Opened</td>\n",
       "      <td>India</td>\n",
       "      <td>...</td>\n",
       "      <td>No</td>\n",
       "      <td>No</td>\n",
       "      <td>No</td>\n",
       "      <td>Will revert after reading the email</td>\n",
       "      <td>No</td>\n",
       "      <td>No</td>\n",
       "      <td>Mumbai</td>\n",
       "      <td>No</td>\n",
       "      <td>Yes</td>\n",
       "      <td>Email Opened</td>\n",
       "    </tr>\n",
       "    <tr>\n",
       "      <th>3</th>\n",
       "      <td>Landing Page Submission</td>\n",
       "      <td>Direct Traffic</td>\n",
       "      <td>No</td>\n",
       "      <td>No</td>\n",
       "      <td>0</td>\n",
       "      <td>1.0</td>\n",
       "      <td>305</td>\n",
       "      <td>1.0</td>\n",
       "      <td>Unreachable</td>\n",
       "      <td>India</td>\n",
       "      <td>...</td>\n",
       "      <td>No</td>\n",
       "      <td>No</td>\n",
       "      <td>No</td>\n",
       "      <td>Ringing</td>\n",
       "      <td>No</td>\n",
       "      <td>No</td>\n",
       "      <td>Mumbai</td>\n",
       "      <td>No</td>\n",
       "      <td>No</td>\n",
       "      <td>Modified</td>\n",
       "    </tr>\n",
       "    <tr>\n",
       "      <th>4</th>\n",
       "      <td>Landing Page Submission</td>\n",
       "      <td>Google</td>\n",
       "      <td>No</td>\n",
       "      <td>No</td>\n",
       "      <td>1</td>\n",
       "      <td>2.0</td>\n",
       "      <td>1428</td>\n",
       "      <td>1.0</td>\n",
       "      <td>Converted to Lead</td>\n",
       "      <td>India</td>\n",
       "      <td>...</td>\n",
       "      <td>No</td>\n",
       "      <td>No</td>\n",
       "      <td>No</td>\n",
       "      <td>Will revert after reading the email</td>\n",
       "      <td>No</td>\n",
       "      <td>No</td>\n",
       "      <td>Mumbai</td>\n",
       "      <td>No</td>\n",
       "      <td>No</td>\n",
       "      <td>Modified</td>\n",
       "    </tr>\n",
       "  </tbody>\n",
       "</table>\n",
       "<p>5 rows × 27 columns</p>\n",
       "</div>"
      ],
      "text/plain": [
       "               Lead Origin     Lead Source Do Not Email Do Not Call  \\\n",
       "0                      API      Olark Chat           No          No   \n",
       "1                      API  Organic Search           No          No   \n",
       "2  Landing Page Submission  Direct Traffic           No          No   \n",
       "3  Landing Page Submission  Direct Traffic           No          No   \n",
       "4  Landing Page Submission          Google           No          No   \n",
       "\n",
       "   Converted  TotalVisits  Total Time Spent on Website  Page Views Per Visit  \\\n",
       "0          0          0.0                            0                   0.0   \n",
       "1          0          5.0                          674                   2.5   \n",
       "2          1          2.0                         1532                   2.0   \n",
       "3          0          1.0                          305                   1.0   \n",
       "4          1          2.0                         1428                   1.0   \n",
       "\n",
       "             Last Activity Country  ... Digital Advertisement  \\\n",
       "0  Page Visited on Website   India  ...                    No   \n",
       "1             Email Opened   India  ...                    No   \n",
       "2             Email Opened   India  ...                    No   \n",
       "3              Unreachable   India  ...                    No   \n",
       "4        Converted to Lead   India  ...                    No   \n",
       "\n",
       "  Through Recommendations Receive More Updates About Our Courses  \\\n",
       "0                      No                                     No   \n",
       "1                      No                                     No   \n",
       "2                      No                                     No   \n",
       "3                      No                                     No   \n",
       "4                      No                                     No   \n",
       "\n",
       "                                  Tags Update me on Supply Chain Content  \\\n",
       "0          Interested in other courses                                No   \n",
       "1                              Ringing                                No   \n",
       "2  Will revert after reading the email                                No   \n",
       "3                              Ringing                                No   \n",
       "4  Will revert after reading the email                                No   \n",
       "\n",
       "  Get updates on DM Content    City I agree to pay the amount through cheque  \\\n",
       "0                        No  Mumbai                                       No   \n",
       "1                        No  Mumbai                                       No   \n",
       "2                        No  Mumbai                                       No   \n",
       "3                        No  Mumbai                                       No   \n",
       "4                        No  Mumbai                                       No   \n",
       "\n",
       "  A free copy of Mastering The Interview Last Notable Activity  \n",
       "0                                     No              Modified  \n",
       "1                                     No          Email Opened  \n",
       "2                                    Yes          Email Opened  \n",
       "3                                     No              Modified  \n",
       "4                                     No              Modified  \n",
       "\n",
       "[5 rows x 27 columns]"
      ]
     },
     "execution_count": 44,
     "metadata": {},
     "output_type": "execute_result"
    }
   ],
   "source": [
    "leads_df1 = leads_df1.drop('What matters most to you in choosing a course',axis = 1)\n",
    "leads_df1.head()"
   ]
  },
  {
   "cell_type": "code",
   "execution_count": 45,
   "metadata": {},
   "outputs": [
    {
     "data": {
      "text/plain": [
       "NaN                                                  0.362879\n",
       "Will revert after reading the email                  0.224242\n",
       "Ringing                                              0.130195\n",
       "Interested in other courses                          0.055519\n",
       "Already a student                                    0.050325\n",
       "Closed by Horizzon                                   0.038745\n",
       "switched off                                         0.025974\n",
       "Busy                                                 0.020130\n",
       "Lost to EINS                                         0.018939\n",
       "Not doing further education                          0.015693\n",
       "Interested  in full time MBA                         0.012662\n",
       "Graduation in progress                               0.012013\n",
       "invalid number                                       0.008983\n",
       "Diploma holder (Not Eligible)                        0.006818\n",
       "wrong number given                                   0.005087\n",
       "opp hangup                                           0.003571\n",
       "number not provided                                  0.002922\n",
       "in touch with EINS                                   0.001299\n",
       "Lost to Others                                       0.000758\n",
       "Still Thinking                                       0.000649\n",
       "Want to take admission but has financial problems    0.000649\n",
       "Interested in Next batch                             0.000541\n",
       "In confusion whether part time or DLP                0.000541\n",
       "Lateral student                                      0.000325\n",
       "Shall take in the next coming month                  0.000216\n",
       "University not recognized                            0.000216\n",
       "Recognition issue (DEC approval)                     0.000108\n",
       "Name: Tags, dtype: float64"
      ]
     },
     "execution_count": 45,
     "metadata": {},
     "output_type": "execute_result"
    }
   ],
   "source": [
    "leads_df1['Tags'].value_counts(dropna=False,normalize = True)"
   ]
  },
  {
   "cell_type": "code",
   "execution_count": 46,
   "metadata": {},
   "outputs": [],
   "source": [
    "leads_df1['Tags'] = leads_df1['Tags'].replace(np.nan,'Not specified')"
   ]
  },
  {
   "cell_type": "code",
   "execution_count": 47,
   "metadata": {},
   "outputs": [
    {
     "data": {
      "text/plain": [
       "Not specified                                        0.362879\n",
       "Will revert after reading the email                  0.224242\n",
       "Ringing                                              0.130195\n",
       "Interested in other courses                          0.055519\n",
       "Already a student                                    0.050325\n",
       "Closed by Horizzon                                   0.038745\n",
       "switched off                                         0.025974\n",
       "Busy                                                 0.020130\n",
       "Lost to EINS                                         0.018939\n",
       "Not doing further education                          0.015693\n",
       "Interested  in full time MBA                         0.012662\n",
       "Graduation in progress                               0.012013\n",
       "invalid number                                       0.008983\n",
       "Diploma holder (Not Eligible)                        0.006818\n",
       "wrong number given                                   0.005087\n",
       "opp hangup                                           0.003571\n",
       "number not provided                                  0.002922\n",
       "in touch with EINS                                   0.001299\n",
       "Lost to Others                                       0.000758\n",
       "Still Thinking                                       0.000649\n",
       "Want to take admission but has financial problems    0.000649\n",
       "In confusion whether part time or DLP                0.000541\n",
       "Interested in Next batch                             0.000541\n",
       "Lateral student                                      0.000325\n",
       "University not recognized                            0.000216\n",
       "Shall take in the next coming month                  0.000216\n",
       "Recognition issue (DEC approval)                     0.000108\n",
       "Name: Tags, dtype: float64"
      ]
     },
     "execution_count": 47,
     "metadata": {},
     "output_type": "execute_result"
    }
   ],
   "source": [
    "leads_df1['Tags'].value_counts(dropna=False,normalize = True)"
   ]
  },
  {
   "cell_type": "code",
   "execution_count": 51,
   "metadata": {},
   "outputs": [
    {
     "data": {
      "image/png": "[encoded data removed]",
      "text/plain": [
       "<Figure size 1080x360 with 1 Axes>"
      ]
     },
     "metadata": {
      "needs_background": "light"
     },
     "output_type": "display_data"
    }
   ],
   "source": [
    "plt.figure(figsize=(15,5))\n",
    "s1=sns.countplot(leads_df1.Tags, hue=leads_df1.Converted)\n",
    "s1.set_xticklabels(s1.get_xticklabels(),rotation=90)\n",
    "plt.show()"
   ]
  },
  {
   "cell_type": "code",
   "execution_count": 52,
   "metadata": {},
   "outputs": [
    {
     "data": {
      "text/plain": [
       "Not specified                                        0.362879\n",
       "Will revert after reading the email                  0.224242\n",
       "Ringing                                              0.130195\n",
       "Interested in other courses                          0.055519\n",
       "Already a student                                    0.050325\n",
       "Closed by Horizzon                                   0.038745\n",
       "switched off                                         0.025974\n",
       "Busy                                                 0.020130\n",
       "Lost to EINS                                         0.018939\n",
       "Not doing further education                          0.015693\n",
       "Interested  in full time MBA                         0.012662\n",
       "Graduation in progress                               0.012013\n",
       "invalid number                                       0.008983\n",
       "Diploma holder (Not Eligible)                        0.006818\n",
       "wrong number given                                   0.005087\n",
       "opp hangup                                           0.003571\n",
       "number not provided                                  0.002922\n",
       "in touch with EINS                                   0.001299\n",
       "Lost to Others                                       0.000758\n",
       "Still Thinking                                       0.000649\n",
       "Want to take admission but has financial problems    0.000649\n",
       "In confusion whether part time or DLP                0.000541\n",
       "Interested in Next batch                             0.000541\n",
       "Lateral student                                      0.000325\n",
       "University not recognized                            0.000216\n",
       "Shall take in the next coming month                  0.000216\n",
       "Recognition issue (DEC approval)                     0.000108\n",
       "Name: Tags, dtype: float64"
      ]
     },
     "execution_count": 52,
     "metadata": {},
     "output_type": "execute_result"
    }
   ],
   "source": [
    "leads_df1['Tags'].value_counts(dropna=False,normalize = True)"
   ]
  },
  {
   "cell_type": "markdown",
   "metadata": {},
   "source": [
    "combining low frequency tags with 'Other_Tags'"
   ]
  },
  {
   "cell_type": "code",
   "execution_count": 53,
   "metadata": {},
   "outputs": [],
   "source": [
    "leads_df1['Tags'] = leads_df1['Tags'].replace(['In confusion whether part time or DLP', 'in touch with EINS','Diploma holder (Not Eligible)',\n",
    "                                     'Approached upfront','Graduation in progress','number not provided', 'opp hangup','Still Thinking',\n",
    "                                    'Lost to Others','Shall take in the next coming month','Lateral student','Interested in Next batch',\n",
    "                                    'Recognition issue (DEC approval)','Want to take admission but has financial problems',\n",
    "                                    'University not recognized'], 'Other_Tags')"
   ]
  },
  {
   "cell_type": "code",
   "execution_count": 54,
   "metadata": {},
   "outputs": [],
   "source": [
    "leads_df1['Tags'] = leads_df1['Tags'].replace(['switched off',\n",
    "                                      'Already a student',\n",
    "                                       'Not doing further education',\n",
    "                                       'invalid number',\n",
    "                                       'wrong number given',\n",
    "                                       'Interested  in full time MBA'] , 'Other_Tags')"
   ]
  },
  {
   "cell_type": "code",
   "execution_count": 55,
   "metadata": {},
   "outputs": [
    {
     "data": {
      "text/plain": [
       "Lead Origin                                 0.00\n",
       "Lead Source                                 0.39\n",
       "Do Not Email                                0.00\n",
       "Do Not Call                                 0.00\n",
       "Converted                                   0.00\n",
       "TotalVisits                                 1.48\n",
       "Total Time Spent on Website                 0.00\n",
       "Page Views Per Visit                        1.48\n",
       "Last Activity                               1.11\n",
       "Country                                     0.00\n",
       "Specialization                              0.00\n",
       "What is your current occupation             0.00\n",
       "Search                                      0.00\n",
       "Magazine                                    0.00\n",
       "Newspaper Article                           0.00\n",
       "X Education Forums                          0.00\n",
       "Newspaper                                   0.00\n",
       "Digital Advertisement                       0.00\n",
       "Through Recommendations                     0.00\n",
       "Receive More Updates About Our Courses      0.00\n",
       "Tags                                        0.00\n",
       "Update me on Supply Chain Content           0.00\n",
       "Get updates on DM Content                   0.00\n",
       "City                                        0.00\n",
       "I agree to pay the amount through cheque    0.00\n",
       "A free copy of Mastering The Interview      0.00\n",
       "Last Notable Activity                       0.00\n",
       "dtype: float64"
      ]
     },
     "execution_count": 55,
     "metadata": {},
     "output_type": "execute_result"
    }
   ],
   "source": [
    "round(100*(leads_df1.isnull().sum()/len(leads_df1)),2)"
   ]
  },
  {
   "cell_type": "code",
   "execution_count": 56,
   "metadata": {
    "scrolled": true
   },
   "outputs": [
    {
     "data": {
      "text/plain": [
       "Google               0.310390\n",
       "Direct Traffic       0.275216\n",
       "Olark Chat           0.189935\n",
       "Organic Search       0.124892\n",
       "Reference            0.057792\n",
       "Welingak Website     0.015368\n",
       "Referral Sites       0.013528\n",
       "Facebook             0.005952\n",
       "NaN                  0.003896\n",
       "bing                 0.000649\n",
       "google               0.000541\n",
       "Click2call           0.000433\n",
       "Live Chat            0.000216\n",
       "Social Media         0.000216\n",
       "Press_Release        0.000216\n",
       "welearnblog_Home     0.000108\n",
       "NC_EDM               0.000108\n",
       "testone              0.000108\n",
       "blog                 0.000108\n",
       "WeLearn              0.000108\n",
       "youtubechannel       0.000108\n",
       "Pay per Click Ads    0.000108\n",
       "Name: Lead Source, dtype: float64"
      ]
     },
     "execution_count": 56,
     "metadata": {},
     "output_type": "execute_result"
    }
   ],
   "source": [
    "leads_df1['Lead Source'].value_counts(dropna=False,normalize = True)"
   ]
  },
  {
   "cell_type": "code",
   "execution_count": 57,
   "metadata": {},
   "outputs": [],
   "source": [
    "#replacing Nan Values and combining low frequency values\n",
    "leads_df1['Lead Source'] = leads_df1['Lead Source'].replace(np.nan,'Others')\n",
    "leads_df1['Lead Source'] = leads_df1['Lead Source'].replace('google','Google')\n",
    "leads_df1['Lead Source'] = leads_df1['Lead Source'].replace('Facebook','Social Media')\n",
    "leads_df1['Lead Source'] = leads_df1['Lead Source'].replace(['bing','Click2call','Press_Release',\n",
    "                                                     'youtubechannel','welearnblog_Home',\n",
    "                                                     'WeLearn','blog','Pay per Click Ads',\n",
    "                                                    'testone','NC_EDM'] ,'Others')                                                   "
   ]
  },
  {
   "cell_type": "code",
   "execution_count": 63,
   "metadata": {},
   "outputs": [
    {
     "data": {
      "image/png": "[encoded data removed]",
      "text/plain": [
       "<Figure size 1296x432 with 1 Axes>"
      ]
     },
     "metadata": {
      "needs_background": "light"
     },
     "output_type": "display_data"
    }
   ],
   "source": [
    "plt.figure(figsize=(18,6))\n",
    "s1=sns.countplot(leads_df1['Lead Source'], hue=leads_df1.Converted)\n",
    "s1.set_xticklabels(s1.get_xticklabels(),rotation=0)\n",
    "plt.show()"
   ]
  },
  {
   "cell_type": "code",
   "execution_count": 64,
   "metadata": {},
   "outputs": [
    {
     "data": {
      "text/plain": [
       "Email Opened                    0.371970\n",
       "SMS Sent                        0.297078\n",
       "Olark Chat Conversation         0.105303\n",
       "Page Visited on Website         0.069264\n",
       "Converted to Lead               0.046320\n",
       "Email Bounced                   0.035281\n",
       "Email Link Clicked              0.028896\n",
       "Form Submitted on Website       0.012554\n",
       "NaN                             0.011147\n",
       "Unreachable                     0.010065\n",
       "Unsubscribed                    0.006602\n",
       "Had a Phone Conversation        0.003247\n",
       "Approached upfront              0.000974\n",
       "View in browser link Clicked    0.000649\n",
       "Email Marked Spam               0.000216\n",
       "Email Received                  0.000216\n",
       "Resubscribed to emails          0.000108\n",
       "Visited Booth in Tradeshow      0.000108\n",
       "Name: Last Activity, dtype: float64"
      ]
     },
     "execution_count": 64,
     "metadata": {},
     "output_type": "execute_result"
    }
   ],
   "source": [
    "leads_df1['Last Activity'].value_counts(dropna=False,normalize = True)"
   ]
  },
  {
   "cell_type": "code",
   "execution_count": 65,
   "metadata": {},
   "outputs": [],
   "source": [
    "leads_df1['Last Activity'] = leads_df1['Last Activity'].replace(np.nan,'Others')"
   ]
  },
  {
   "cell_type": "code",
   "execution_count": 66,
   "metadata": {},
   "outputs": [],
   "source": [
    "leads_df1['Last Activity'] = leads_df1['Last Activity'].replace(['Unreachable','Unsubscribed',\n",
    "                                                        'Had a Phone Conversation', \n",
    "                                                        'Approached upfront',\n",
    "                                                        'View in browser link Clicked',       \n",
    "                                                        'Email Marked Spam',                  \n",
    "                                                        'Email Received','Resubscribed to emails',\n",
    "                                                         'Visited Booth in Tradeshow'],'Others')"
   ]
  },
  {
   "cell_type": "code",
   "execution_count": 67,
   "metadata": {},
   "outputs": [
    {
     "data": {
      "text/plain": [
       "Email Opened                 0.371970\n",
       "SMS Sent                     0.297078\n",
       "Olark Chat Conversation      0.105303\n",
       "Page Visited on Website      0.069264\n",
       "Converted to Lead            0.046320\n",
       "Email Bounced                0.035281\n",
       "Others                       0.033333\n",
       "Email Link Clicked           0.028896\n",
       "Form Submitted on Website    0.012554\n",
       "Name: Last Activity, dtype: float64"
      ]
     },
     "execution_count": 67,
     "metadata": {},
     "output_type": "execute_result"
    }
   ],
   "source": [
    "leads_df1['Last Activity'].value_counts(dropna=False,normalize = True)"
   ]
  },
  {
   "cell_type": "code",
   "execution_count": 68,
   "metadata": {
    "scrolled": true
   },
   "outputs": [
    {
     "data": {
      "text/plain": [
       "Lead Origin                                 0.00\n",
       "Lead Source                                 0.00\n",
       "Do Not Email                                0.00\n",
       "Do Not Call                                 0.00\n",
       "Converted                                   0.00\n",
       "TotalVisits                                 1.48\n",
       "Total Time Spent on Website                 0.00\n",
       "Page Views Per Visit                        1.48\n",
       "Last Activity                               0.00\n",
       "Country                                     0.00\n",
       "Specialization                              0.00\n",
       "What is your current occupation             0.00\n",
       "Search                                      0.00\n",
       "Magazine                                    0.00\n",
       "Newspaper Article                           0.00\n",
       "X Education Forums                          0.00\n",
       "Newspaper                                   0.00\n",
       "Digital Advertisement                       0.00\n",
       "Through Recommendations                     0.00\n",
       "Receive More Updates About Our Courses      0.00\n",
       "Tags                                        0.00\n",
       "Update me on Supply Chain Content           0.00\n",
       "Get updates on DM Content                   0.00\n",
       "City                                        0.00\n",
       "I agree to pay the amount through cheque    0.00\n",
       "A free copy of Mastering The Interview      0.00\n",
       "Last Notable Activity                       0.00\n",
       "dtype: float64"
      ]
     },
     "execution_count": 68,
     "metadata": {},
     "output_type": "execute_result"
    }
   ],
   "source": [
    "round(100*(leads_df1.isnull().sum()/len(leads_df1)),2)"
   ]
  },
  {
   "cell_type": "code",
   "execution_count": 69,
   "metadata": {},
   "outputs": [],
   "source": [
    "leads_df1 = leads_df1.dropna()"
   ]
  },
  {
   "cell_type": "code",
   "execution_count": 70,
   "metadata": {},
   "outputs": [
    {
     "data": {
      "text/plain": [
       "Landing Page Submission    0.536746\n",
       "API                        0.393057\n",
       "Lead Add Form              0.066791\n",
       "Lead Import                0.003405\n",
       "Name: Lead Origin, dtype: float64"
      ]
     },
     "execution_count": 70,
     "metadata": {},
     "output_type": "execute_result"
    }
   ],
   "source": [
    "leads_df1['Lead Origin'].value_counts(dropna=False,normalize = True)"
   ]
  },
  {
   "cell_type": "code",
   "execution_count": 71,
   "metadata": {},
   "outputs": [
    {
     "data": {
      "image/png": "[encoded data removed]",
      "text/plain": [
       "<Figure size 720x360 with 1 Axes>"
      ]
     },
     "metadata": {
      "needs_background": "light"
     },
     "output_type": "display_data"
    }
   ],
   "source": [
    "plt.figure(figsize=(10,5))\n",
    "sa=sns.countplot(leads_df1['Lead Origin'], hue=leads_df1.Converted)\n",
    "plt.show()"
   ]
  },
  {
   "cell_type": "code",
   "execution_count": 72,
   "metadata": {},
   "outputs": [
    {
     "data": {
      "image/png": "[encoded data removed]",
      "text/plain": [
       "<Figure size 720x360 with 2 Axes>"
      ]
     },
     "metadata": {
      "needs_background": "light"
     },
     "output_type": "display_data"
    }
   ],
   "source": [
    "plt.figure(figsize=(10,5))\n",
    "\n",
    "ax1=plt.subplot(1, 2, 1)\n",
    "ax1=sns.countplot(leads_df1['Do Not Email'], hue=leads_df1.Converted)\n",
    "\n",
    "\n",
    "ax2=plt.subplot(1, 2, 2)\n",
    "ax2=sns.countplot(leads_df1['Do Not Call'], hue=leads_df1.Converted)\n",
    "plt.show()\n"
   ]
  },
  {
   "cell_type": "code",
   "execution_count": 73,
   "metadata": {},
   "outputs": [
    {
     "data": {
      "text/plain": [
       "Lead Origin                                 0.0\n",
       "Lead Source                                 0.0\n",
       "Do Not Email                                0.0\n",
       "Do Not Call                                 0.0\n",
       "Converted                                   0.0\n",
       "TotalVisits                                 0.0\n",
       "Total Time Spent on Website                 0.0\n",
       "Page Views Per Visit                        0.0\n",
       "Last Activity                               0.0\n",
       "Country                                     0.0\n",
       "Specialization                              0.0\n",
       "What is your current occupation             0.0\n",
       "Search                                      0.0\n",
       "Magazine                                    0.0\n",
       "Newspaper Article                           0.0\n",
       "X Education Forums                          0.0\n",
       "Newspaper                                   0.0\n",
       "Digital Advertisement                       0.0\n",
       "Through Recommendations                     0.0\n",
       "Receive More Updates About Our Courses      0.0\n",
       "Tags                                        0.0\n",
       "Update me on Supply Chain Content           0.0\n",
       "Get updates on DM Content                   0.0\n",
       "City                                        0.0\n",
       "I agree to pay the amount through cheque    0.0\n",
       "A free copy of Mastering The Interview      0.0\n",
       "Last Notable Activity                       0.0\n",
       "dtype: float64"
      ]
     },
     "execution_count": 73,
     "metadata": {},
     "output_type": "execute_result"
    }
   ],
   "source": [
    "round(100*(leads_df1.isnull().sum()/len(leads_df1)),2)"
   ]
  },
  {
   "cell_type": "markdown",
   "metadata": {},
   "source": [
    "All the missing values have been treated."
   ]
  },
  {
   "cell_type": "markdown",
   "metadata": {},
   "source": [
    "## Checking for Skewed Data"
   ]
  },
  {
   "cell_type": "code",
   "execution_count": 74,
   "metadata": {},
   "outputs": [
    {
     "data": {
      "text/plain": [
       "No     0.998462\n",
       "Yes    0.001538\n",
       "Name: Search, dtype: float64"
      ]
     },
     "execution_count": 74,
     "metadata": {},
     "output_type": "execute_result"
    }
   ],
   "source": [
    "leads_df1['Search'].value_counts(dropna=False,normalize = True)"
   ]
  },
  {
   "cell_type": "code",
   "execution_count": 75,
   "metadata": {},
   "outputs": [
    {
     "data": {
      "text/plain": [
       "No    1.0\n",
       "Name: Magazine, dtype: float64"
      ]
     },
     "execution_count": 75,
     "metadata": {},
     "output_type": "execute_result"
    }
   ],
   "source": [
    "leads_df1['Magazine'].value_counts(dropna=False,normalize = True)                             "
   ]
  },
  {
   "cell_type": "code",
   "execution_count": 76,
   "metadata": {},
   "outputs": [
    {
     "data": {
      "text/plain": [
       "No     0.99978\n",
       "Yes    0.00022\n",
       "Name: Newspaper Article, dtype: float64"
      ]
     },
     "execution_count": 76,
     "metadata": {},
     "output_type": "execute_result"
    }
   ],
   "source": [
    "leads_df1['Newspaper Article'].value_counts(dropna=False,normalize = True)"
   ]
  },
  {
   "cell_type": "code",
   "execution_count": 77,
   "metadata": {},
   "outputs": [
    {
     "data": {
      "text/plain": [
       "No     0.99989\n",
       "Yes    0.00011\n",
       "Name: Newspaper, dtype: float64"
      ]
     },
     "execution_count": 77,
     "metadata": {},
     "output_type": "execute_result"
    }
   ],
   "source": [
    "leads_df1['Newspaper'].value_counts(dropna=False,normalize = True)"
   ]
  },
  {
   "cell_type": "code",
   "execution_count": 78,
   "metadata": {},
   "outputs": [
    {
     "data": {
      "text/plain": [
       "No     0.99989\n",
       "Yes    0.00011\n",
       "Name: X Education Forums, dtype: float64"
      ]
     },
     "execution_count": 78,
     "metadata": {},
     "output_type": "execute_result"
    }
   ],
   "source": [
    "leads_df1['X Education Forums'].value_counts(dropna=False,normalize = True)"
   ]
  },
  {
   "cell_type": "code",
   "execution_count": 79,
   "metadata": {},
   "outputs": [
    {
     "data": {
      "text/plain": [
       "No     0.999561\n",
       "Yes    0.000439\n",
       "Name: Digital Advertisement, dtype: float64"
      ]
     },
     "execution_count": 79,
     "metadata": {},
     "output_type": "execute_result"
    }
   ],
   "source": [
    "leads_df1['Digital Advertisement'].value_counts(dropna=False,normalize = True)"
   ]
  },
  {
   "cell_type": "code",
   "execution_count": 80,
   "metadata": {},
   "outputs": [
    {
     "data": {
      "text/plain": [
       "No     0.999231\n",
       "Yes    0.000769\n",
       "Name: Through Recommendations, dtype: float64"
      ]
     },
     "execution_count": 80,
     "metadata": {},
     "output_type": "execute_result"
    }
   ],
   "source": [
    "leads_df1['Through Recommendations'].value_counts(dropna=False,normalize = True)"
   ]
  },
  {
   "cell_type": "code",
   "execution_count": 81,
   "metadata": {},
   "outputs": [
    {
     "data": {
      "text/plain": [
       "No    1.0\n",
       "Name: Receive More Updates About Our Courses, dtype: float64"
      ]
     },
     "execution_count": 81,
     "metadata": {},
     "output_type": "execute_result"
    }
   ],
   "source": [
    "leads_df1['Receive More Updates About Our Courses'].value_counts(dropna=False,normalize = True)"
   ]
  },
  {
   "cell_type": "code",
   "execution_count": 82,
   "metadata": {},
   "outputs": [
    {
     "data": {
      "text/plain": [
       "No    1.0\n",
       "Name: Update me on Supply Chain Content, dtype: float64"
      ]
     },
     "execution_count": 82,
     "metadata": {},
     "output_type": "execute_result"
    }
   ],
   "source": [
    "leads_df1['Update me on Supply Chain Content'].value_counts(dropna=False,normalize = True)"
   ]
  },
  {
   "cell_type": "code",
   "execution_count": 83,
   "metadata": {},
   "outputs": [
    {
     "data": {
      "text/plain": [
       "No    1.0\n",
       "Name: Get updates on DM Content, dtype: float64"
      ]
     },
     "execution_count": 83,
     "metadata": {},
     "output_type": "execute_result"
    }
   ],
   "source": [
    "leads_df1['Get updates on DM Content'].value_counts(dropna=False,normalize = True)"
   ]
  },
  {
   "cell_type": "code",
   "execution_count": 84,
   "metadata": {},
   "outputs": [
    {
     "data": {
      "text/plain": [
       "No    1.0\n",
       "Name: I agree to pay the amount through cheque, dtype: float64"
      ]
     },
     "execution_count": 84,
     "metadata": {},
     "output_type": "execute_result"
    }
   ],
   "source": [
    "leads_df1['I agree to pay the amount through cheque'].value_counts(dropna=False,normalize = True)"
   ]
  },
  {
   "cell_type": "code",
   "execution_count": 85,
   "metadata": {},
   "outputs": [
    {
     "data": {
      "text/plain": [
       "No     0.682742\n",
       "Yes    0.317258\n",
       "Name: A free copy of Mastering The Interview, dtype: float64"
      ]
     },
     "execution_count": 85,
     "metadata": {},
     "output_type": "execute_result"
    }
   ],
   "source": [
    "leads_df1['A free copy of Mastering The Interview'].value_counts(dropna=False,normalize = True)"
   ]
  },
  {
   "cell_type": "code",
   "execution_count": 86,
   "metadata": {},
   "outputs": [
    {
     "data": {
      "text/plain": [
       "Modified                        0.359222\n",
       "Email Opened                    0.310557\n",
       "SMS Sent                        0.238603\n",
       "Page Visited on Website         0.034934\n",
       "Olark Chat Conversation         0.020103\n",
       "Email Link Clicked              0.019005\n",
       "Email Bounced                   0.006591\n",
       "Unsubscribed                    0.005163\n",
       "Unreachable                     0.003515\n",
       "Had a Phone Conversation        0.001538\n",
       "Email Marked Spam               0.000220\n",
       "Form Submitted on Website       0.000110\n",
       "View in browser link Clicked    0.000110\n",
       "Email Received                  0.000110\n",
       "Resubscribed to emails          0.000110\n",
       "Approached upfront              0.000110\n",
       "Name: Last Notable Activity, dtype: float64"
      ]
     },
     "execution_count": 86,
     "metadata": {},
     "output_type": "execute_result"
    }
   ],
   "source": [
    "leads_df1['Last Notable Activity'].value_counts(dropna=False,normalize = True)"
   ]
  },
  {
   "cell_type": "code",
   "execution_count": 87,
   "metadata": {},
   "outputs": [],
   "source": [
    "leads_df1['Last Notable Activity'] = leads_df1['Last Notable Activity'].replace(['Had a Phone Conversation',\n",
    "                                                                       'Email Marked Spam',\n",
    "                                                                         'Unreachable',\n",
    "                                                                         'Unsubscribed',\n",
    "                                                                         'Email Bounced',                                                                    \n",
    "                                                                       'Resubscribed to emails',\n",
    "                                                                       'View in browser link Clicked',\n",
    "                                                                       'Approached upfront', 'Form Submitted on Website', \n",
    "                                                                       'Email Received'],'Other_Notable_activity')"
   ]
  },
  {
   "cell_type": "code",
   "execution_count": 88,
   "metadata": {
    "scrolled": true
   },
   "outputs": [
    {
     "data": {
      "text/plain": [
       "Modified                   0.359222\n",
       "Email Opened               0.310557\n",
       "SMS Sent                   0.238603\n",
       "Page Visited on Website    0.034934\n",
       "Olark Chat Conversation    0.020103\n",
       "Email Link Clicked         0.019005\n",
       "Other_Notable_activity     0.017577\n",
       "Name: Last Notable Activity, dtype: float64"
      ]
     },
     "execution_count": 88,
     "metadata": {},
     "output_type": "execute_result"
    }
   ],
   "source": [
    "leads_df1['Last Notable Activity'].value_counts(dropna=False,normalize = True)"
   ]
  },
  {
   "cell_type": "code",
   "execution_count": 89,
   "metadata": {},
   "outputs": [
    {
     "data": {
      "text/plain": [
       "Index(['Lead Origin', 'Lead Source', 'Do Not Email', 'Do Not Call',\n",
       "       'Converted', 'TotalVisits', 'Total Time Spent on Website',\n",
       "       'Page Views Per Visit', 'Last Activity', 'Country', 'Specialization',\n",
       "       'What is your current occupation', 'Search', 'Magazine',\n",
       "       'Newspaper Article', 'X Education Forums', 'Newspaper',\n",
       "       'Digital Advertisement', 'Through Recommendations',\n",
       "       'Receive More Updates About Our Courses', 'Tags',\n",
       "       'Update me on Supply Chain Content', 'Get updates on DM Content',\n",
       "       'City', 'I agree to pay the amount through cheque',\n",
       "       'A free copy of Mastering The Interview', 'Last Notable Activity'],\n",
       "      dtype='object')"
      ]
     },
     "execution_count": 89,
     "metadata": {},
     "output_type": "execute_result"
    }
   ],
   "source": [
    "leads_df1.columns"
   ]
  },
  {
   "cell_type": "code",
   "execution_count": 90,
   "metadata": {},
   "outputs": [
    {
     "name": "stdout",
     "output_type": "stream",
     "text": [
      "<class 'pandas.core.frame.DataFrame'>\n",
      "Int64Index: 9103 entries, 0 to 9239\n",
      "Data columns (total 14 columns):\n",
      " #   Column                                  Non-Null Count  Dtype  \n",
      "---  ------                                  --------------  -----  \n",
      " 0   Lead Origin                             9103 non-null   object \n",
      " 1   Lead Source                             9103 non-null   object \n",
      " 2   Do Not Email                            9103 non-null   object \n",
      " 3   Converted                               9103 non-null   int64  \n",
      " 4   TotalVisits                             9103 non-null   float64\n",
      " 5   Total Time Spent on Website             9103 non-null   int64  \n",
      " 6   Page Views Per Visit                    9103 non-null   float64\n",
      " 7   Last Activity                           9103 non-null   object \n",
      " 8   Specialization                          9103 non-null   object \n",
      " 9   What is your current occupation         9103 non-null   object \n",
      " 10  Tags                                    9103 non-null   object \n",
      " 11  City                                    9103 non-null   object \n",
      " 12  A free copy of Mastering The Interview  9103 non-null   object \n",
      " 13  Last Notable Activity                   9103 non-null   object \n",
      "dtypes: float64(2), int64(2), object(10)\n",
      "memory usage: 1.4+ MB\n"
     ]
    }
   ],
   "source": [
    "leads_df1 = leads_df1.drop(['Country','Do Not Call','Search','Magazine','Newspaper Article','X Education Forums','Newspaper','Digital Advertisement','Through Recommendations','Receive More Updates About Our Courses','Update me on Supply Chain Content','Get updates on DM Content','I agree to pay the amount through cheque'],1)\n",
    "leads_df1.info()"
   ]
  },
  {
   "cell_type": "code",
   "execution_count": 91,
   "metadata": {},
   "outputs": [
    {
     "data": {
      "image/png": "[encoded data removed]",
      "text/plain": [
       "<Figure size 432x288 with 2 Axes>"
      ]
     },
     "metadata": {
      "needs_background": "light"
     },
     "output_type": "display_data"
    }
   ],
   "source": [
    "# Plotting the correlation matrix\n",
    "sns.heatmap(leads_df1.corr(), cmap=\"PuBu_r\", annot=True)\n",
    "plt.show()"
   ]
  },
  {
   "cell_type": "markdown",
   "metadata": {},
   "source": [
    "## Checking for outliers and performing capping if required"
   ]
  },
  {
   "cell_type": "code",
   "execution_count": 92,
   "metadata": {},
   "outputs": [
    {
     "data": {
      "text/plain": [
       "count    9103.000000\n",
       "mean        3.445238\n",
       "std         4.854853\n",
       "min         0.000000\n",
       "5%          0.000000\n",
       "25%         1.000000\n",
       "50%         3.000000\n",
       "75%         5.000000\n",
       "90%         7.000000\n",
       "95%        10.000000\n",
       "99%        17.000000\n",
       "max       251.000000\n",
       "Name: TotalVisits, dtype: float64"
      ]
     },
     "execution_count": 92,
     "metadata": {},
     "output_type": "execute_result"
    }
   ],
   "source": [
    "leads_df1['TotalVisits'].describe(percentiles=[0.05,.25, .5, .75, .90, .95, .99])"
   ]
  },
  {
   "cell_type": "code",
   "execution_count": 93,
   "metadata": {
    "scrolled": true
   },
   "outputs": [
    {
     "data": {
      "image/png": "[encoded data removed]",
      "text/plain": [
       "<Figure size 432x288 with 1 Axes>"
      ]
     },
     "metadata": {
      "needs_background": "light"
     },
     "output_type": "display_data"
    }
   ],
   "source": [
    "# Capping the column values between 1 percentile and 99 percentile\n",
    "q1 = leads_df1.TotalVisits.quantile(0.01)\n",
    "leads_df1 = leads_df1[(leads_df1.TotalVisits >= q1)]\n",
    "q3 = leads_df1.TotalVisits.quantile(0.99)\n",
    "leads_df1= leads_df1[(leads_df1.TotalVisits <= q3)]\n",
    "sns.boxplot(y = leads_df1['TotalVisits'])\n",
    "plt.show()"
   ]
  },
  {
   "cell_type": "code",
   "execution_count": 94,
   "metadata": {},
   "outputs": [
    {
     "data": {
      "text/plain": [
       "count    9020.000000\n",
       "mean      479.759534\n",
       "std       544.688157\n",
       "min         0.000000\n",
       "5%          0.000000\n",
       "25%         7.000000\n",
       "50%       243.000000\n",
       "75%       915.250000\n",
       "90%      1371.000000\n",
       "95%      1554.050000\n",
       "99%      1836.620000\n",
       "max      2272.000000\n",
       "Name: Total Time Spent on Website, dtype: float64"
      ]
     },
     "execution_count": 94,
     "metadata": {},
     "output_type": "execute_result"
    }
   ],
   "source": [
    "leads_df1['Total Time Spent on Website'].describe(percentiles=[0.05,.25, .5, .75, .90, .95, .99])"
   ]
  },
  {
   "cell_type": "code",
   "execution_count": 95,
   "metadata": {},
   "outputs": [
    {
     "data": {
      "image/png": "[encoded data removed]",
      "text/plain": [
       "<Figure size 432x288 with 1 Axes>"
      ]
     },
     "metadata": {
      "needs_background": "light"
     },
     "output_type": "display_data"
    }
   ],
   "source": [
    "sns.boxplot(y=leads_df1['Total Time Spent on Website'])\n",
    "plt.show()"
   ]
  },
  {
   "cell_type": "code",
   "execution_count": 96,
   "metadata": {},
   "outputs": [
    {
     "data": {
      "text/plain": [
       "count    9020.000000\n",
       "mean        2.337271\n",
       "std         2.062363\n",
       "min         0.000000\n",
       "5%          0.000000\n",
       "25%         1.000000\n",
       "50%         2.000000\n",
       "75%         3.000000\n",
       "90%         5.000000\n",
       "95%         6.000000\n",
       "99%         9.000000\n",
       "max        16.000000\n",
       "Name: Page Views Per Visit, dtype: float64"
      ]
     },
     "execution_count": 96,
     "metadata": {},
     "output_type": "execute_result"
    }
   ],
   "source": [
    "leads_df1['Page Views Per Visit'].describe(percentiles=[0.05,.25, .5, .75, .90, .95, .99])"
   ]
  },
  {
   "cell_type": "code",
   "execution_count": 97,
   "metadata": {},
   "outputs": [
    {
     "data": {
      "image/png": "[encoded data removed]",
      "text/plain": [
       "<Figure size 432x288 with 1 Axes>"
      ]
     },
     "metadata": {
      "needs_background": "light"
     },
     "output_type": "display_data"
    }
   ],
   "source": [
    "sns.boxplot(y=leads_df1['Page Views Per Visit'])\n",
    "plt.show()"
   ]
  },
  {
   "cell_type": "code",
   "execution_count": 98,
   "metadata": {},
   "outputs": [
    {
     "data": {
      "image/png": "[encoded data removed]",
      "text/plain": [
       "<Figure size 432x288 with 1 Axes>"
      ]
     },
     "metadata": {
      "needs_background": "light"
     },
     "output_type": "display_data"
    }
   ],
   "source": [
    "q1 = leads_df1['Page Views Per Visit'].quantile(0.01)\n",
    "leads_df1 = leads_df1[leads_df1['Page Views Per Visit'] >= q1]\n",
    "q3 = leads_df1['Page Views Per Visit'].quantile(0.99)\n",
    "leads_df1= leads_df1[leads_df1['Page Views Per Visit'] <= q3]\n",
    "sns.boxplot(y = leads_df1['Page Views Per Visit'])\n",
    "plt.show()\n"
   ]
  },
  {
   "cell_type": "code",
   "execution_count": 99,
   "metadata": {},
   "outputs": [
    {
     "data": {
      "image/png": "[encoded data removed]",
      "text/plain": [
       "<Figure size 432x288 with 1 Axes>"
      ]
     },
     "metadata": {
      "needs_background": "light"
     },
     "output_type": "display_data"
    }
   ],
   "source": [
    "sns.boxplot(x=leads_df1.Converted, y=leads_df1['Total Time Spent on Website'])\n",
    "plt.show()"
   ]
  },
  {
   "cell_type": "code",
   "execution_count": 100,
   "metadata": {},
   "outputs": [],
   "source": [
    "varlist =  ['A free copy of Mastering The Interview','Do Not Email']\n",
    "\n",
    "# Defining the map function\n",
    "def binary_map(x):\n",
    "    return x.map({'Yes': 1, \"No\": 0})\n",
    "\n",
    "# Applying the function to the housing list\n",
    "leads_df1[varlist] = leads_df1[varlist].apply(binary_map)"
   ]
  },
  {
   "cell_type": "markdown",
   "metadata": {},
   "source": [
    "### Creating dummy variables for the categorical columns"
   ]
  },
  {
   "cell_type": "code",
   "execution_count": 101,
   "metadata": {},
   "outputs": [],
   "source": [
    "dummy = pd.get_dummies(leads_df1[['Lead Origin','What is your current occupation',\n",
    "                             'City']], drop_first=True)\n",
    "\n",
    "leads_df1 = pd.concat([leads_df1,dummy],1)"
   ]
  },
  {
   "cell_type": "code",
   "execution_count": 102,
   "metadata": {},
   "outputs": [],
   "source": [
    "a1= pd.get_dummies(leads_df1['Specialization'], prefix  = 'Specialization')\n",
    "dummy = a1.drop(['Specialization_Not given'], 1)\n",
    "leads_df1 = pd.concat([leads_df1, dummy], axis = 1)\n",
    "b1 = pd.get_dummies(leads_df1['Lead Source'], prefix  = 'Lead Source')\n",
    "dummy = b1.drop(['Lead Source_Others'], 1)\n",
    "leads_df1 = pd.concat([leads_df1, dummy], axis = 1)\n",
    "c1 = pd.get_dummies(leads_df1['Last Activity'], prefix  = 'Last Activity')\n",
    "dummy = c1.drop(['Last Activity_Others'], 1)\n",
    "leads_df1= pd.concat([leads_df1, dummy], axis = 1)\n",
    "d1 = pd.get_dummies(leads_df1['Last Notable Activity'], prefix  = 'Last Notable Activity')\n",
    "dummy = d1.drop(['Last Notable Activity_Other_Notable_activity'], 1)\n",
    "leads_df1= pd.concat([leads_df1, dummy], axis = 1)\n",
    "e1 = pd.get_dummies(leads_df1['Tags'], prefix  = 'Tags')\n",
    "dummy = e1.drop(['Tags_Not specified'], 1)\n",
    "leads_df1 = pd.concat([leads_df1, dummy], axis = 1)\n"
   ]
  },
  {
   "cell_type": "code",
   "execution_count": 103,
   "metadata": {},
   "outputs": [],
   "source": [
    "leads_df1.drop(['Specialization','Lead Source','Last Activity','Last Notable Activity','Tags','Do Not Email','What is your current occupation','City','Lead Origin','A free copy of Mastering The Interview'],1,inplace = True)"
   ]
  },
  {
   "cell_type": "code",
   "execution_count": 104,
   "metadata": {},
   "outputs": [
    {
     "data": {
      "text/html": [
       "<div>\n",
       "<style scoped>\n",
       "    .dataframe tbody tr th:only-of-type {\n",
       "        vertical-align: middle;\n",
       "    }\n",
       "\n",
       "    .dataframe tbody tr th {\n",
       "        vertical-align: top;\n",
       "    }\n",
       "\n",
       "    .dataframe thead th {\n",
       "        text-align: right;\n",
       "    }\n",
       "</style>\n",
       "<table border=\"1\" class=\"dataframe\">\n",
       "  <thead>\n",
       "    <tr style=\"text-align: right;\">\n",
       "      <th></th>\n",
       "      <th>Converted</th>\n",
       "      <th>TotalVisits</th>\n",
       "      <th>Total Time Spent on Website</th>\n",
       "      <th>Page Views Per Visit</th>\n",
       "      <th>Lead Origin_Landing Page Submission</th>\n",
       "      <th>Lead Origin_Lead Add Form</th>\n",
       "      <th>Lead Origin_Lead Import</th>\n",
       "      <th>What is your current occupation_Housewife</th>\n",
       "      <th>What is your current occupation_Other</th>\n",
       "      <th>What is your current occupation_Student</th>\n",
       "      <th>...</th>\n",
       "      <th>Last Notable Activity_Olark Chat Conversation</th>\n",
       "      <th>Last Notable Activity_Page Visited on Website</th>\n",
       "      <th>Last Notable Activity_SMS Sent</th>\n",
       "      <th>Tags_Busy</th>\n",
       "      <th>Tags_Closed by Horizzon</th>\n",
       "      <th>Tags_Interested in other courses</th>\n",
       "      <th>Tags_Lost to EINS</th>\n",
       "      <th>Tags_Other_Tags</th>\n",
       "      <th>Tags_Ringing</th>\n",
       "      <th>Tags_Will revert after reading the email</th>\n",
       "    </tr>\n",
       "  </thead>\n",
       "  <tbody>\n",
       "    <tr>\n",
       "      <th>0</th>\n",
       "      <td>0</td>\n",
       "      <td>0.0</td>\n",
       "      <td>0</td>\n",
       "      <td>0.0</td>\n",
       "      <td>0</td>\n",
       "      <td>0</td>\n",
       "      <td>0</td>\n",
       "      <td>0</td>\n",
       "      <td>0</td>\n",
       "      <td>0</td>\n",
       "      <td>...</td>\n",
       "      <td>0</td>\n",
       "      <td>0</td>\n",
       "      <td>0</td>\n",
       "      <td>0</td>\n",
       "      <td>0</td>\n",
       "      <td>1</td>\n",
       "      <td>0</td>\n",
       "      <td>0</td>\n",
       "      <td>0</td>\n",
       "      <td>0</td>\n",
       "    </tr>\n",
       "    <tr>\n",
       "      <th>1</th>\n",
       "      <td>0</td>\n",
       "      <td>5.0</td>\n",
       "      <td>674</td>\n",
       "      <td>2.5</td>\n",
       "      <td>0</td>\n",
       "      <td>0</td>\n",
       "      <td>0</td>\n",
       "      <td>0</td>\n",
       "      <td>0</td>\n",
       "      <td>0</td>\n",
       "      <td>...</td>\n",
       "      <td>0</td>\n",
       "      <td>0</td>\n",
       "      <td>0</td>\n",
       "      <td>0</td>\n",
       "      <td>0</td>\n",
       "      <td>0</td>\n",
       "      <td>0</td>\n",
       "      <td>0</td>\n",
       "      <td>1</td>\n",
       "      <td>0</td>\n",
       "    </tr>\n",
       "    <tr>\n",
       "      <th>2</th>\n",
       "      <td>1</td>\n",
       "      <td>2.0</td>\n",
       "      <td>1532</td>\n",
       "      <td>2.0</td>\n",
       "      <td>1</td>\n",
       "      <td>0</td>\n",
       "      <td>0</td>\n",
       "      <td>0</td>\n",
       "      <td>0</td>\n",
       "      <td>1</td>\n",
       "      <td>...</td>\n",
       "      <td>0</td>\n",
       "      <td>0</td>\n",
       "      <td>0</td>\n",
       "      <td>0</td>\n",
       "      <td>0</td>\n",
       "      <td>0</td>\n",
       "      <td>0</td>\n",
       "      <td>0</td>\n",
       "      <td>0</td>\n",
       "      <td>1</td>\n",
       "    </tr>\n",
       "    <tr>\n",
       "      <th>3</th>\n",
       "      <td>0</td>\n",
       "      <td>1.0</td>\n",
       "      <td>305</td>\n",
       "      <td>1.0</td>\n",
       "      <td>1</td>\n",
       "      <td>0</td>\n",
       "      <td>0</td>\n",
       "      <td>0</td>\n",
       "      <td>0</td>\n",
       "      <td>0</td>\n",
       "      <td>...</td>\n",
       "      <td>0</td>\n",
       "      <td>0</td>\n",
       "      <td>0</td>\n",
       "      <td>0</td>\n",
       "      <td>0</td>\n",
       "      <td>0</td>\n",
       "      <td>0</td>\n",
       "      <td>0</td>\n",
       "      <td>1</td>\n",
       "      <td>0</td>\n",
       "    </tr>\n",
       "    <tr>\n",
       "      <th>4</th>\n",
       "      <td>1</td>\n",
       "      <td>2.0</td>\n",
       "      <td>1428</td>\n",
       "      <td>1.0</td>\n",
       "      <td>1</td>\n",
       "      <td>0</td>\n",
       "      <td>0</td>\n",
       "      <td>0</td>\n",
       "      <td>0</td>\n",
       "      <td>0</td>\n",
       "      <td>...</td>\n",
       "      <td>0</td>\n",
       "      <td>0</td>\n",
       "      <td>0</td>\n",
       "      <td>0</td>\n",
       "      <td>0</td>\n",
       "      <td>0</td>\n",
       "      <td>0</td>\n",
       "      <td>0</td>\n",
       "      <td>0</td>\n",
       "      <td>1</td>\n",
       "    </tr>\n",
       "  </tbody>\n",
       "</table>\n",
       "<p>5 rows × 57 columns</p>\n",
       "</div>"
      ],
      "text/plain": [
       "   Converted  TotalVisits  Total Time Spent on Website  Page Views Per Visit  \\\n",
       "0          0          0.0                            0                   0.0   \n",
       "1          0          5.0                          674                   2.5   \n",
       "2          1          2.0                         1532                   2.0   \n",
       "3          0          1.0                          305                   1.0   \n",
       "4          1          2.0                         1428                   1.0   \n",
       "\n",
       "   Lead Origin_Landing Page Submission  Lead Origin_Lead Add Form  \\\n",
       "0                                    0                          0   \n",
       "1                                    0                          0   \n",
       "2                                    1                          0   \n",
       "3                                    1                          0   \n",
       "4                                    1                          0   \n",
       "\n",
       "   Lead Origin_Lead Import  What is your current occupation_Housewife  \\\n",
       "0                        0                                          0   \n",
       "1                        0                                          0   \n",
       "2                        0                                          0   \n",
       "3                        0                                          0   \n",
       "4                        0                                          0   \n",
       "\n",
       "   What is your current occupation_Other  \\\n",
       "0                                      0   \n",
       "1                                      0   \n",
       "2                                      0   \n",
       "3                                      0   \n",
       "4                                      0   \n",
       "\n",
       "   What is your current occupation_Student  ...  \\\n",
       "0                                        0  ...   \n",
       "1                                        0  ...   \n",
       "2                                        1  ...   \n",
       "3                                        0  ...   \n",
       "4                                        0  ...   \n",
       "\n",
       "   Last Notable Activity_Olark Chat Conversation  \\\n",
       "0                                              0   \n",
       "1                                              0   \n",
       "2                                              0   \n",
       "3                                              0   \n",
       "4                                              0   \n",
       "\n",
       "   Last Notable Activity_Page Visited on Website  \\\n",
       "0                                              0   \n",
       "1                                              0   \n",
       "2                                              0   \n",
       "3                                              0   \n",
       "4                                              0   \n",
       "\n",
       "   Last Notable Activity_SMS Sent  Tags_Busy  Tags_Closed by Horizzon  \\\n",
       "0                               0          0                        0   \n",
       "1                               0          0                        0   \n",
       "2                               0          0                        0   \n",
       "3                               0          0                        0   \n",
       "4                               0          0                        0   \n",
       "\n",
       "   Tags_Interested in other courses  Tags_Lost to EINS  Tags_Other_Tags  \\\n",
       "0                                 1                  0                0   \n",
       "1                                 0                  0                0   \n",
       "2                                 0                  0                0   \n",
       "3                                 0                  0                0   \n",
       "4                                 0                  0                0   \n",
       "\n",
       "   Tags_Ringing  Tags_Will revert after reading the email  \n",
       "0             0                                         0  \n",
       "1             1                                         0  \n",
       "2             0                                         1  \n",
       "3             1                                         0  \n",
       "4             0                                         1  \n",
       "\n",
       "[5 rows x 57 columns]"
      ]
     },
     "execution_count": 104,
     "metadata": {},
     "output_type": "execute_result"
    }
   ],
   "source": [
    "leads_df1.head()"
   ]
  },
  {
   "cell_type": "code",
   "execution_count": 105,
   "metadata": {},
   "outputs": [
    {
     "data": {
      "text/plain": [
       "Index(['Converted', 'TotalVisits', 'Total Time Spent on Website',\n",
       "       'Page Views Per Visit', 'Lead Origin_Landing Page Submission',\n",
       "       'Lead Origin_Lead Add Form', 'Lead Origin_Lead Import',\n",
       "       'What is your current occupation_Housewife',\n",
       "       'What is your current occupation_Other',\n",
       "       'What is your current occupation_Student',\n",
       "       'What is your current occupation_Unemployed',\n",
       "       'What is your current occupation_Working Professional',\n",
       "       'City_Other Cities', 'City_Other Cities of Maharashtra',\n",
       "       'City_Other Metro Cities', 'City_Thane & Outskirts',\n",
       "       'City_Tier II Cities',\n",
       "       'Specialization_Banking, Investment And Insurance',\n",
       "       'Specialization_Business Administration', 'Specialization_E-Business',\n",
       "       'Specialization_E-COMMERCE', 'Specialization_International Business',\n",
       "       'Specialization_Management_Specializations',\n",
       "       'Specialization_Media and Advertising',\n",
       "       'Specialization_Rural and Agribusiness',\n",
       "       'Specialization_Services Excellence',\n",
       "       'Specialization_Travel and Tourism', 'Lead Source_Direct Traffic',\n",
       "       'Lead Source_Google', 'Lead Source_Live Chat', 'Lead Source_Olark Chat',\n",
       "       'Lead Source_Organic Search', 'Lead Source_Reference',\n",
       "       'Lead Source_Referral Sites', 'Lead Source_Social Media',\n",
       "       'Lead Source_Welingak Website', 'Last Activity_Converted to Lead',\n",
       "       'Last Activity_Email Bounced', 'Last Activity_Email Link Clicked',\n",
       "       'Last Activity_Email Opened', 'Last Activity_Form Submitted on Website',\n",
       "       'Last Activity_Olark Chat Conversation',\n",
       "       'Last Activity_Page Visited on Website', 'Last Activity_SMS Sent',\n",
       "       'Last Notable Activity_Email Link Clicked',\n",
       "       'Last Notable Activity_Email Opened', 'Last Notable Activity_Modified',\n",
       "       'Last Notable Activity_Olark Chat Conversation',\n",
       "       'Last Notable Activity_Page Visited on Website',\n",
       "       'Last Notable Activity_SMS Sent', 'Tags_Busy',\n",
       "       'Tags_Closed by Horizzon', 'Tags_Interested in other courses',\n",
       "       'Tags_Lost to EINS', 'Tags_Other_Tags', 'Tags_Ringing',\n",
       "       'Tags_Will revert after reading the email'],\n",
       "      dtype='object')"
      ]
     },
     "execution_count": 105,
     "metadata": {},
     "output_type": "execute_result"
    }
   ],
   "source": [
    "leads_df1.columns"
   ]
  },
  {
   "cell_type": "markdown",
   "metadata": {},
   "source": [
    "### Splitting the Test Train dataset"
   ]
  },
  {
   "cell_type": "code",
   "execution_count": 106,
   "metadata": {},
   "outputs": [],
   "source": [
    "from sklearn.model_selection import train_test_split"
   ]
  },
  {
   "cell_type": "code",
   "execution_count": 107,
   "metadata": {},
   "outputs": [
    {
     "data": {
      "text/html": [
       "<div>\n",
       "<style scoped>\n",
       "    .dataframe tbody tr th:only-of-type {\n",
       "        vertical-align: middle;\n",
       "    }\n",
       "\n",
       "    .dataframe tbody tr th {\n",
       "        vertical-align: top;\n",
       "    }\n",
       "\n",
       "    .dataframe thead th {\n",
       "        text-align: right;\n",
       "    }\n",
       "</style>\n",
       "<table border=\"1\" class=\"dataframe\">\n",
       "  <thead>\n",
       "    <tr style=\"text-align: right;\">\n",
       "      <th></th>\n",
       "      <th>TotalVisits</th>\n",
       "      <th>Total Time Spent on Website</th>\n",
       "      <th>Page Views Per Visit</th>\n",
       "      <th>Lead Origin_Landing Page Submission</th>\n",
       "      <th>Lead Origin_Lead Add Form</th>\n",
       "      <th>Lead Origin_Lead Import</th>\n",
       "      <th>What is your current occupation_Housewife</th>\n",
       "      <th>What is your current occupation_Other</th>\n",
       "      <th>What is your current occupation_Student</th>\n",
       "      <th>What is your current occupation_Unemployed</th>\n",
       "      <th>...</th>\n",
       "      <th>Last Notable Activity_Olark Chat Conversation</th>\n",
       "      <th>Last Notable Activity_Page Visited on Website</th>\n",
       "      <th>Last Notable Activity_SMS Sent</th>\n",
       "      <th>Tags_Busy</th>\n",
       "      <th>Tags_Closed by Horizzon</th>\n",
       "      <th>Tags_Interested in other courses</th>\n",
       "      <th>Tags_Lost to EINS</th>\n",
       "      <th>Tags_Other_Tags</th>\n",
       "      <th>Tags_Ringing</th>\n",
       "      <th>Tags_Will revert after reading the email</th>\n",
       "    </tr>\n",
       "  </thead>\n",
       "  <tbody>\n",
       "    <tr>\n",
       "      <th>0</th>\n",
       "      <td>0.0</td>\n",
       "      <td>0</td>\n",
       "      <td>0.0</td>\n",
       "      <td>0</td>\n",
       "      <td>0</td>\n",
       "      <td>0</td>\n",
       "      <td>0</td>\n",
       "      <td>0</td>\n",
       "      <td>0</td>\n",
       "      <td>1</td>\n",
       "      <td>...</td>\n",
       "      <td>0</td>\n",
       "      <td>0</td>\n",
       "      <td>0</td>\n",
       "      <td>0</td>\n",
       "      <td>0</td>\n",
       "      <td>1</td>\n",
       "      <td>0</td>\n",
       "      <td>0</td>\n",
       "      <td>0</td>\n",
       "      <td>0</td>\n",
       "    </tr>\n",
       "    <tr>\n",
       "      <th>1</th>\n",
       "      <td>5.0</td>\n",
       "      <td>674</td>\n",
       "      <td>2.5</td>\n",
       "      <td>0</td>\n",
       "      <td>0</td>\n",
       "      <td>0</td>\n",
       "      <td>0</td>\n",
       "      <td>0</td>\n",
       "      <td>0</td>\n",
       "      <td>1</td>\n",
       "      <td>...</td>\n",
       "      <td>0</td>\n",
       "      <td>0</td>\n",
       "      <td>0</td>\n",
       "      <td>0</td>\n",
       "      <td>0</td>\n",
       "      <td>0</td>\n",
       "      <td>0</td>\n",
       "      <td>0</td>\n",
       "      <td>1</td>\n",
       "      <td>0</td>\n",
       "    </tr>\n",
       "    <tr>\n",
       "      <th>2</th>\n",
       "      <td>2.0</td>\n",
       "      <td>1532</td>\n",
       "      <td>2.0</td>\n",
       "      <td>1</td>\n",
       "      <td>0</td>\n",
       "      <td>0</td>\n",
       "      <td>0</td>\n",
       "      <td>0</td>\n",
       "      <td>1</td>\n",
       "      <td>0</td>\n",
       "      <td>...</td>\n",
       "      <td>0</td>\n",
       "      <td>0</td>\n",
       "      <td>0</td>\n",
       "      <td>0</td>\n",
       "      <td>0</td>\n",
       "      <td>0</td>\n",
       "      <td>0</td>\n",
       "      <td>0</td>\n",
       "      <td>0</td>\n",
       "      <td>1</td>\n",
       "    </tr>\n",
       "    <tr>\n",
       "      <th>3</th>\n",
       "      <td>1.0</td>\n",
       "      <td>305</td>\n",
       "      <td>1.0</td>\n",
       "      <td>1</td>\n",
       "      <td>0</td>\n",
       "      <td>0</td>\n",
       "      <td>0</td>\n",
       "      <td>0</td>\n",
       "      <td>0</td>\n",
       "      <td>1</td>\n",
       "      <td>...</td>\n",
       "      <td>0</td>\n",
       "      <td>0</td>\n",
       "      <td>0</td>\n",
       "      <td>0</td>\n",
       "      <td>0</td>\n",
       "      <td>0</td>\n",
       "      <td>0</td>\n",
       "      <td>0</td>\n",
       "      <td>1</td>\n",
       "      <td>0</td>\n",
       "    </tr>\n",
       "    <tr>\n",
       "      <th>4</th>\n",
       "      <td>2.0</td>\n",
       "      <td>1428</td>\n",
       "      <td>1.0</td>\n",
       "      <td>1</td>\n",
       "      <td>0</td>\n",
       "      <td>0</td>\n",
       "      <td>0</td>\n",
       "      <td>0</td>\n",
       "      <td>0</td>\n",
       "      <td>1</td>\n",
       "      <td>...</td>\n",
       "      <td>0</td>\n",
       "      <td>0</td>\n",
       "      <td>0</td>\n",
       "      <td>0</td>\n",
       "      <td>0</td>\n",
       "      <td>0</td>\n",
       "      <td>0</td>\n",
       "      <td>0</td>\n",
       "      <td>0</td>\n",
       "      <td>1</td>\n",
       "    </tr>\n",
       "  </tbody>\n",
       "</table>\n",
       "<p>5 rows × 56 columns</p>\n",
       "</div>"
      ],
      "text/plain": [
       "   TotalVisits  Total Time Spent on Website  Page Views Per Visit  \\\n",
       "0          0.0                            0                   0.0   \n",
       "1          5.0                          674                   2.5   \n",
       "2          2.0                         1532                   2.0   \n",
       "3          1.0                          305                   1.0   \n",
       "4          2.0                         1428                   1.0   \n",
       "\n",
       "   Lead Origin_Landing Page Submission  Lead Origin_Lead Add Form  \\\n",
       "0                                    0                          0   \n",
       "1                                    0                          0   \n",
       "2                                    1                          0   \n",
       "3                                    1                          0   \n",
       "4                                    1                          0   \n",
       "\n",
       "   Lead Origin_Lead Import  What is your current occupation_Housewife  \\\n",
       "0                        0                                          0   \n",
       "1                        0                                          0   \n",
       "2                        0                                          0   \n",
       "3                        0                                          0   \n",
       "4                        0                                          0   \n",
       "\n",
       "   What is your current occupation_Other  \\\n",
       "0                                      0   \n",
       "1                                      0   \n",
       "2                                      0   \n",
       "3                                      0   \n",
       "4                                      0   \n",
       "\n",
       "   What is your current occupation_Student  \\\n",
       "0                                        0   \n",
       "1                                        0   \n",
       "2                                        1   \n",
       "3                                        0   \n",
       "4                                        0   \n",
       "\n",
       "   What is your current occupation_Unemployed  ...  \\\n",
       "0                                           1  ...   \n",
       "1                                           1  ...   \n",
       "2                                           0  ...   \n",
       "3                                           1  ...   \n",
       "4                                           1  ...   \n",
       "\n",
       "   Last Notable Activity_Olark Chat Conversation  \\\n",
       "0                                              0   \n",
       "1                                              0   \n",
       "2                                              0   \n",
       "3                                              0   \n",
       "4                                              0   \n",
       "\n",
       "   Last Notable Activity_Page Visited on Website  \\\n",
       "0                                              0   \n",
       "1                                              0   \n",
       "2                                              0   \n",
       "3                                              0   \n",
       "4                                              0   \n",
       "\n",
       "   Last Notable Activity_SMS Sent  Tags_Busy  Tags_Closed by Horizzon  \\\n",
       "0                               0          0                        0   \n",
       "1                               0          0                        0   \n",
       "2                               0          0                        0   \n",
       "3                               0          0                        0   \n",
       "4                               0          0                        0   \n",
       "\n",
       "   Tags_Interested in other courses  Tags_Lost to EINS  Tags_Other_Tags  \\\n",
       "0                                 1                  0                0   \n",
       "1                                 0                  0                0   \n",
       "2                                 0                  0                0   \n",
       "3                                 0                  0                0   \n",
       "4                                 0                  0                0   \n",
       "\n",
       "   Tags_Ringing  Tags_Will revert after reading the email  \n",
       "0             0                                         0  \n",
       "1             1                                         0  \n",
       "2             0                                         1  \n",
       "3             1                                         0  \n",
       "4             0                                         1  \n",
       "\n",
       "[5 rows x 56 columns]"
      ]
     },
     "execution_count": 107,
     "metadata": {},
     "output_type": "execute_result"
    }
   ],
   "source": [
    "X = leads_df1.drop(['Converted'], axis=1)\n",
    "\n",
    "X.head()"
   ]
  },
  {
   "cell_type": "code",
   "execution_count": 108,
   "metadata": {},
   "outputs": [],
   "source": [
    "# the target variable\n",
    "y = leads_df1['Converted']"
   ]
  },
  {
   "cell_type": "code",
   "execution_count": 109,
   "metadata": {},
   "outputs": [],
   "source": [
    "# Creating the training and test set\n",
    "X_train, X_test, y_train, y_test = train_test_split(X, y, train_size=0.7, test_size=0.3, random_state=100)"
   ]
  },
  {
   "cell_type": "markdown",
   "metadata": {},
   "source": [
    "### Standardisation of the Dataset"
   ]
  },
  {
   "cell_type": "code",
   "execution_count": 110,
   "metadata": {},
   "outputs": [],
   "source": [
    "from sklearn.preprocessing import StandardScaler"
   ]
  },
  {
   "cell_type": "code",
   "execution_count": 111,
   "metadata": {},
   "outputs": [],
   "source": [
    "scaler = StandardScaler()\n",
    "n_columns=X_train.select_dtypes(include=['float64','int64']).columns\n",
    "\n",
    "X_train[n_columns] = scaler.fit_transform(X_train[n_columns])"
   ]
  },
  {
   "cell_type": "code",
   "execution_count": 112,
   "metadata": {},
   "outputs": [
    {
     "data": {
      "text/html": [
       "<div>\n",
       "<style scoped>\n",
       "    .dataframe tbody tr th:only-of-type {\n",
       "        vertical-align: middle;\n",
       "    }\n",
       "\n",
       "    .dataframe tbody tr th {\n",
       "        vertical-align: top;\n",
       "    }\n",
       "\n",
       "    .dataframe thead th {\n",
       "        text-align: right;\n",
       "    }\n",
       "</style>\n",
       "<table border=\"1\" class=\"dataframe\">\n",
       "  <thead>\n",
       "    <tr style=\"text-align: right;\">\n",
       "      <th></th>\n",
       "      <th>TotalVisits</th>\n",
       "      <th>Total Time Spent on Website</th>\n",
       "      <th>Page Views Per Visit</th>\n",
       "      <th>Lead Origin_Landing Page Submission</th>\n",
       "      <th>Lead Origin_Lead Add Form</th>\n",
       "      <th>Lead Origin_Lead Import</th>\n",
       "      <th>What is your current occupation_Housewife</th>\n",
       "      <th>What is your current occupation_Other</th>\n",
       "      <th>What is your current occupation_Student</th>\n",
       "      <th>What is your current occupation_Unemployed</th>\n",
       "      <th>...</th>\n",
       "      <th>Last Notable Activity_Olark Chat Conversation</th>\n",
       "      <th>Last Notable Activity_Page Visited on Website</th>\n",
       "      <th>Last Notable Activity_SMS Sent</th>\n",
       "      <th>Tags_Busy</th>\n",
       "      <th>Tags_Closed by Horizzon</th>\n",
       "      <th>Tags_Interested in other courses</th>\n",
       "      <th>Tags_Lost to EINS</th>\n",
       "      <th>Tags_Other_Tags</th>\n",
       "      <th>Tags_Ringing</th>\n",
       "      <th>Tags_Will revert after reading the email</th>\n",
       "    </tr>\n",
       "  </thead>\n",
       "  <tbody>\n",
       "    <tr>\n",
       "      <th>9196</th>\n",
       "      <td>0.668862</td>\n",
       "      <td>1.848117</td>\n",
       "      <td>1.455819</td>\n",
       "      <td>1</td>\n",
       "      <td>0</td>\n",
       "      <td>0</td>\n",
       "      <td>0</td>\n",
       "      <td>0</td>\n",
       "      <td>0</td>\n",
       "      <td>1</td>\n",
       "      <td>...</td>\n",
       "      <td>0</td>\n",
       "      <td>0</td>\n",
       "      <td>1</td>\n",
       "      <td>0</td>\n",
       "      <td>0</td>\n",
       "      <td>0</td>\n",
       "      <td>0</td>\n",
       "      <td>0</td>\n",
       "      <td>1</td>\n",
       "      <td>0</td>\n",
       "    </tr>\n",
       "    <tr>\n",
       "      <th>4696</th>\n",
       "      <td>-0.030697</td>\n",
       "      <td>-0.037832</td>\n",
       "      <td>0.399961</td>\n",
       "      <td>1</td>\n",
       "      <td>0</td>\n",
       "      <td>0</td>\n",
       "      <td>0</td>\n",
       "      <td>0</td>\n",
       "      <td>0</td>\n",
       "      <td>1</td>\n",
       "      <td>...</td>\n",
       "      <td>0</td>\n",
       "      <td>0</td>\n",
       "      <td>1</td>\n",
       "      <td>0</td>\n",
       "      <td>0</td>\n",
       "      <td>0</td>\n",
       "      <td>0</td>\n",
       "      <td>0</td>\n",
       "      <td>1</td>\n",
       "      <td>0</td>\n",
       "    </tr>\n",
       "    <tr>\n",
       "      <th>3274</th>\n",
       "      <td>0.319082</td>\n",
       "      <td>-0.642138</td>\n",
       "      <td>-0.127967</td>\n",
       "      <td>1</td>\n",
       "      <td>0</td>\n",
       "      <td>0</td>\n",
       "      <td>0</td>\n",
       "      <td>0</td>\n",
       "      <td>0</td>\n",
       "      <td>1</td>\n",
       "      <td>...</td>\n",
       "      <td>0</td>\n",
       "      <td>0</td>\n",
       "      <td>1</td>\n",
       "      <td>0</td>\n",
       "      <td>0</td>\n",
       "      <td>0</td>\n",
       "      <td>0</td>\n",
       "      <td>0</td>\n",
       "      <td>0</td>\n",
       "      <td>0</td>\n",
       "    </tr>\n",
       "    <tr>\n",
       "      <th>2164</th>\n",
       "      <td>-0.380477</td>\n",
       "      <td>-0.154676</td>\n",
       "      <td>-0.127967</td>\n",
       "      <td>0</td>\n",
       "      <td>0</td>\n",
       "      <td>0</td>\n",
       "      <td>0</td>\n",
       "      <td>0</td>\n",
       "      <td>0</td>\n",
       "      <td>1</td>\n",
       "      <td>...</td>\n",
       "      <td>0</td>\n",
       "      <td>0</td>\n",
       "      <td>0</td>\n",
       "      <td>0</td>\n",
       "      <td>0</td>\n",
       "      <td>1</td>\n",
       "      <td>0</td>\n",
       "      <td>0</td>\n",
       "      <td>0</td>\n",
       "      <td>0</td>\n",
       "    </tr>\n",
       "    <tr>\n",
       "      <th>1667</th>\n",
       "      <td>0.319082</td>\n",
       "      <td>1.258415</td>\n",
       "      <td>-0.481679</td>\n",
       "      <td>0</td>\n",
       "      <td>0</td>\n",
       "      <td>0</td>\n",
       "      <td>0</td>\n",
       "      <td>0</td>\n",
       "      <td>0</td>\n",
       "      <td>1</td>\n",
       "      <td>...</td>\n",
       "      <td>0</td>\n",
       "      <td>0</td>\n",
       "      <td>0</td>\n",
       "      <td>0</td>\n",
       "      <td>0</td>\n",
       "      <td>0</td>\n",
       "      <td>0</td>\n",
       "      <td>0</td>\n",
       "      <td>0</td>\n",
       "      <td>1</td>\n",
       "    </tr>\n",
       "  </tbody>\n",
       "</table>\n",
       "<p>5 rows × 56 columns</p>\n",
       "</div>"
      ],
      "text/plain": [
       "      TotalVisits  Total Time Spent on Website  Page Views Per Visit  \\\n",
       "9196     0.668862                     1.848117              1.455819   \n",
       "4696    -0.030697                    -0.037832              0.399961   \n",
       "3274     0.319082                    -0.642138             -0.127967   \n",
       "2164    -0.380477                    -0.154676             -0.127967   \n",
       "1667     0.319082                     1.258415             -0.481679   \n",
       "\n",
       "      Lead Origin_Landing Page Submission  Lead Origin_Lead Add Form  \\\n",
       "9196                                    1                          0   \n",
       "4696                                    1                          0   \n",
       "3274                                    1                          0   \n",
       "2164                                    0                          0   \n",
       "1667                                    0                          0   \n",
       "\n",
       "      Lead Origin_Lead Import  What is your current occupation_Housewife  \\\n",
       "9196                        0                                          0   \n",
       "4696                        0                                          0   \n",
       "3274                        0                                          0   \n",
       "2164                        0                                          0   \n",
       "1667                        0                                          0   \n",
       "\n",
       "      What is your current occupation_Other  \\\n",
       "9196                                      0   \n",
       "4696                                      0   \n",
       "3274                                      0   \n",
       "2164                                      0   \n",
       "1667                                      0   \n",
       "\n",
       "      What is your current occupation_Student  \\\n",
       "9196                                        0   \n",
       "4696                                        0   \n",
       "3274                                        0   \n",
       "2164                                        0   \n",
       "1667                                        0   \n",
       "\n",
       "      What is your current occupation_Unemployed  ...  \\\n",
       "9196                                           1  ...   \n",
       "4696                                           1  ...   \n",
       "3274                                           1  ...   \n",
       "2164                                           1  ...   \n",
       "1667                                           1  ...   \n",
       "\n",
       "      Last Notable Activity_Olark Chat Conversation  \\\n",
       "9196                                              0   \n",
       "4696                                              0   \n",
       "3274                                              0   \n",
       "2164                                              0   \n",
       "1667                                              0   \n",
       "\n",
       "      Last Notable Activity_Page Visited on Website  \\\n",
       "9196                                              0   \n",
       "4696                                              0   \n",
       "3274                                              0   \n",
       "2164                                              0   \n",
       "1667                                              0   \n",
       "\n",
       "      Last Notable Activity_SMS Sent  Tags_Busy  Tags_Closed by Horizzon  \\\n",
       "9196                               1          0                        0   \n",
       "4696                               1          0                        0   \n",
       "3274                               1          0                        0   \n",
       "2164                               0          0                        0   \n",
       "1667                               0          0                        0   \n",
       "\n",
       "      Tags_Interested in other courses  Tags_Lost to EINS  Tags_Other_Tags  \\\n",
       "9196                                 0                  0                0   \n",
       "4696                                 0                  0                0   \n",
       "3274                                 0                  0                0   \n",
       "2164                                 1                  0                0   \n",
       "1667                                 0                  0                0   \n",
       "\n",
       "      Tags_Ringing  Tags_Will revert after reading the email  \n",
       "9196             1                                         0  \n",
       "4696             1                                         0  \n",
       "3274             0                                         0  \n",
       "2164             0                                         0  \n",
       "1667             0                                         1  \n",
       "\n",
       "[5 rows x 56 columns]"
      ]
     },
     "execution_count": 112,
     "metadata": {},
     "output_type": "execute_result"
    }
   ],
   "source": [
    "X_train.head()"
   ]
  },
  {
   "cell_type": "markdown",
   "metadata": {},
   "source": [
    "### Total percentage of conversions"
   ]
  },
  {
   "cell_type": "code",
   "execution_count": 113,
   "metadata": {},
   "outputs": [
    {
     "data": {
      "text/plain": [
       "37.92025019546521"
      ]
     },
     "execution_count": 113,
     "metadata": {},
     "output_type": "execute_result"
    }
   ],
   "source": [
    "Converted = 100*(sum(leads_df1['Converted'])/len(leads_df1['Converted']))\n",
    "Converted"
   ]
  },
  {
   "cell_type": "markdown",
   "metadata": {},
   "source": [
    "### Building the Logistic Regression Model"
   ]
  },
  {
   "cell_type": "code",
   "execution_count": 114,
   "metadata": {},
   "outputs": [],
   "source": [
    "import statsmodels.api as sm"
   ]
  },
  {
   "cell_type": "code",
   "execution_count": 115,
   "metadata": {},
   "outputs": [
    {
     "data": {
      "text/html": [
       "<table class=\"simpletable\">\n",
       "<caption>Generalized Linear Model Regression Results</caption>\n",
       "<tr>\n",
       "  <th>Dep. Variable:</th>       <td>Converted</td>    <th>  No. Observations:  </th>  <td>  6267</td> \n",
       "</tr>\n",
       "<tr>\n",
       "  <th>Model:</th>                  <td>GLM</td>       <th>  Df Residuals:      </th>  <td>  6210</td> \n",
       "</tr>\n",
       "<tr>\n",
       "  <th>Model Family:</th>        <td>Binomial</td>     <th>  Df Model:          </th>  <td>    56</td> \n",
       "</tr>\n",
       "<tr>\n",
       "  <th>Link Function:</th>         <td>logit</td>      <th>  Scale:             </th> <td>  1.0000</td>\n",
       "</tr>\n",
       "<tr>\n",
       "  <th>Method:</th>                <td>IRLS</td>       <th>  Log-Likelihood:    </th> <td> -1177.1</td>\n",
       "</tr>\n",
       "<tr>\n",
       "  <th>Date:</th>            <td>Sat, 24 Oct 2020</td> <th>  Deviance:          </th> <td>  2354.3</td>\n",
       "</tr>\n",
       "<tr>\n",
       "  <th>Time:</th>                <td>23:52:06</td>     <th>  Pearson chi2:      </th> <td>7.94e+03</td>\n",
       "</tr>\n",
       "<tr>\n",
       "  <th>No. Iterations:</th>         <td>21</td>        <th>                     </th>     <td> </td>   \n",
       "</tr>\n",
       "<tr>\n",
       "  <th>Covariance Type:</th>     <td>nonrobust</td>    <th>                     </th>     <td> </td>   \n",
       "</tr>\n",
       "</table>\n",
       "<table class=\"simpletable\">\n",
       "<tr>\n",
       "                            <td></td>                              <th>coef</th>     <th>std err</th>      <th>z</th>      <th>P>|z|</th>  <th>[0.025</th>    <th>0.975]</th>  \n",
       "</tr>\n",
       "<tr>\n",
       "  <th>const</th>                                                <td>    0.7350</td> <td>    1.986</td> <td>    0.370</td> <td> 0.711</td> <td>   -3.158</td> <td>    4.628</td>\n",
       "</tr>\n",
       "<tr>\n",
       "  <th>TotalVisits</th>                                          <td>    0.2240</td> <td>    0.077</td> <td>    2.906</td> <td> 0.004</td> <td>    0.073</td> <td>    0.375</td>\n",
       "</tr>\n",
       "<tr>\n",
       "  <th>Total Time Spent on Website</th>                          <td>    1.0821</td> <td>    0.064</td> <td>   16.962</td> <td> 0.000</td> <td>    0.957</td> <td>    1.207</td>\n",
       "</tr>\n",
       "<tr>\n",
       "  <th>Page Views Per Visit</th>                                 <td>   -0.2764</td> <td>    0.096</td> <td>   -2.872</td> <td> 0.004</td> <td>   -0.465</td> <td>   -0.088</td>\n",
       "</tr>\n",
       "<tr>\n",
       "  <th>Lead Origin_Landing Page Submission</th>                  <td>   -0.7227</td> <td>    0.241</td> <td>   -3.001</td> <td> 0.003</td> <td>   -1.195</td> <td>   -0.251</td>\n",
       "</tr>\n",
       "<tr>\n",
       "  <th>Lead Origin_Lead Add Form</th>                            <td>    1.0665</td> <td>    1.220</td> <td>    0.875</td> <td> 0.382</td> <td>   -1.324</td> <td>    3.457</td>\n",
       "</tr>\n",
       "<tr>\n",
       "  <th>Lead Origin_Lead Import</th>                              <td>   23.0261</td> <td> 2.48e+04</td> <td>    0.001</td> <td> 0.999</td> <td>-4.87e+04</td> <td> 4.87e+04</td>\n",
       "</tr>\n",
       "<tr>\n",
       "  <th>What is your current occupation_Housewife</th>            <td>   19.3045</td> <td> 1.97e+04</td> <td>    0.001</td> <td> 0.999</td> <td>-3.85e+04</td> <td> 3.86e+04</td>\n",
       "</tr>\n",
       "<tr>\n",
       "  <th>What is your current occupation_Other</th>                <td>   -0.3072</td> <td>    2.637</td> <td>   -0.116</td> <td> 0.907</td> <td>   -5.476</td> <td>    4.862</td>\n",
       "</tr>\n",
       "<tr>\n",
       "  <th>What is your current occupation_Student</th>              <td>    0.2456</td> <td>    1.795</td> <td>    0.137</td> <td> 0.891</td> <td>   -3.272</td> <td>    3.763</td>\n",
       "</tr>\n",
       "<tr>\n",
       "  <th>What is your current occupation_Unemployed</th>           <td>   -0.1387</td> <td>    1.691</td> <td>   -0.082</td> <td> 0.935</td> <td>   -3.453</td> <td>    3.176</td>\n",
       "</tr>\n",
       "<tr>\n",
       "  <th>What is your current occupation_Working Professional</th> <td>    0.8507</td> <td>    1.735</td> <td>    0.490</td> <td> 0.624</td> <td>   -2.550</td> <td>    4.252</td>\n",
       "</tr>\n",
       "<tr>\n",
       "  <th>City_Other Cities</th>                                    <td>    0.2732</td> <td>    0.232</td> <td>    1.178</td> <td> 0.239</td> <td>   -0.181</td> <td>    0.728</td>\n",
       "</tr>\n",
       "<tr>\n",
       "  <th>City_Other Cities of Maharashtra</th>                     <td>   -0.0801</td> <td>    0.290</td> <td>   -0.276</td> <td> 0.782</td> <td>   -0.648</td> <td>    0.488</td>\n",
       "</tr>\n",
       "<tr>\n",
       "  <th>City_Other Metro Cities</th>                              <td>    0.0053</td> <td>    0.313</td> <td>    0.017</td> <td> 0.987</td> <td>   -0.608</td> <td>    0.618</td>\n",
       "</tr>\n",
       "<tr>\n",
       "  <th>City_Thane & Outskirts</th>                               <td>   -0.0702</td> <td>    0.229</td> <td>   -0.306</td> <td> 0.759</td> <td>   -0.519</td> <td>    0.379</td>\n",
       "</tr>\n",
       "<tr>\n",
       "  <th>City_Tier II Cities</th>                                  <td>    0.3054</td> <td>    0.624</td> <td>    0.490</td> <td> 0.624</td> <td>   -0.917</td> <td>    1.527</td>\n",
       "</tr>\n",
       "<tr>\n",
       "  <th>Specialization_Banking, Investment And Insurance</th>     <td>    0.5416</td> <td>    0.372</td> <td>    1.455</td> <td> 0.146</td> <td>   -0.188</td> <td>    1.271</td>\n",
       "</tr>\n",
       "<tr>\n",
       "  <th>Specialization_Business Administration</th>               <td>   -0.0227</td> <td>    0.352</td> <td>   -0.064</td> <td> 0.949</td> <td>   -0.712</td> <td>    0.667</td>\n",
       "</tr>\n",
       "<tr>\n",
       "  <th>Specialization_E-Business</th>                            <td>    0.1579</td> <td>    0.673</td> <td>    0.235</td> <td> 0.815</td> <td>   -1.162</td> <td>    1.477</td>\n",
       "</tr>\n",
       "<tr>\n",
       "  <th>Specialization_E-COMMERCE</th>                            <td>    0.3421</td> <td>    0.512</td> <td>    0.669</td> <td> 0.504</td> <td>   -0.661</td> <td>    1.345</td>\n",
       "</tr>\n",
       "<tr>\n",
       "  <th>Specialization_International Business</th>                <td>   -0.1343</td> <td>    0.472</td> <td>   -0.285</td> <td> 0.776</td> <td>   -1.059</td> <td>    0.791</td>\n",
       "</tr>\n",
       "<tr>\n",
       "  <th>Specialization_Management_Specializations</th>            <td>    0.0586</td> <td>    0.236</td> <td>    0.249</td> <td> 0.804</td> <td>   -0.403</td> <td>    0.520</td>\n",
       "</tr>\n",
       "<tr>\n",
       "  <th>Specialization_Media and Advertising</th>                 <td>    0.1588</td> <td>    0.429</td> <td>    0.371</td> <td> 0.711</td> <td>   -0.681</td> <td>    0.999</td>\n",
       "</tr>\n",
       "<tr>\n",
       "  <th>Specialization_Rural and Agribusiness</th>                <td>   -0.2681</td> <td>    0.796</td> <td>   -0.337</td> <td> 0.736</td> <td>   -1.827</td> <td>    1.291</td>\n",
       "</tr>\n",
       "<tr>\n",
       "  <th>Specialization_Services Excellence</th>                   <td>    0.4067</td> <td>    0.791</td> <td>    0.514</td> <td> 0.607</td> <td>   -1.144</td> <td>    1.957</td>\n",
       "</tr>\n",
       "<tr>\n",
       "  <th>Specialization_Travel and Tourism</th>                    <td>   -0.7967</td> <td>    0.541</td> <td>   -1.473</td> <td> 0.141</td> <td>   -1.857</td> <td>    0.263</td>\n",
       "</tr>\n",
       "<tr>\n",
       "  <th>Lead Source_Direct Traffic</th>                           <td>   -1.8094</td> <td>    0.944</td> <td>   -1.917</td> <td> 0.055</td> <td>   -3.659</td> <td>    0.041</td>\n",
       "</tr>\n",
       "<tr>\n",
       "  <th>Lead Source_Google</th>                                   <td>   -1.4495</td> <td>    0.941</td> <td>   -1.540</td> <td> 0.123</td> <td>   -3.294</td> <td>    0.395</td>\n",
       "</tr>\n",
       "<tr>\n",
       "  <th>Lead Source_Live Chat</th>                                <td>   15.2810</td> <td> 3.41e+04</td> <td>    0.000</td> <td> 1.000</td> <td>-6.68e+04</td> <td> 6.68e+04</td>\n",
       "</tr>\n",
       "<tr>\n",
       "  <th>Lead Source_Olark Chat</th>                               <td>   -0.7236</td> <td>    0.949</td> <td>   -0.762</td> <td> 0.446</td> <td>   -2.584</td> <td>    1.137</td>\n",
       "</tr>\n",
       "<tr>\n",
       "  <th>Lead Source_Organic Search</th>                           <td>   -1.5384</td> <td>    0.953</td> <td>   -1.614</td> <td> 0.107</td> <td>   -3.407</td> <td>    0.330</td>\n",
       "</tr>\n",
       "<tr>\n",
       "  <th>Lead Source_Reference</th>                                <td>   -1.2283</td> <td>    1.151</td> <td>   -1.067</td> <td> 0.286</td> <td>   -3.485</td> <td>    1.028</td>\n",
       "</tr>\n",
       "<tr>\n",
       "  <th>Lead Source_Referral Sites</th>                           <td>   -1.8875</td> <td>    1.054</td> <td>   -1.790</td> <td> 0.073</td> <td>   -3.954</td> <td>    0.179</td>\n",
       "</tr>\n",
       "<tr>\n",
       "  <th>Lead Source_Social Media</th>                             <td>  -23.7001</td> <td> 2.48e+04</td> <td>   -0.001</td> <td> 0.999</td> <td>-4.87e+04</td> <td> 4.87e+04</td>\n",
       "</tr>\n",
       "<tr>\n",
       "  <th>Lead Source_Welingak Website</th>                         <td>    3.1816</td> <td>    1.453</td> <td>    2.189</td> <td> 0.029</td> <td>    0.333</td> <td>    6.030</td>\n",
       "</tr>\n",
       "<tr>\n",
       "  <th>Last Activity_Converted to Lead</th>                      <td>    0.0640</td> <td>    0.683</td> <td>    0.094</td> <td> 0.925</td> <td>   -1.274</td> <td>    1.402</td>\n",
       "</tr>\n",
       "<tr>\n",
       "  <th>Last Activity_Email Bounced</th>                          <td>   -0.8969</td> <td>    0.627</td> <td>   -1.430</td> <td> 0.153</td> <td>   -2.126</td> <td>    0.332</td>\n",
       "</tr>\n",
       "<tr>\n",
       "  <th>Last Activity_Email Link Clicked</th>                     <td>    1.1611</td> <td>    0.793</td> <td>    1.464</td> <td> 0.143</td> <td>   -0.394</td> <td>    2.716</td>\n",
       "</tr>\n",
       "<tr>\n",
       "  <th>Last Activity_Email Opened</th>                           <td>    0.9835</td> <td>    0.634</td> <td>    1.551</td> <td> 0.121</td> <td>   -0.260</td> <td>    2.227</td>\n",
       "</tr>\n",
       "<tr>\n",
       "  <th>Last Activity_Form Submitted on Website</th>              <td>    1.0255</td> <td>    0.757</td> <td>    1.354</td> <td> 0.176</td> <td>   -0.459</td> <td>    2.510</td>\n",
       "</tr>\n",
       "<tr>\n",
       "  <th>Last Activity_Olark Chat Conversation</th>                <td>   -0.3907</td> <td>    0.652</td> <td>   -0.600</td> <td> 0.549</td> <td>   -1.668</td> <td>    0.886</td>\n",
       "</tr>\n",
       "<tr>\n",
       "  <th>Last Activity_Page Visited on Website</th>                <td>   -0.0112</td> <td>    0.713</td> <td>   -0.016</td> <td> 0.988</td> <td>   -1.409</td> <td>    1.386</td>\n",
       "</tr>\n",
       "<tr>\n",
       "  <th>Last Activity_SMS Sent</th>                               <td>    1.7004</td> <td>    0.625</td> <td>    2.721</td> <td> 0.007</td> <td>    0.476</td> <td>    2.925</td>\n",
       "</tr>\n",
       "<tr>\n",
       "  <th>Last Notable Activity_Email Link Clicked</th>             <td>   -2.8971</td> <td>    0.948</td> <td>   -3.057</td> <td> 0.002</td> <td>   -4.754</td> <td>   -1.040</td>\n",
       "</tr>\n",
       "<tr>\n",
       "  <th>Last Notable Activity_Email Opened</th>                   <td>   -1.3568</td> <td>    0.662</td> <td>   -2.051</td> <td> 0.040</td> <td>   -2.654</td> <td>   -0.060</td>\n",
       "</tr>\n",
       "<tr>\n",
       "  <th>Last Notable Activity_Modified</th>                       <td>   -2.0335</td> <td>    0.617</td> <td>   -3.295</td> <td> 0.001</td> <td>   -3.243</td> <td>   -0.824</td>\n",
       "</tr>\n",
       "<tr>\n",
       "  <th>Last Notable Activity_Olark Chat Conversation</th>        <td>   -2.2872</td> <td>    0.829</td> <td>   -2.759</td> <td> 0.006</td> <td>   -3.912</td> <td>   -0.662</td>\n",
       "</tr>\n",
       "<tr>\n",
       "  <th>Last Notable Activity_Page Visited on Website</th>        <td>   -1.1988</td> <td>    0.806</td> <td>   -1.488</td> <td> 0.137</td> <td>   -2.778</td> <td>    0.380</td>\n",
       "</tr>\n",
       "<tr>\n",
       "  <th>Last Notable Activity_SMS Sent</th>                       <td>    0.1597</td> <td>    0.655</td> <td>    0.244</td> <td> 0.807</td> <td>   -1.123</td> <td>    1.443</td>\n",
       "</tr>\n",
       "<tr>\n",
       "  <th>Tags_Busy</th>                                            <td>    0.7836</td> <td>    0.241</td> <td>    3.256</td> <td> 0.001</td> <td>    0.312</td> <td>    1.255</td>\n",
       "</tr>\n",
       "<tr>\n",
       "  <th>Tags_Closed by Horizzon</th>                              <td>    7.0486</td> <td>    1.027</td> <td>    6.860</td> <td> 0.000</td> <td>    5.035</td> <td>    9.062</td>\n",
       "</tr>\n",
       "<tr>\n",
       "  <th>Tags_Interested in other courses</th>                     <td>   -2.2484</td> <td>    0.415</td> <td>   -5.412</td> <td> 0.000</td> <td>   -3.063</td> <td>   -1.434</td>\n",
       "</tr>\n",
       "<tr>\n",
       "  <th>Tags_Lost to EINS</th>                                    <td>    5.7462</td> <td>    0.622</td> <td>    9.239</td> <td> 0.000</td> <td>    4.527</td> <td>    6.965</td>\n",
       "</tr>\n",
       "<tr>\n",
       "  <th>Tags_Other_Tags</th>                                      <td>   -2.2580</td> <td>    0.222</td> <td>  -10.188</td> <td> 0.000</td> <td>   -2.692</td> <td>   -1.824</td>\n",
       "</tr>\n",
       "<tr>\n",
       "  <th>Tags_Ringing</th>                                         <td>   -3.3973</td> <td>    0.247</td> <td>  -13.743</td> <td> 0.000</td> <td>   -3.882</td> <td>   -2.913</td>\n",
       "</tr>\n",
       "<tr>\n",
       "  <th>Tags_Will revert after reading the email</th>             <td>    4.6208</td> <td>    0.212</td> <td>   21.777</td> <td> 0.000</td> <td>    4.205</td> <td>    5.037</td>\n",
       "</tr>\n",
       "</table>"
      ],
      "text/plain": [
       "<class 'statsmodels.iolib.summary.Summary'>\n",
       "\"\"\"\n",
       "                 Generalized Linear Model Regression Results                  \n",
       "==============================================================================\n",
       "Dep. Variable:              Converted   No. Observations:                 6267\n",
       "Model:                            GLM   Df Residuals:                     6210\n",
       "Model Family:                Binomial   Df Model:                           56\n",
       "Link Function:                  logit   Scale:                          1.0000\n",
       "Method:                          IRLS   Log-Likelihood:                -1177.1\n",
       "Date:                Sat, 24 Oct 2020   Deviance:                       2354.3\n",
       "Time:                        23:52:06   Pearson chi2:                 7.94e+03\n",
       "No. Iterations:                    21                                         \n",
       "Covariance Type:            nonrobust                                         \n",
       "========================================================================================================================\n",
       "                                                           coef    std err          z      P>|z|      [0.025      0.975]\n",
       "------------------------------------------------------------------------------------------------------------------------\n",
       "const                                                    0.7350      1.986      0.370      0.711      -3.158       4.628\n",
       "TotalVisits                                              0.2240      0.077      2.906      0.004       0.073       0.375\n",
       "Total Time Spent on Website                              1.0821      0.064     16.962      0.000       0.957       1.207\n",
       "Page Views Per Visit                                    -0.2764      0.096     -2.872      0.004      -0.465      -0.088\n",
       "Lead Origin_Landing Page Submission                     -0.7227      0.241     -3.001      0.003      -1.195      -0.251\n",
       "Lead Origin_Lead Add Form                                1.0665      1.220      0.875      0.382      -1.324       3.457\n",
       "Lead Origin_Lead Import                                 23.0261   2.48e+04      0.001      0.999   -4.87e+04    4.87e+04\n",
       "What is your current occupation_Housewife               19.3045   1.97e+04      0.001      0.999   -3.85e+04    3.86e+04\n",
       "What is your current occupation_Other                   -0.3072      2.637     -0.116      0.907      -5.476       4.862\n",
       "What is your current occupation_Student                  0.2456      1.795      0.137      0.891      -3.272       3.763\n",
       "What is your current occupation_Unemployed              -0.1387      1.691     -0.082      0.935      -3.453       3.176\n",
       "What is your current occupation_Working Professional     0.8507      1.735      0.490      0.624      -2.550       4.252\n",
       "City_Other Cities                                        0.2732      0.232      1.178      0.239      -0.181       0.728\n",
       "City_Other Cities of Maharashtra                        -0.0801      0.290     -0.276      0.782      -0.648       0.488\n",
       "City_Other Metro Cities                                  0.0053      0.313      0.017      0.987      -0.608       0.618\n",
       "City_Thane & Outskirts                                  -0.0702      0.229     -0.306      0.759      -0.519       0.379\n",
       "City_Tier II Cities                                      0.3054      0.624      0.490      0.624      -0.917       1.527\n",
       "Specialization_Banking, Investment And Insurance         0.5416      0.372      1.455      0.146      -0.188       1.271\n",
       "Specialization_Business Administration                  -0.0227      0.352     -0.064      0.949      -0.712       0.667\n",
       "Specialization_E-Business                                0.1579      0.673      0.235      0.815      -1.162       1.477\n",
       "Specialization_E-COMMERCE                                0.3421      0.512      0.669      0.504      -0.661       1.345\n",
       "Specialization_International Business                   -0.1343      0.472     -0.285      0.776      -1.059       0.791\n",
       "Specialization_Management_Specializations                0.0586      0.236      0.249      0.804      -0.403       0.520\n",
       "Specialization_Media and Advertising                     0.1588      0.429      0.371      0.711      -0.681       0.999\n",
       "Specialization_Rural and Agribusiness                   -0.2681      0.796     -0.337      0.736      -1.827       1.291\n",
       "Specialization_Services Excellence                       0.4067      0.791      0.514      0.607      -1.144       1.957\n",
       "Specialization_Travel and Tourism                       -0.7967      0.541     -1.473      0.141      -1.857       0.263\n",
       "Lead Source_Direct Traffic                              -1.8094      0.944     -1.917      0.055      -3.659       0.041\n",
       "Lead Source_Google                                      -1.4495      0.941     -1.540      0.123      -3.294       0.395\n",
       "Lead Source_Live Chat                                   15.2810   3.41e+04      0.000      1.000   -6.68e+04    6.68e+04\n",
       "Lead Source_Olark Chat                                  -0.7236      0.949     -0.762      0.446      -2.584       1.137\n",
       "Lead Source_Organic Search                              -1.5384      0.953     -1.614      0.107      -3.407       0.330\n",
       "Lead Source_Reference                                   -1.2283      1.151     -1.067      0.286      -3.485       1.028\n",
       "Lead Source_Referral Sites                              -1.8875      1.054     -1.790      0.073      -3.954       0.179\n",
       "Lead Source_Social Media                               -23.7001   2.48e+04     -0.001      0.999   -4.87e+04    4.87e+04\n",
       "Lead Source_Welingak Website                             3.1816      1.453      2.189      0.029       0.333       6.030\n",
       "Last Activity_Converted to Lead                          0.0640      0.683      0.094      0.925      -1.274       1.402\n",
       "Last Activity_Email Bounced                             -0.8969      0.627     -1.430      0.153      -2.126       0.332\n",
       "Last Activity_Email Link Clicked                         1.1611      0.793      1.464      0.143      -0.394       2.716\n",
       "Last Activity_Email Opened                               0.9835      0.634      1.551      0.121      -0.260       2.227\n",
       "Last Activity_Form Submitted on Website                  1.0255      0.757      1.354      0.176      -0.459       2.510\n",
       "Last Activity_Olark Chat Conversation                   -0.3907      0.652     -0.600      0.549      -1.668       0.886\n",
       "Last Activity_Page Visited on Website                   -0.0112      0.713     -0.016      0.988      -1.409       1.386\n",
       "Last Activity_SMS Sent                                   1.7004      0.625      2.721      0.007       0.476       2.925\n",
       "Last Notable Activity_Email Link Clicked                -2.8971      0.948     -3.057      0.002      -4.754      -1.040\n",
       "Last Notable Activity_Email Opened                      -1.3568      0.662     -2.051      0.040      -2.654      -0.060\n",
       "Last Notable Activity_Modified                          -2.0335      0.617     -3.295      0.001      -3.243      -0.824\n",
       "Last Notable Activity_Olark Chat Conversation           -2.2872      0.829     -2.759      0.006      -3.912      -0.662\n",
       "Last Notable Activity_Page Visited on Website           -1.1988      0.806     -1.488      0.137      -2.778       0.380\n",
       "Last Notable Activity_SMS Sent                           0.1597      0.655      0.244      0.807      -1.123       1.443\n",
       "Tags_Busy                                                0.7836      0.241      3.256      0.001       0.312       1.255\n",
       "Tags_Closed by Horizzon                                  7.0486      1.027      6.860      0.000       5.035       9.062\n",
       "Tags_Interested in other courses                        -2.2484      0.415     -5.412      0.000      -3.063      -1.434\n",
       "Tags_Lost to EINS                                        5.7462      0.622      9.239      0.000       4.527       6.965\n",
       "Tags_Other_Tags                                         -2.2580      0.222    -10.188      0.000      -2.692      -1.824\n",
       "Tags_Ringing                                            -3.3973      0.247    -13.743      0.000      -3.882      -2.913\n",
       "Tags_Will revert after reading the email                 4.6208      0.212     21.777      0.000       4.205       5.037\n",
       "========================================================================================================================\n",
       "\"\"\""
      ]
     },
     "execution_count": 115,
     "metadata": {},
     "output_type": "execute_result"
    }
   ],
   "source": [
    "# Logistic regression model\n",
    "logm1 = sm.GLM(y_train,(sm.add_constant(X_train)), family = sm.families.Binomial())\n",
    "logm1.fit().summary()"
   ]
  },
  {
   "cell_type": "code",
   "execution_count": 116,
   "metadata": {},
   "outputs": [],
   "source": [
    "from sklearn.linear_model import LogisticRegression\n",
    "logreg = LogisticRegression()"
   ]
  },
  {
   "cell_type": "code",
   "execution_count": 117,
   "metadata": {},
   "outputs": [],
   "source": [
    "from sklearn.feature_selection import RFE\n",
    "rfe = RFE(logreg, 15)             # running RFE with 13 variables as output\n",
    "rfe = rfe.fit(X_train, y_train)"
   ]
  },
  {
   "cell_type": "code",
   "execution_count": 118,
   "metadata": {},
   "outputs": [
    {
     "data": {
      "text/plain": [
       "array([False,  True, False, False,  True, False, False, False, False,\n",
       "       False, False, False, False, False, False, False, False, False,\n",
       "       False, False, False, False, False, False, False, False,  True,\n",
       "       False, False, False, False, False,  True, False,  True, False,\n",
       "       False, False, False, False, False, False,  True, False, False,\n",
       "        True,  True, False,  True, False,  True,  True,  True,  True,\n",
       "        True,  True])"
      ]
     },
     "execution_count": 118,
     "metadata": {},
     "output_type": "execute_result"
    }
   ],
   "source": [
    "rfe.support_"
   ]
  },
  {
   "cell_type": "code",
   "execution_count": 119,
   "metadata": {},
   "outputs": [
    {
     "data": {
      "text/plain": [
       "[('TotalVisits', False, 26),\n",
       " ('Total Time Spent on Website', True, 1),\n",
       " ('Page Views Per Visit', False, 24),\n",
       " ('Lead Origin_Landing Page Submission', False, 10),\n",
       " ('Lead Origin_Lead Add Form', True, 1),\n",
       " ('Lead Origin_Lead Import', False, 16),\n",
       " ('What is your current occupation_Housewife', False, 31),\n",
       " ('What is your current occupation_Other', False, 34),\n",
       " ('What is your current occupation_Student', False, 23),\n",
       " ('What is your current occupation_Unemployed', False, 20),\n",
       " ('What is your current occupation_Working Professional', False, 8),\n",
       " ('City_Other Cities', False, 22),\n",
       " ('City_Other Cities of Maharashtra', False, 37),\n",
       " ('City_Other Metro Cities', False, 40),\n",
       " ('City_Thane & Outskirts', False, 38),\n",
       " ('City_Tier II Cities', False, 28),\n",
       " ('Specialization_Banking, Investment And Insurance', False, 14),\n",
       " ('Specialization_Business Administration', False, 39),\n",
       " ('Specialization_E-Business', False, 35),\n",
       " ('Specialization_E-COMMERCE', False, 21),\n",
       " ('Specialization_International Business', False, 41),\n",
       " ('Specialization_Management_Specializations', False, 36),\n",
       " ('Specialization_Media and Advertising', False, 33),\n",
       " ('Specialization_Rural and Agribusiness', False, 30),\n",
       " ('Specialization_Services Excellence', False, 32),\n",
       " ('Specialization_Travel and Tourism', False, 7),\n",
       " ('Lead Source_Direct Traffic', True, 1),\n",
       " ('Lead Source_Google', False, 3),\n",
       " ('Lead Source_Live Chat', False, 42),\n",
       " ('Lead Source_Olark Chat', False, 29),\n",
       " ('Lead Source_Organic Search', False, 2),\n",
       " ('Lead Source_Reference', False, 13),\n",
       " ('Lead Source_Referral Sites', True, 1),\n",
       " ('Lead Source_Social Media', False, 15),\n",
       " ('Lead Source_Welingak Website', True, 1),\n",
       " ('Last Activity_Converted to Lead', False, 11),\n",
       " ('Last Activity_Email Bounced', False, 5),\n",
       " ('Last Activity_Email Link Clicked', False, 27),\n",
       " ('Last Activity_Email Opened', False, 18),\n",
       " ('Last Activity_Form Submitted on Website', False, 17),\n",
       " ('Last Activity_Olark Chat Conversation', False, 6),\n",
       " ('Last Activity_Page Visited on Website', False, 12),\n",
       " ('Last Activity_SMS Sent', True, 1),\n",
       " ('Last Notable Activity_Email Link Clicked', False, 4),\n",
       " ('Last Notable Activity_Email Opened', False, 19),\n",
       " ('Last Notable Activity_Modified', True, 1),\n",
       " ('Last Notable Activity_Olark Chat Conversation', True, 1),\n",
       " ('Last Notable Activity_Page Visited on Website', False, 25),\n",
       " ('Last Notable Activity_SMS Sent', True, 1),\n",
       " ('Tags_Busy', False, 9),\n",
       " ('Tags_Closed by Horizzon', True, 1),\n",
       " ('Tags_Interested in other courses', True, 1),\n",
       " ('Tags_Lost to EINS', True, 1),\n",
       " ('Tags_Other_Tags', True, 1),\n",
       " ('Tags_Ringing', True, 1),\n",
       " ('Tags_Will revert after reading the email', True, 1)]"
      ]
     },
     "execution_count": 119,
     "metadata": {},
     "output_type": "execute_result"
    }
   ],
   "source": [
    "list(zip(X_train.columns, rfe.support_, rfe.ranking_))"
   ]
  },
  {
   "cell_type": "code",
   "execution_count": 120,
   "metadata": {},
   "outputs": [],
   "source": [
    "col = X_train.columns[rfe.support_]"
   ]
  },
  {
   "cell_type": "code",
   "execution_count": 121,
   "metadata": {
    "scrolled": true
   },
   "outputs": [
    {
     "data": {
      "text/plain": [
       "Index(['TotalVisits', 'Page Views Per Visit',\n",
       "       'Lead Origin_Landing Page Submission', 'Lead Origin_Lead Import',\n",
       "       'What is your current occupation_Housewife',\n",
       "       'What is your current occupation_Other',\n",
       "       'What is your current occupation_Student',\n",
       "       'What is your current occupation_Unemployed',\n",
       "       'What is your current occupation_Working Professional',\n",
       "       'City_Other Cities', 'City_Other Cities of Maharashtra',\n",
       "       'City_Other Metro Cities', 'City_Thane & Outskirts',\n",
       "       'City_Tier II Cities',\n",
       "       'Specialization_Banking, Investment And Insurance',\n",
       "       'Specialization_Business Administration', 'Specialization_E-Business',\n",
       "       'Specialization_E-COMMERCE', 'Specialization_International Business',\n",
       "       'Specialization_Management_Specializations',\n",
       "       'Specialization_Media and Advertising',\n",
       "       'Specialization_Rural and Agribusiness',\n",
       "       'Specialization_Services Excellence',\n",
       "       'Specialization_Travel and Tourism', 'Lead Source_Google',\n",
       "       'Lead Source_Live Chat', 'Lead Source_Olark Chat',\n",
       "       'Lead Source_Organic Search', 'Lead Source_Reference',\n",
       "       'Lead Source_Social Media', 'Last Activity_Converted to Lead',\n",
       "       'Last Activity_Email Bounced', 'Last Activity_Email Link Clicked',\n",
       "       'Last Activity_Email Opened', 'Last Activity_Form Submitted on Website',\n",
       "       'Last Activity_Olark Chat Conversation',\n",
       "       'Last Activity_Page Visited on Website',\n",
       "       'Last Notable Activity_Email Link Clicked',\n",
       "       'Last Notable Activity_Email Opened',\n",
       "       'Last Notable Activity_Page Visited on Website', 'Tags_Busy'],\n",
       "      dtype='object')"
      ]
     },
     "execution_count": 121,
     "metadata": {},
     "output_type": "execute_result"
    }
   ],
   "source": [
    "X_train.columns[~rfe.support_]"
   ]
  },
  {
   "cell_type": "code",
   "execution_count": 122,
   "metadata": {},
   "outputs": [
    {
     "data": {
      "text/html": [
       "<table class=\"simpletable\">\n",
       "<caption>Generalized Linear Model Regression Results</caption>\n",
       "<tr>\n",
       "  <th>Dep. Variable:</th>       <td>Converted</td>    <th>  No. Observations:  </th>  <td>  6267</td> \n",
       "</tr>\n",
       "<tr>\n",
       "  <th>Model:</th>                  <td>GLM</td>       <th>  Df Residuals:      </th>  <td>  6251</td> \n",
       "</tr>\n",
       "<tr>\n",
       "  <th>Model Family:</th>        <td>Binomial</td>     <th>  Df Model:          </th>  <td>    15</td> \n",
       "</tr>\n",
       "<tr>\n",
       "  <th>Link Function:</th>         <td>logit</td>      <th>  Scale:             </th> <td>  1.0000</td>\n",
       "</tr>\n",
       "<tr>\n",
       "  <th>Method:</th>                <td>IRLS</td>       <th>  Log-Likelihood:    </th> <td> -1254.7</td>\n",
       "</tr>\n",
       "<tr>\n",
       "  <th>Date:</th>            <td>Sat, 24 Oct 2020</td> <th>  Deviance:          </th> <td>  2509.3</td>\n",
       "</tr>\n",
       "<tr>\n",
       "  <th>Time:</th>                <td>23:53:07</td>     <th>  Pearson chi2:      </th> <td>8.34e+03</td>\n",
       "</tr>\n",
       "<tr>\n",
       "  <th>No. Iterations:</th>          <td>8</td>        <th>                     </th>     <td> </td>   \n",
       "</tr>\n",
       "<tr>\n",
       "  <th>Covariance Type:</th>     <td>nonrobust</td>    <th>                     </th>     <td> </td>   \n",
       "</tr>\n",
       "</table>\n",
       "<table class=\"simpletable\">\n",
       "<tr>\n",
       "                        <td></td>                           <th>coef</th>     <th>std err</th>      <th>z</th>      <th>P>|z|</th>  <th>[0.025</th>    <th>0.975]</th>  \n",
       "</tr>\n",
       "<tr>\n",
       "  <th>const</th>                                         <td>   -1.1899</td> <td>    0.088</td> <td>  -13.480</td> <td> 0.000</td> <td>   -1.363</td> <td>   -1.017</td>\n",
       "</tr>\n",
       "<tr>\n",
       "  <th>Total Time Spent on Website</th>                   <td>    0.8970</td> <td>    0.053</td> <td>   16.999</td> <td> 0.000</td> <td>    0.794</td> <td>    1.000</td>\n",
       "</tr>\n",
       "<tr>\n",
       "  <th>Lead Origin_Lead Add Form</th>                     <td>    1.6712</td> <td>    0.450</td> <td>    3.714</td> <td> 0.000</td> <td>    0.789</td> <td>    2.553</td>\n",
       "</tr>\n",
       "<tr>\n",
       "  <th>Lead Source_Direct Traffic</th>                    <td>   -0.8320</td> <td>    0.129</td> <td>   -6.471</td> <td> 0.000</td> <td>   -1.084</td> <td>   -0.580</td>\n",
       "</tr>\n",
       "<tr>\n",
       "  <th>Lead Source_Referral Sites</th>                    <td>   -0.5284</td> <td>    0.465</td> <td>   -1.138</td> <td> 0.255</td> <td>   -1.439</td> <td>    0.382</td>\n",
       "</tr>\n",
       "<tr>\n",
       "  <th>Lead Source_Welingak Website</th>                  <td>    3.9043</td> <td>    1.110</td> <td>    3.518</td> <td> 0.000</td> <td>    1.729</td> <td>    6.079</td>\n",
       "</tr>\n",
       "<tr>\n",
       "  <th>Last Activity_SMS Sent</th>                        <td>    1.2373</td> <td>    0.223</td> <td>    5.555</td> <td> 0.000</td> <td>    0.801</td> <td>    1.674</td>\n",
       "</tr>\n",
       "<tr>\n",
       "  <th>Last Notable Activity_Modified</th>                <td>   -1.2839</td> <td>    0.150</td> <td>   -8.532</td> <td> 0.000</td> <td>   -1.579</td> <td>   -0.989</td>\n",
       "</tr>\n",
       "<tr>\n",
       "  <th>Last Notable Activity_Olark Chat Conversation</th> <td>   -1.7123</td> <td>    0.490</td> <td>   -3.496</td> <td> 0.000</td> <td>   -2.672</td> <td>   -0.752</td>\n",
       "</tr>\n",
       "<tr>\n",
       "  <th>Last Notable Activity_SMS Sent</th>                <td>    1.0151</td> <td>    0.257</td> <td>    3.943</td> <td> 0.000</td> <td>    0.511</td> <td>    1.520</td>\n",
       "</tr>\n",
       "<tr>\n",
       "  <th>Tags_Closed by Horizzon</th>                       <td>    6.9834</td> <td>    1.019</td> <td>    6.853</td> <td> 0.000</td> <td>    4.986</td> <td>    8.981</td>\n",
       "</tr>\n",
       "<tr>\n",
       "  <th>Tags_Interested in other courses</th>              <td>   -2.1641</td> <td>    0.407</td> <td>   -5.321</td> <td> 0.000</td> <td>   -2.961</td> <td>   -1.367</td>\n",
       "</tr>\n",
       "<tr>\n",
       "  <th>Tags_Lost to EINS</th>                             <td>    5.7302</td> <td>    0.608</td> <td>    9.419</td> <td> 0.000</td> <td>    4.538</td> <td>    6.923</td>\n",
       "</tr>\n",
       "<tr>\n",
       "  <th>Tags_Other_Tags</th>                               <td>   -2.4417</td> <td>    0.210</td> <td>  -11.633</td> <td> 0.000</td> <td>   -2.853</td> <td>   -2.030</td>\n",
       "</tr>\n",
       "<tr>\n",
       "  <th>Tags_Ringing</th>                                  <td>   -3.5858</td> <td>    0.243</td> <td>  -14.752</td> <td> 0.000</td> <td>   -4.062</td> <td>   -3.109</td>\n",
       "</tr>\n",
       "<tr>\n",
       "  <th>Tags_Will revert after reading the email</th>      <td>    4.4263</td> <td>    0.185</td> <td>   23.989</td> <td> 0.000</td> <td>    4.065</td> <td>    4.788</td>\n",
       "</tr>\n",
       "</table>"
      ],
      "text/plain": [
       "<class 'statsmodels.iolib.summary.Summary'>\n",
       "\"\"\"\n",
       "                 Generalized Linear Model Regression Results                  \n",
       "==============================================================================\n",
       "Dep. Variable:              Converted   No. Observations:                 6267\n",
       "Model:                            GLM   Df Residuals:                     6251\n",
       "Model Family:                Binomial   Df Model:                           15\n",
       "Link Function:                  logit   Scale:                          1.0000\n",
       "Method:                          IRLS   Log-Likelihood:                -1254.7\n",
       "Date:                Sat, 24 Oct 2020   Deviance:                       2509.3\n",
       "Time:                        23:53:07   Pearson chi2:                 8.34e+03\n",
       "No. Iterations:                     8                                         \n",
       "Covariance Type:            nonrobust                                         \n",
       "=================================================================================================================\n",
       "                                                    coef    std err          z      P>|z|      [0.025      0.975]\n",
       "-----------------------------------------------------------------------------------------------------------------\n",
       "const                                            -1.1899      0.088    -13.480      0.000      -1.363      -1.017\n",
       "Total Time Spent on Website                       0.8970      0.053     16.999      0.000       0.794       1.000\n",
       "Lead Origin_Lead Add Form                         1.6712      0.450      3.714      0.000       0.789       2.553\n",
       "Lead Source_Direct Traffic                       -0.8320      0.129     -6.471      0.000      -1.084      -0.580\n",
       "Lead Source_Referral Sites                       -0.5284      0.465     -1.138      0.255      -1.439       0.382\n",
       "Lead Source_Welingak Website                      3.9043      1.110      3.518      0.000       1.729       6.079\n",
       "Last Activity_SMS Sent                            1.2373      0.223      5.555      0.000       0.801       1.674\n",
       "Last Notable Activity_Modified                   -1.2839      0.150     -8.532      0.000      -1.579      -0.989\n",
       "Last Notable Activity_Olark Chat Conversation    -1.7123      0.490     -3.496      0.000      -2.672      -0.752\n",
       "Last Notable Activity_SMS Sent                    1.0151      0.257      3.943      0.000       0.511       1.520\n",
       "Tags_Closed by Horizzon                           6.9834      1.019      6.853      0.000       4.986       8.981\n",
       "Tags_Interested in other courses                 -2.1641      0.407     -5.321      0.000      -2.961      -1.367\n",
       "Tags_Lost to EINS                                 5.7302      0.608      9.419      0.000       4.538       6.923\n",
       "Tags_Other_Tags                                  -2.4417      0.210    -11.633      0.000      -2.853      -2.030\n",
       "Tags_Ringing                                     -3.5858      0.243    -14.752      0.000      -4.062      -3.109\n",
       "Tags_Will revert after reading the email          4.4263      0.185     23.989      0.000       4.065       4.788\n",
       "=================================================================================================================\n",
       "\"\"\""
      ]
     },
     "execution_count": 122,
     "metadata": {},
     "output_type": "execute_result"
    }
   ],
   "source": [
    "X_train_sm = sm.add_constant(X_train[col])\n",
    "logm1 = sm.GLM(y_train,X_train_sm, family = sm.families.Binomial())\n",
    "res = logm1.fit()\n",
    "res.summary()"
   ]
  },
  {
   "cell_type": "markdown",
   "metadata": {},
   "source": [
    "Dropping the column 'Lead Source_Referral Sites' as it has a high p value"
   ]
  },
  {
   "cell_type": "code",
   "execution_count": 123,
   "metadata": {},
   "outputs": [
    {
     "data": {
      "text/plain": [
       "Index(['Total Time Spent on Website', 'Lead Origin_Lead Add Form',\n",
       "       'Lead Source_Direct Traffic', 'Lead Source_Welingak Website',\n",
       "       'Last Activity_SMS Sent', 'Last Notable Activity_Modified',\n",
       "       'Last Notable Activity_Olark Chat Conversation',\n",
       "       'Last Notable Activity_SMS Sent', 'Tags_Closed by Horizzon',\n",
       "       'Tags_Interested in other courses', 'Tags_Lost to EINS',\n",
       "       'Tags_Other_Tags', 'Tags_Ringing',\n",
       "       'Tags_Will revert after reading the email'],\n",
       "      dtype='object')"
      ]
     },
     "execution_count": 123,
     "metadata": {},
     "output_type": "execute_result"
    }
   ],
   "source": [
    "col = col.drop('Lead Source_Referral Sites', 1)\n",
    "col"
   ]
  },
  {
   "cell_type": "code",
   "execution_count": 124,
   "metadata": {},
   "outputs": [
    {
     "data": {
      "text/html": [
       "<table class=\"simpletable\">\n",
       "<caption>Generalized Linear Model Regression Results</caption>\n",
       "<tr>\n",
       "  <th>Dep. Variable:</th>       <td>Converted</td>    <th>  No. Observations:  </th>  <td>  6267</td> \n",
       "</tr>\n",
       "<tr>\n",
       "  <th>Model:</th>                  <td>GLM</td>       <th>  Df Residuals:      </th>  <td>  6252</td> \n",
       "</tr>\n",
       "<tr>\n",
       "  <th>Model Family:</th>        <td>Binomial</td>     <th>  Df Model:          </th>  <td>    14</td> \n",
       "</tr>\n",
       "<tr>\n",
       "  <th>Link Function:</th>         <td>logit</td>      <th>  Scale:             </th> <td>  1.0000</td>\n",
       "</tr>\n",
       "<tr>\n",
       "  <th>Method:</th>                <td>IRLS</td>       <th>  Log-Likelihood:    </th> <td> -1255.3</td>\n",
       "</tr>\n",
       "<tr>\n",
       "  <th>Date:</th>            <td>Sat, 24 Oct 2020</td> <th>  Deviance:          </th> <td>  2510.7</td>\n",
       "</tr>\n",
       "<tr>\n",
       "  <th>Time:</th>                <td>23:53:55</td>     <th>  Pearson chi2:      </th> <td>8.34e+03</td>\n",
       "</tr>\n",
       "<tr>\n",
       "  <th>No. Iterations:</th>          <td>8</td>        <th>                     </th>     <td> </td>   \n",
       "</tr>\n",
       "<tr>\n",
       "  <th>Covariance Type:</th>     <td>nonrobust</td>    <th>                     </th>     <td> </td>   \n",
       "</tr>\n",
       "</table>\n",
       "<table class=\"simpletable\">\n",
       "<tr>\n",
       "                        <td></td>                           <th>coef</th>     <th>std err</th>      <th>z</th>      <th>P>|z|</th>  <th>[0.025</th>    <th>0.975]</th>  \n",
       "</tr>\n",
       "<tr>\n",
       "  <th>const</th>                                         <td>   -1.2029</td> <td>    0.088</td> <td>  -13.729</td> <td> 0.000</td> <td>   -1.375</td> <td>   -1.031</td>\n",
       "</tr>\n",
       "<tr>\n",
       "  <th>Total Time Spent on Website</th>                   <td>    0.8963</td> <td>    0.053</td> <td>   16.979</td> <td> 0.000</td> <td>    0.793</td> <td>    1.000</td>\n",
       "</tr>\n",
       "<tr>\n",
       "  <th>Lead Origin_Lead Add Form</th>                     <td>    1.6795</td> <td>    0.450</td> <td>    3.735</td> <td> 0.000</td> <td>    0.798</td> <td>    2.561</td>\n",
       "</tr>\n",
       "<tr>\n",
       "  <th>Lead Source_Direct Traffic</th>                    <td>   -0.8224</td> <td>    0.128</td> <td>   -6.409</td> <td> 0.000</td> <td>   -1.074</td> <td>   -0.571</td>\n",
       "</tr>\n",
       "<tr>\n",
       "  <th>Lead Source_Welingak Website</th>                  <td>    3.9060</td> <td>    1.110</td> <td>    3.520</td> <td> 0.000</td> <td>    1.731</td> <td>    6.081</td>\n",
       "</tr>\n",
       "<tr>\n",
       "  <th>Last Activity_SMS Sent</th>                        <td>    1.2437</td> <td>    0.223</td> <td>    5.584</td> <td> 0.000</td> <td>    0.807</td> <td>    1.680</td>\n",
       "</tr>\n",
       "<tr>\n",
       "  <th>Last Notable Activity_Modified</th>                <td>   -1.2791</td> <td>    0.150</td> <td>   -8.501</td> <td> 0.000</td> <td>   -1.574</td> <td>   -0.984</td>\n",
       "</tr>\n",
       "<tr>\n",
       "  <th>Last Notable Activity_Olark Chat Conversation</th> <td>   -1.7079</td> <td>    0.489</td> <td>   -3.491</td> <td> 0.000</td> <td>   -2.667</td> <td>   -0.749</td>\n",
       "</tr>\n",
       "<tr>\n",
       "  <th>Last Notable Activity_SMS Sent</th>                <td>    1.0150</td> <td>    0.257</td> <td>    3.943</td> <td> 0.000</td> <td>    0.510</td> <td>    1.520</td>\n",
       "</tr>\n",
       "<tr>\n",
       "  <th>Tags_Closed by Horizzon</th>                       <td>    6.9868</td> <td>    1.019</td> <td>    6.857</td> <td> 0.000</td> <td>    4.990</td> <td>    8.984</td>\n",
       "</tr>\n",
       "<tr>\n",
       "  <th>Tags_Interested in other courses</th>              <td>   -2.2028</td> <td>    0.409</td> <td>   -5.391</td> <td> 0.000</td> <td>   -3.004</td> <td>   -1.402</td>\n",
       "</tr>\n",
       "<tr>\n",
       "  <th>Tags_Lost to EINS</th>                             <td>    5.7337</td> <td>    0.608</td> <td>    9.426</td> <td> 0.000</td> <td>    4.541</td> <td>    6.926</td>\n",
       "</tr>\n",
       "<tr>\n",
       "  <th>Tags_Other_Tags</th>                               <td>   -2.4401</td> <td>    0.210</td> <td>  -11.625</td> <td> 0.000</td> <td>   -2.852</td> <td>   -2.029</td>\n",
       "</tr>\n",
       "<tr>\n",
       "  <th>Tags_Ringing</th>                                  <td>   -3.5818</td> <td>    0.243</td> <td>  -14.740</td> <td> 0.000</td> <td>   -4.058</td> <td>   -3.106</td>\n",
       "</tr>\n",
       "<tr>\n",
       "  <th>Tags_Will revert after reading the email</th>      <td>    4.4234</td> <td>    0.184</td> <td>   23.993</td> <td> 0.000</td> <td>    4.062</td> <td>    4.785</td>\n",
       "</tr>\n",
       "</table>"
      ],
      "text/plain": [
       "<class 'statsmodels.iolib.summary.Summary'>\n",
       "\"\"\"\n",
       "                 Generalized Linear Model Regression Results                  \n",
       "==============================================================================\n",
       "Dep. Variable:              Converted   No. Observations:                 6267\n",
       "Model:                            GLM   Df Residuals:                     6252\n",
       "Model Family:                Binomial   Df Model:                           14\n",
       "Link Function:                  logit   Scale:                          1.0000\n",
       "Method:                          IRLS   Log-Likelihood:                -1255.3\n",
       "Date:                Sat, 24 Oct 2020   Deviance:                       2510.7\n",
       "Time:                        23:53:55   Pearson chi2:                 8.34e+03\n",
       "No. Iterations:                     8                                         \n",
       "Covariance Type:            nonrobust                                         \n",
       "=================================================================================================================\n",
       "                                                    coef    std err          z      P>|z|      [0.025      0.975]\n",
       "-----------------------------------------------------------------------------------------------------------------\n",
       "const                                            -1.2029      0.088    -13.729      0.000      -1.375      -1.031\n",
       "Total Time Spent on Website                       0.8963      0.053     16.979      0.000       0.793       1.000\n",
       "Lead Origin_Lead Add Form                         1.6795      0.450      3.735      0.000       0.798       2.561\n",
       "Lead Source_Direct Traffic                       -0.8224      0.128     -6.409      0.000      -1.074      -0.571\n",
       "Lead Source_Welingak Website                      3.9060      1.110      3.520      0.000       1.731       6.081\n",
       "Last Activity_SMS Sent                            1.2437      0.223      5.584      0.000       0.807       1.680\n",
       "Last Notable Activity_Modified                   -1.2791      0.150     -8.501      0.000      -1.574      -0.984\n",
       "Last Notable Activity_Olark Chat Conversation    -1.7079      0.489     -3.491      0.000      -2.667      -0.749\n",
       "Last Notable Activity_SMS Sent                    1.0150      0.257      3.943      0.000       0.510       1.520\n",
       "Tags_Closed by Horizzon                           6.9868      1.019      6.857      0.000       4.990       8.984\n",
       "Tags_Interested in other courses                 -2.2028      0.409     -5.391      0.000      -3.004      -1.402\n",
       "Tags_Lost to EINS                                 5.7337      0.608      9.426      0.000       4.541       6.926\n",
       "Tags_Other_Tags                                  -2.4401      0.210    -11.625      0.000      -2.852      -2.029\n",
       "Tags_Ringing                                     -3.5818      0.243    -14.740      0.000      -4.058      -3.106\n",
       "Tags_Will revert after reading the email          4.4234      0.184     23.993      0.000       4.062       4.785\n",
       "=================================================================================================================\n",
       "\"\"\""
      ]
     },
     "execution_count": 124,
     "metadata": {},
     "output_type": "execute_result"
    }
   ],
   "source": [
    "X_train_sm = sm.add_constant(X_train[col])\n",
    "logm2 = sm.GLM(y_train,X_train_sm, family = sm.families.Binomial())\n",
    "res = logm2.fit()\n",
    "res.summary()"
   ]
  },
  {
   "cell_type": "code",
   "execution_count": 125,
   "metadata": {},
   "outputs": [],
   "source": [
    "# Check for the VIF values of the feature variables. \n",
    "from statsmodels.stats.outliers_influence import variance_inflation_factor"
   ]
  },
  {
   "cell_type": "code",
   "execution_count": 126,
   "metadata": {},
   "outputs": [
    {
     "data": {
      "text/html": [
       "<div>\n",
       "<style scoped>\n",
       "    .dataframe tbody tr th:only-of-type {\n",
       "        vertical-align: middle;\n",
       "    }\n",
       "\n",
       "    .dataframe tbody tr th {\n",
       "        vertical-align: top;\n",
       "    }\n",
       "\n",
       "    .dataframe thead th {\n",
       "        text-align: right;\n",
       "    }\n",
       "</style>\n",
       "<table border=\"1\" class=\"dataframe\">\n",
       "  <thead>\n",
       "    <tr style=\"text-align: right;\">\n",
       "      <th></th>\n",
       "      <th>Features</th>\n",
       "      <th>VIF</th>\n",
       "    </tr>\n",
       "  </thead>\n",
       "  <tbody>\n",
       "    <tr>\n",
       "      <th>7</th>\n",
       "      <td>Last Notable Activity_SMS Sent</td>\n",
       "      <td>6.22</td>\n",
       "    </tr>\n",
       "    <tr>\n",
       "      <th>4</th>\n",
       "      <td>Last Activity_SMS Sent</td>\n",
       "      <td>6.12</td>\n",
       "    </tr>\n",
       "    <tr>\n",
       "      <th>1</th>\n",
       "      <td>Lead Origin_Lead Add Form</td>\n",
       "      <td>1.82</td>\n",
       "    </tr>\n",
       "    <tr>\n",
       "      <th>5</th>\n",
       "      <td>Last Notable Activity_Modified</td>\n",
       "      <td>1.69</td>\n",
       "    </tr>\n",
       "    <tr>\n",
       "      <th>13</th>\n",
       "      <td>Tags_Will revert after reading the email</td>\n",
       "      <td>1.61</td>\n",
       "    </tr>\n",
       "    <tr>\n",
       "      <th>2</th>\n",
       "      <td>Lead Source_Direct Traffic</td>\n",
       "      <td>1.38</td>\n",
       "    </tr>\n",
       "    <tr>\n",
       "      <th>3</th>\n",
       "      <td>Lead Source_Welingak Website</td>\n",
       "      <td>1.34</td>\n",
       "    </tr>\n",
       "    <tr>\n",
       "      <th>11</th>\n",
       "      <td>Tags_Other_Tags</td>\n",
       "      <td>1.26</td>\n",
       "    </tr>\n",
       "    <tr>\n",
       "      <th>0</th>\n",
       "      <td>Total Time Spent on Website</td>\n",
       "      <td>1.22</td>\n",
       "    </tr>\n",
       "    <tr>\n",
       "      <th>8</th>\n",
       "      <td>Tags_Closed by Horizzon</td>\n",
       "      <td>1.21</td>\n",
       "    </tr>\n",
       "    <tr>\n",
       "      <th>12</th>\n",
       "      <td>Tags_Ringing</td>\n",
       "      <td>1.18</td>\n",
       "    </tr>\n",
       "    <tr>\n",
       "      <th>9</th>\n",
       "      <td>Tags_Interested in other courses</td>\n",
       "      <td>1.13</td>\n",
       "    </tr>\n",
       "    <tr>\n",
       "      <th>10</th>\n",
       "      <td>Tags_Lost to EINS</td>\n",
       "      <td>1.06</td>\n",
       "    </tr>\n",
       "    <tr>\n",
       "      <th>6</th>\n",
       "      <td>Last Notable Activity_Olark Chat Conversation</td>\n",
       "      <td>1.01</td>\n",
       "    </tr>\n",
       "  </tbody>\n",
       "</table>\n",
       "</div>"
      ],
      "text/plain": [
       "                                         Features   VIF\n",
       "7                  Last Notable Activity_SMS Sent  6.22\n",
       "4                          Last Activity_SMS Sent  6.12\n",
       "1                       Lead Origin_Lead Add Form  1.82\n",
       "5                  Last Notable Activity_Modified  1.69\n",
       "13       Tags_Will revert after reading the email  1.61\n",
       "2                      Lead Source_Direct Traffic  1.38\n",
       "3                    Lead Source_Welingak Website  1.34\n",
       "11                                Tags_Other_Tags  1.26\n",
       "0                     Total Time Spent on Website  1.22\n",
       "8                         Tags_Closed by Horizzon  1.21\n",
       "12                                   Tags_Ringing  1.18\n",
       "9                Tags_Interested in other courses  1.13\n",
       "10                              Tags_Lost to EINS  1.06\n",
       "6   Last Notable Activity_Olark Chat Conversation  1.01"
      ]
     },
     "execution_count": 126,
     "metadata": {},
     "output_type": "execute_result"
    }
   ],
   "source": [
    "# Create a dataframe that will contain the names of all the feature variables and their respective VIFs\n",
    "vif = pd.DataFrame()\n",
    "vif['Features'] = X_train[col].columns\n",
    "vif['VIF'] = [variance_inflation_factor(X_train[col].values, i) for i in range(X_train[col].shape[1])]\n",
    "vif['VIF'] = round(vif['VIF'], 2)\n",
    "vif = vif.sort_values(by = \"VIF\", ascending = False)\n",
    "vif"
   ]
  },
  {
   "cell_type": "markdown",
   "metadata": {},
   "source": [
    "Dropping the column 'Last Notable Activity_SMS Sent' as it has a high VIF value which shows that the information in this column has been captured by other columns"
   ]
  },
  {
   "cell_type": "code",
   "execution_count": 127,
   "metadata": {},
   "outputs": [
    {
     "data": {
      "text/plain": [
       "Index(['Total Time Spent on Website', 'Lead Origin_Lead Add Form',\n",
       "       'Lead Source_Direct Traffic', 'Lead Source_Welingak Website',\n",
       "       'Last Activity_SMS Sent', 'Last Notable Activity_Modified',\n",
       "       'Last Notable Activity_Olark Chat Conversation',\n",
       "       'Tags_Closed by Horizzon', 'Tags_Interested in other courses',\n",
       "       'Tags_Lost to EINS', 'Tags_Other_Tags', 'Tags_Ringing',\n",
       "       'Tags_Will revert after reading the email'],\n",
       "      dtype='object')"
      ]
     },
     "execution_count": 127,
     "metadata": {},
     "output_type": "execute_result"
    }
   ],
   "source": [
    "col = col.drop('Last Notable Activity_SMS Sent', 1)\n",
    "col"
   ]
  },
  {
   "cell_type": "code",
   "execution_count": 128,
   "metadata": {},
   "outputs": [
    {
     "data": {
      "text/html": [
       "<table class=\"simpletable\">\n",
       "<caption>Generalized Linear Model Regression Results</caption>\n",
       "<tr>\n",
       "  <th>Dep. Variable:</th>       <td>Converted</td>    <th>  No. Observations:  </th>  <td>  6267</td> \n",
       "</tr>\n",
       "<tr>\n",
       "  <th>Model:</th>                  <td>GLM</td>       <th>  Df Residuals:      </th>  <td>  6253</td> \n",
       "</tr>\n",
       "<tr>\n",
       "  <th>Model Family:</th>        <td>Binomial</td>     <th>  Df Model:          </th>  <td>    13</td> \n",
       "</tr>\n",
       "<tr>\n",
       "  <th>Link Function:</th>         <td>logit</td>      <th>  Scale:             </th> <td>  1.0000</td>\n",
       "</tr>\n",
       "<tr>\n",
       "  <th>Method:</th>                <td>IRLS</td>       <th>  Log-Likelihood:    </th> <td> -1263.3</td>\n",
       "</tr>\n",
       "<tr>\n",
       "  <th>Date:</th>            <td>Sat, 24 Oct 2020</td> <th>  Deviance:          </th> <td>  2526.6</td>\n",
       "</tr>\n",
       "<tr>\n",
       "  <th>Time:</th>                <td>23:55:52</td>     <th>  Pearson chi2:      </th> <td>8.51e+03</td>\n",
       "</tr>\n",
       "<tr>\n",
       "  <th>No. Iterations:</th>          <td>8</td>        <th>                     </th>     <td> </td>   \n",
       "</tr>\n",
       "<tr>\n",
       "  <th>Covariance Type:</th>     <td>nonrobust</td>    <th>                     </th>     <td> </td>   \n",
       "</tr>\n",
       "</table>\n",
       "<table class=\"simpletable\">\n",
       "<tr>\n",
       "                        <td></td>                           <th>coef</th>     <th>std err</th>      <th>z</th>      <th>P>|z|</th>  <th>[0.025</th>    <th>0.975]</th>  \n",
       "</tr>\n",
       "<tr>\n",
       "  <th>const</th>                                         <td>   -1.1179</td> <td>    0.084</td> <td>  -13.382</td> <td> 0.000</td> <td>   -1.282</td> <td>   -0.954</td>\n",
       "</tr>\n",
       "<tr>\n",
       "  <th>Total Time Spent on Website</th>                   <td>    0.8896</td> <td>    0.053</td> <td>   16.907</td> <td> 0.000</td> <td>    0.786</td> <td>    0.993</td>\n",
       "</tr>\n",
       "<tr>\n",
       "  <th>Lead Origin_Lead Add Form</th>                     <td>    1.6630</td> <td>    0.455</td> <td>    3.657</td> <td> 0.000</td> <td>    0.772</td> <td>    2.554</td>\n",
       "</tr>\n",
       "<tr>\n",
       "  <th>Lead Source_Direct Traffic</th>                    <td>   -0.8212</td> <td>    0.127</td> <td>   -6.471</td> <td> 0.000</td> <td>   -1.070</td> <td>   -0.572</td>\n",
       "</tr>\n",
       "<tr>\n",
       "  <th>Lead Source_Welingak Website</th>                  <td>    3.8845</td> <td>    1.114</td> <td>    3.488</td> <td> 0.000</td> <td>    1.701</td> <td>    6.068</td>\n",
       "</tr>\n",
       "<tr>\n",
       "  <th>Last Activity_SMS Sent</th>                        <td>    1.9981</td> <td>    0.113</td> <td>   17.718</td> <td> 0.000</td> <td>    1.777</td> <td>    2.219</td>\n",
       "</tr>\n",
       "<tr>\n",
       "  <th>Last Notable Activity_Modified</th>                <td>   -1.6525</td> <td>    0.124</td> <td>  -13.279</td> <td> 0.000</td> <td>   -1.896</td> <td>   -1.409</td>\n",
       "</tr>\n",
       "<tr>\n",
       "  <th>Last Notable Activity_Olark Chat Conversation</th> <td>   -1.8023</td> <td>    0.491</td> <td>   -3.669</td> <td> 0.000</td> <td>   -2.765</td> <td>   -0.839</td>\n",
       "</tr>\n",
       "<tr>\n",
       "  <th>Tags_Closed by Horizzon</th>                       <td>    7.1955</td> <td>    1.020</td> <td>    7.053</td> <td> 0.000</td> <td>    5.196</td> <td>    9.195</td>\n",
       "</tr>\n",
       "<tr>\n",
       "  <th>Tags_Interested in other courses</th>              <td>   -2.1318</td> <td>    0.406</td> <td>   -5.253</td> <td> 0.000</td> <td>   -2.927</td> <td>   -1.336</td>\n",
       "</tr>\n",
       "<tr>\n",
       "  <th>Tags_Lost to EINS</th>                             <td>    5.9177</td> <td>    0.611</td> <td>    9.689</td> <td> 0.000</td> <td>    4.721</td> <td>    7.115</td>\n",
       "</tr>\n",
       "<tr>\n",
       "  <th>Tags_Other_Tags</th>                               <td>   -2.3737</td> <td>    0.206</td> <td>  -11.507</td> <td> 0.000</td> <td>   -2.778</td> <td>   -1.969</td>\n",
       "</tr>\n",
       "<tr>\n",
       "  <th>Tags_Ringing</th>                                  <td>   -3.4531</td> <td>    0.238</td> <td>  -14.532</td> <td> 0.000</td> <td>   -3.919</td> <td>   -2.987</td>\n",
       "</tr>\n",
       "<tr>\n",
       "  <th>Tags_Will revert after reading the email</th>      <td>    4.5070</td> <td>    0.188</td> <td>   24.002</td> <td> 0.000</td> <td>    4.139</td> <td>    4.875</td>\n",
       "</tr>\n",
       "</table>"
      ],
      "text/plain": [
       "<class 'statsmodels.iolib.summary.Summary'>\n",
       "\"\"\"\n",
       "                 Generalized Linear Model Regression Results                  \n",
       "==============================================================================\n",
       "Dep. Variable:              Converted   No. Observations:                 6267\n",
       "Model:                            GLM   Df Residuals:                     6253\n",
       "Model Family:                Binomial   Df Model:                           13\n",
       "Link Function:                  logit   Scale:                          1.0000\n",
       "Method:                          IRLS   Log-Likelihood:                -1263.3\n",
       "Date:                Sat, 24 Oct 2020   Deviance:                       2526.6\n",
       "Time:                        23:55:52   Pearson chi2:                 8.51e+03\n",
       "No. Iterations:                     8                                         \n",
       "Covariance Type:            nonrobust                                         \n",
       "=================================================================================================================\n",
       "                                                    coef    std err          z      P>|z|      [0.025      0.975]\n",
       "-----------------------------------------------------------------------------------------------------------------\n",
       "const                                            -1.1179      0.084    -13.382      0.000      -1.282      -0.954\n",
       "Total Time Spent on Website                       0.8896      0.053     16.907      0.000       0.786       0.993\n",
       "Lead Origin_Lead Add Form                         1.6630      0.455      3.657      0.000       0.772       2.554\n",
       "Lead Source_Direct Traffic                       -0.8212      0.127     -6.471      0.000      -1.070      -0.572\n",
       "Lead Source_Welingak Website                      3.8845      1.114      3.488      0.000       1.701       6.068\n",
       "Last Activity_SMS Sent                            1.9981      0.113     17.718      0.000       1.777       2.219\n",
       "Last Notable Activity_Modified                   -1.6525      0.124    -13.279      0.000      -1.896      -1.409\n",
       "Last Notable Activity_Olark Chat Conversation    -1.8023      0.491     -3.669      0.000      -2.765      -0.839\n",
       "Tags_Closed by Horizzon                           7.1955      1.020      7.053      0.000       5.196       9.195\n",
       "Tags_Interested in other courses                 -2.1318      0.406     -5.253      0.000      -2.927      -1.336\n",
       "Tags_Lost to EINS                                 5.9177      0.611      9.689      0.000       4.721       7.115\n",
       "Tags_Other_Tags                                  -2.3737      0.206    -11.507      0.000      -2.778      -1.969\n",
       "Tags_Ringing                                     -3.4531      0.238    -14.532      0.000      -3.919      -2.987\n",
       "Tags_Will revert after reading the email          4.5070      0.188     24.002      0.000       4.139       4.875\n",
       "=================================================================================================================\n",
       "\"\"\""
      ]
     },
     "execution_count": 128,
     "metadata": {},
     "output_type": "execute_result"
    }
   ],
   "source": [
    "X_train_sm = sm.add_constant(X_train[col])\n",
    "logm2 = sm.GLM(y_train,X_train_sm, family = sm.families.Binomial())\n",
    "res = logm2.fit()\n",
    "res.summary()"
   ]
  },
  {
   "cell_type": "code",
   "execution_count": 129,
   "metadata": {},
   "outputs": [
    {
     "data": {
      "text/html": [
       "<div>\n",
       "<style scoped>\n",
       "    .dataframe tbody tr th:only-of-type {\n",
       "        vertical-align: middle;\n",
       "    }\n",
       "\n",
       "    .dataframe tbody tr th {\n",
       "        vertical-align: top;\n",
       "    }\n",
       "\n",
       "    .dataframe thead th {\n",
       "        text-align: right;\n",
       "    }\n",
       "</style>\n",
       "<table border=\"1\" class=\"dataframe\">\n",
       "  <thead>\n",
       "    <tr style=\"text-align: right;\">\n",
       "      <th></th>\n",
       "      <th>Features</th>\n",
       "      <th>VIF</th>\n",
       "    </tr>\n",
       "  </thead>\n",
       "  <tbody>\n",
       "    <tr>\n",
       "      <th>1</th>\n",
       "      <td>Lead Origin_Lead Add Form</td>\n",
       "      <td>1.82</td>\n",
       "    </tr>\n",
       "    <tr>\n",
       "      <th>12</th>\n",
       "      <td>Tags_Will revert after reading the email</td>\n",
       "      <td>1.56</td>\n",
       "    </tr>\n",
       "    <tr>\n",
       "      <th>4</th>\n",
       "      <td>Last Activity_SMS Sent</td>\n",
       "      <td>1.46</td>\n",
       "    </tr>\n",
       "    <tr>\n",
       "      <th>5</th>\n",
       "      <td>Last Notable Activity_Modified</td>\n",
       "      <td>1.40</td>\n",
       "    </tr>\n",
       "    <tr>\n",
       "      <th>2</th>\n",
       "      <td>Lead Source_Direct Traffic</td>\n",
       "      <td>1.38</td>\n",
       "    </tr>\n",
       "    <tr>\n",
       "      <th>3</th>\n",
       "      <td>Lead Source_Welingak Website</td>\n",
       "      <td>1.34</td>\n",
       "    </tr>\n",
       "    <tr>\n",
       "      <th>10</th>\n",
       "      <td>Tags_Other_Tags</td>\n",
       "      <td>1.25</td>\n",
       "    </tr>\n",
       "    <tr>\n",
       "      <th>0</th>\n",
       "      <td>Total Time Spent on Website</td>\n",
       "      <td>1.22</td>\n",
       "    </tr>\n",
       "    <tr>\n",
       "      <th>7</th>\n",
       "      <td>Tags_Closed by Horizzon</td>\n",
       "      <td>1.21</td>\n",
       "    </tr>\n",
       "    <tr>\n",
       "      <th>11</th>\n",
       "      <td>Tags_Ringing</td>\n",
       "      <td>1.16</td>\n",
       "    </tr>\n",
       "    <tr>\n",
       "      <th>8</th>\n",
       "      <td>Tags_Interested in other courses</td>\n",
       "      <td>1.12</td>\n",
       "    </tr>\n",
       "    <tr>\n",
       "      <th>9</th>\n",
       "      <td>Tags_Lost to EINS</td>\n",
       "      <td>1.06</td>\n",
       "    </tr>\n",
       "    <tr>\n",
       "      <th>6</th>\n",
       "      <td>Last Notable Activity_Olark Chat Conversation</td>\n",
       "      <td>1.01</td>\n",
       "    </tr>\n",
       "  </tbody>\n",
       "</table>\n",
       "</div>"
      ],
      "text/plain": [
       "                                         Features   VIF\n",
       "1                       Lead Origin_Lead Add Form  1.82\n",
       "12       Tags_Will revert after reading the email  1.56\n",
       "4                          Last Activity_SMS Sent  1.46\n",
       "5                  Last Notable Activity_Modified  1.40\n",
       "2                      Lead Source_Direct Traffic  1.38\n",
       "3                    Lead Source_Welingak Website  1.34\n",
       "10                                Tags_Other_Tags  1.25\n",
       "0                     Total Time Spent on Website  1.22\n",
       "7                         Tags_Closed by Horizzon  1.21\n",
       "11                                   Tags_Ringing  1.16\n",
       "8                Tags_Interested in other courses  1.12\n",
       "9                               Tags_Lost to EINS  1.06\n",
       "6   Last Notable Activity_Olark Chat Conversation  1.01"
      ]
     },
     "execution_count": 129,
     "metadata": {},
     "output_type": "execute_result"
    }
   ],
   "source": [
    "# Create a dataframe that will contain the names of all the feature variables and their respective VIFs\n",
    "vif = pd.DataFrame()\n",
    "vif['Features'] = X_train[col].columns\n",
    "vif['VIF'] = [variance_inflation_factor(X_train[col].values, i) for i in range(X_train[col].shape[1])]\n",
    "vif['VIF'] = round(vif['VIF'], 2)\n",
    "vif = vif.sort_values(by = \"VIF\", ascending = False)\n",
    "vif"
   ]
  },
  {
   "cell_type": "markdown",
   "metadata": {},
   "source": [
    "All the VIF values are below 2 hence this set of columns can be considered for prediction"
   ]
  },
  {
   "cell_type": "code",
   "execution_count": 130,
   "metadata": {
    "scrolled": true
   },
   "outputs": [
    {
     "data": {
      "text/plain": [
       "9196    0.283149\n",
       "4696    0.031440\n",
       "3274    0.576636\n",
       "2164    0.006433\n",
       "1667    0.989105\n",
       "7024    0.130813\n",
       "8018    0.024219\n",
       "778     0.205594\n",
       "6942    0.002678\n",
       "4440    0.096716\n",
       "dtype: float64"
      ]
     },
     "execution_count": 130,
     "metadata": {},
     "output_type": "execute_result"
    }
   ],
   "source": [
    "y_train_pred = res.predict(X_train_sm)\n",
    "y_train_pred[:10]"
   ]
  },
  {
   "cell_type": "code",
   "execution_count": 131,
   "metadata": {},
   "outputs": [
    {
     "data": {
      "text/plain": [
       "array([0.28314859, 0.0314396 , 0.57663553, 0.00643284, 0.98910464,\n",
       "       0.13081306, 0.02421913, 0.20559401, 0.00267787, 0.09671623])"
      ]
     },
     "execution_count": 131,
     "metadata": {},
     "output_type": "execute_result"
    }
   ],
   "source": [
    "y_train_pred = y_train_pred.values.reshape(-1)\n",
    "y_train_pred[:10]"
   ]
  },
  {
   "cell_type": "code",
   "execution_count": 132,
   "metadata": {
    "scrolled": true
   },
   "outputs": [
    {
     "data": {
      "text/html": [
       "<div>\n",
       "<style scoped>\n",
       "    .dataframe tbody tr th:only-of-type {\n",
       "        vertical-align: middle;\n",
       "    }\n",
       "\n",
       "    .dataframe tbody tr th {\n",
       "        vertical-align: top;\n",
       "    }\n",
       "\n",
       "    .dataframe thead th {\n",
       "        text-align: right;\n",
       "    }\n",
       "</style>\n",
       "<table border=\"1\" class=\"dataframe\">\n",
       "  <thead>\n",
       "    <tr style=\"text-align: right;\">\n",
       "      <th></th>\n",
       "      <th>Converted</th>\n",
       "      <th>Converted_prob</th>\n",
       "      <th>Prospect ID</th>\n",
       "    </tr>\n",
       "  </thead>\n",
       "  <tbody>\n",
       "    <tr>\n",
       "      <th>0</th>\n",
       "      <td>1</td>\n",
       "      <td>0.283149</td>\n",
       "      <td>9196</td>\n",
       "    </tr>\n",
       "    <tr>\n",
       "      <th>1</th>\n",
       "      <td>0</td>\n",
       "      <td>0.031440</td>\n",
       "      <td>4696</td>\n",
       "    </tr>\n",
       "    <tr>\n",
       "      <th>2</th>\n",
       "      <td>0</td>\n",
       "      <td>0.576636</td>\n",
       "      <td>3274</td>\n",
       "    </tr>\n",
       "    <tr>\n",
       "      <th>3</th>\n",
       "      <td>0</td>\n",
       "      <td>0.006433</td>\n",
       "      <td>2164</td>\n",
       "    </tr>\n",
       "    <tr>\n",
       "      <th>4</th>\n",
       "      <td>1</td>\n",
       "      <td>0.989105</td>\n",
       "      <td>1667</td>\n",
       "    </tr>\n",
       "  </tbody>\n",
       "</table>\n",
       "</div>"
      ],
      "text/plain": [
       "   Converted  Converted_prob  Prospect ID\n",
       "0          1        0.283149         9196\n",
       "1          0        0.031440         4696\n",
       "2          0        0.576636         3274\n",
       "3          0        0.006433         2164\n",
       "4          1        0.989105         1667"
      ]
     },
     "execution_count": 132,
     "metadata": {},
     "output_type": "execute_result"
    }
   ],
   "source": [
    "y_train_pred_final = pd.DataFrame({'Converted':y_train.values, 'Converted_prob':y_train_pred})\n",
    "y_train_pred_final['Prospect ID'] = y_train.index\n",
    "y_train_pred_final.head()"
   ]
  },
  {
   "cell_type": "code",
   "execution_count": 133,
   "metadata": {},
   "outputs": [
    {
     "data": {
      "text/html": [
       "<div>\n",
       "<style scoped>\n",
       "    .dataframe tbody tr th:only-of-type {\n",
       "        vertical-align: middle;\n",
       "    }\n",
       "\n",
       "    .dataframe tbody tr th {\n",
       "        vertical-align: top;\n",
       "    }\n",
       "\n",
       "    .dataframe thead th {\n",
       "        text-align: right;\n",
       "    }\n",
       "</style>\n",
       "<table border=\"1\" class=\"dataframe\">\n",
       "  <thead>\n",
       "    <tr style=\"text-align: right;\">\n",
       "      <th></th>\n",
       "      <th>Converted</th>\n",
       "      <th>Converted_prob</th>\n",
       "      <th>Prospect ID</th>\n",
       "      <th>predicted</th>\n",
       "    </tr>\n",
       "  </thead>\n",
       "  <tbody>\n",
       "    <tr>\n",
       "      <th>0</th>\n",
       "      <td>1</td>\n",
       "      <td>0.283149</td>\n",
       "      <td>9196</td>\n",
       "      <td>0</td>\n",
       "    </tr>\n",
       "    <tr>\n",
       "      <th>1</th>\n",
       "      <td>0</td>\n",
       "      <td>0.031440</td>\n",
       "      <td>4696</td>\n",
       "      <td>0</td>\n",
       "    </tr>\n",
       "    <tr>\n",
       "      <th>2</th>\n",
       "      <td>0</td>\n",
       "      <td>0.576636</td>\n",
       "      <td>3274</td>\n",
       "      <td>1</td>\n",
       "    </tr>\n",
       "    <tr>\n",
       "      <th>3</th>\n",
       "      <td>0</td>\n",
       "      <td>0.006433</td>\n",
       "      <td>2164</td>\n",
       "      <td>0</td>\n",
       "    </tr>\n",
       "    <tr>\n",
       "      <th>4</th>\n",
       "      <td>1</td>\n",
       "      <td>0.989105</td>\n",
       "      <td>1667</td>\n",
       "      <td>1</td>\n",
       "    </tr>\n",
       "  </tbody>\n",
       "</table>\n",
       "</div>"
      ],
      "text/plain": [
       "   Converted  Converted_prob  Prospect ID  predicted\n",
       "0          1        0.283149         9196          0\n",
       "1          0        0.031440         4696          0\n",
       "2          0        0.576636         3274          1\n",
       "3          0        0.006433         2164          0\n",
       "4          1        0.989105         1667          1"
      ]
     },
     "execution_count": 133,
     "metadata": {},
     "output_type": "execute_result"
    }
   ],
   "source": [
    "# Here we set the threshold as 0.5 and anything above it is predicted as converted and below 0.5 is not converted.\n",
    "y_train_pred_final['predicted'] = y_train_pred_final.Converted_prob.map(lambda x: 1 if x > 0.5 else 0)\n",
    "\n",
    "# Let's see the head\n",
    "y_train_pred_final.head()"
   ]
  },
  {
   "cell_type": "code",
   "execution_count": 134,
   "metadata": {
    "scrolled": true
   },
   "outputs": [],
   "source": [
    "from sklearn import metrics"
   ]
  },
  {
   "cell_type": "code",
   "execution_count": 135,
   "metadata": {},
   "outputs": [
    {
     "name": "stdout",
     "output_type": "stream",
     "text": [
      "[[3693  189]\n",
      " [ 281 2104]]\n"
     ]
    }
   ],
   "source": [
    "# Confusion matrix \n",
    "confusion = metrics.confusion_matrix(y_train_pred_final.Converted, y_train_pred_final.predicted)\n",
    "print(confusion)"
   ]
  },
  {
   "cell_type": "code",
   "execution_count": 136,
   "metadata": {},
   "outputs": [
    {
     "name": "stdout",
     "output_type": "stream",
     "text": [
      "0.9250039891495133\n"
     ]
    }
   ],
   "source": [
    "print(metrics.accuracy_score(y_train_pred_final.Converted, y_train_pred_final.predicted))"
   ]
  },
  {
   "cell_type": "code",
   "execution_count": 132,
   "metadata": {},
   "outputs": [],
   "source": [
    "TP = confusion[1,1] # true positive \n",
    "TN = confusion[0,0] # true negatives\n",
    "FP = confusion[0,1] # false positives\n",
    "FN = confusion[1,0] # false negatives"
   ]
  },
  {
   "cell_type": "code",
   "execution_count": 133,
   "metadata": {},
   "outputs": [
    {
     "data": {
      "text/plain": [
       "0.8821802935010482"
      ]
     },
     "execution_count": 133,
     "metadata": {},
     "output_type": "execute_result"
    }
   ],
   "source": [
    "# Let's see the sensitivity of our logistic regression model\n",
    "TP / float(TP+FN)"
   ]
  },
  {
   "cell_type": "code",
   "execution_count": 134,
   "metadata": {},
   "outputs": [
    {
     "data": {
      "text/plain": [
       "0.9513137557959814"
      ]
     },
     "execution_count": 134,
     "metadata": {},
     "output_type": "execute_result"
    }
   ],
   "source": [
    "# Let us calculate specificity\n",
    "TN / float(TN+FP)"
   ]
  },
  {
   "cell_type": "code",
   "execution_count": 135,
   "metadata": {},
   "outputs": [
    {
     "name": "stdout",
     "output_type": "stream",
     "text": [
      "0.04868624420401855\n"
     ]
    }
   ],
   "source": [
    "print(FP/ float(TN+FP))"
   ]
  },
  {
   "cell_type": "code",
   "execution_count": 136,
   "metadata": {},
   "outputs": [
    {
     "name": "stdout",
     "output_type": "stream",
     "text": [
      "0.9175752289576974\n"
     ]
    }
   ],
   "source": [
    "# positive predictive value \n",
    "print (TP / float(TP+FP))"
   ]
  },
  {
   "cell_type": "code",
   "execution_count": 137,
   "metadata": {},
   "outputs": [
    {
     "name": "stdout",
     "output_type": "stream",
     "text": [
      "0.9292903875188727\n"
     ]
    }
   ],
   "source": [
    "# Negative predictive value\n",
    "print (TN / float(TN+ FN))"
   ]
  },
  {
   "cell_type": "code",
   "execution_count": 138,
   "metadata": {},
   "outputs": [],
   "source": [
    "def draw_roc( actual, probs ):\n",
    "    fpr, tpr, thresholds = metrics.roc_curve( actual, probs,\n",
    "                                              drop_intermediate = False )\n",
    "    auc_score = metrics.roc_auc_score( actual, probs )\n",
    "    plt.figure(figsize=(5, 5))\n",
    "    plt.plot( fpr, tpr, label='ROC curve (area = %0.2f)' % auc_score )\n",
    "    plt.plot([0, 1], [0, 1], 'k--')\n",
    "    plt.xlim([0.0, 1.0])\n",
    "    plt.ylim([0.0, 1.05])\n",
    "    plt.xlabel('False Positive Rate or [1 - True Negative Rate]')\n",
    "    plt.ylabel('True Positive Rate')\n",
    "    plt.title('Receiver operating characteristic example')\n",
    "    plt.legend(loc=\"lower right\")\n",
    "    plt.show()\n",
    "\n",
    "    return None"
   ]
  },
  {
   "cell_type": "code",
   "execution_count": 140,
   "metadata": {},
   "outputs": [],
   "source": [
    "fpr, tpr, thresholds = metrics.roc_curve( y_train_pred_final.Converted, y_train_pred_final.Converted_prob, drop_intermediate = False )"
   ]
  },
  {
   "cell_type": "code",
   "execution_count": 141,
   "metadata": {},
   "outputs": [
    {
     "data": {
      "image/png": "[encoded data removed]",
      "text/plain": [
       "<Figure size 360x360 with 1 Axes>"
      ]
     },
     "metadata": {
      "needs_background": "light"
     },
     "output_type": "display_data"
    }
   ],
   "source": [
    "draw_roc(y_train_pred_final.Converted, y_train_pred_final.Converted_prob)"
   ]
  },
  {
   "cell_type": "code",
   "execution_count": 142,
   "metadata": {},
   "outputs": [
    {
     "data": {
      "text/html": [
       "<div>\n",
       "<style scoped>\n",
       "    .dataframe tbody tr th:only-of-type {\n",
       "        vertical-align: middle;\n",
       "    }\n",
       "\n",
       "    .dataframe tbody tr th {\n",
       "        vertical-align: top;\n",
       "    }\n",
       "\n",
       "    .dataframe thead th {\n",
       "        text-align: right;\n",
       "    }\n",
       "</style>\n",
       "<table border=\"1\" class=\"dataframe\">\n",
       "  <thead>\n",
       "    <tr style=\"text-align: right;\">\n",
       "      <th></th>\n",
       "      <th>Converted</th>\n",
       "      <th>Converted_prob</th>\n",
       "      <th>Prospect ID</th>\n",
       "      <th>predicted</th>\n",
       "      <th>0.0</th>\n",
       "      <th>0.1</th>\n",
       "      <th>0.2</th>\n",
       "      <th>0.3</th>\n",
       "      <th>0.4</th>\n",
       "      <th>0.5</th>\n",
       "      <th>0.6</th>\n",
       "      <th>0.7</th>\n",
       "      <th>0.8</th>\n",
       "      <th>0.9</th>\n",
       "    </tr>\n",
       "  </thead>\n",
       "  <tbody>\n",
       "    <tr>\n",
       "      <th>0</th>\n",
       "      <td>1</td>\n",
       "      <td>0.283149</td>\n",
       "      <td>9196</td>\n",
       "      <td>0</td>\n",
       "      <td>1</td>\n",
       "      <td>1</td>\n",
       "      <td>1</td>\n",
       "      <td>0</td>\n",
       "      <td>0</td>\n",
       "      <td>0</td>\n",
       "      <td>0</td>\n",
       "      <td>0</td>\n",
       "      <td>0</td>\n",
       "      <td>0</td>\n",
       "    </tr>\n",
       "    <tr>\n",
       "      <th>1</th>\n",
       "      <td>0</td>\n",
       "      <td>0.031440</td>\n",
       "      <td>4696</td>\n",
       "      <td>0</td>\n",
       "      <td>1</td>\n",
       "      <td>0</td>\n",
       "      <td>0</td>\n",
       "      <td>0</td>\n",
       "      <td>0</td>\n",
       "      <td>0</td>\n",
       "      <td>0</td>\n",
       "      <td>0</td>\n",
       "      <td>0</td>\n",
       "      <td>0</td>\n",
       "    </tr>\n",
       "    <tr>\n",
       "      <th>2</th>\n",
       "      <td>0</td>\n",
       "      <td>0.576636</td>\n",
       "      <td>3274</td>\n",
       "      <td>1</td>\n",
       "      <td>1</td>\n",
       "      <td>1</td>\n",
       "      <td>1</td>\n",
       "      <td>1</td>\n",
       "      <td>1</td>\n",
       "      <td>1</td>\n",
       "      <td>0</td>\n",
       "      <td>0</td>\n",
       "      <td>0</td>\n",
       "      <td>0</td>\n",
       "    </tr>\n",
       "    <tr>\n",
       "      <th>3</th>\n",
       "      <td>0</td>\n",
       "      <td>0.006433</td>\n",
       "      <td>2164</td>\n",
       "      <td>0</td>\n",
       "      <td>1</td>\n",
       "      <td>0</td>\n",
       "      <td>0</td>\n",
       "      <td>0</td>\n",
       "      <td>0</td>\n",
       "      <td>0</td>\n",
       "      <td>0</td>\n",
       "      <td>0</td>\n",
       "      <td>0</td>\n",
       "      <td>0</td>\n",
       "    </tr>\n",
       "    <tr>\n",
       "      <th>4</th>\n",
       "      <td>1</td>\n",
       "      <td>0.989105</td>\n",
       "      <td>1667</td>\n",
       "      <td>1</td>\n",
       "      <td>1</td>\n",
       "      <td>1</td>\n",
       "      <td>1</td>\n",
       "      <td>1</td>\n",
       "      <td>1</td>\n",
       "      <td>1</td>\n",
       "      <td>1</td>\n",
       "      <td>1</td>\n",
       "      <td>1</td>\n",
       "      <td>1</td>\n",
       "    </tr>\n",
       "  </tbody>\n",
       "</table>\n",
       "</div>"
      ],
      "text/plain": [
       "   Converted  Converted_prob  Prospect ID  predicted  0.0  0.1  0.2  0.3  0.4  \\\n",
       "0          1        0.283149         9196          0    1    1    1    0    0   \n",
       "1          0        0.031440         4696          0    1    0    0    0    0   \n",
       "2          0        0.576636         3274          1    1    1    1    1    1   \n",
       "3          0        0.006433         2164          0    1    0    0    0    0   \n",
       "4          1        0.989105         1667          1    1    1    1    1    1   \n",
       "\n",
       "   0.5  0.6  0.7  0.8  0.9  \n",
       "0    0    0    0    0    0  \n",
       "1    0    0    0    0    0  \n",
       "2    1    0    0    0    0  \n",
       "3    0    0    0    0    0  \n",
       "4    1    1    1    1    1  "
      ]
     },
     "execution_count": 142,
     "metadata": {},
     "output_type": "execute_result"
    }
   ],
   "source": [
    "# Let's create columns with different probability cutoffs \n",
    "numbers = [float(x)/10 for x in range(10)]\n",
    "for i in numbers:\n",
    "    y_train_pred_final[i]= y_train_pred_final.Converted_prob.map(lambda x: 1 if x > i else 0)\n",
    "y_train_pred_final.head()"
   ]
  },
  {
   "cell_type": "code",
   "execution_count": 144,
   "metadata": {},
   "outputs": [
    {
     "name": "stdout",
     "output_type": "stream",
     "text": [
      "     prob  accuracy     sensi     speci\n",
      "0.0   0.0  0.380565  1.000000  0.000000\n",
      "0.1   0.1  0.816180  0.971488  0.720762\n",
      "0.2   0.2  0.901069  0.931237  0.882535\n",
      "0.3   0.3  0.922930  0.916981  0.926584\n",
      "0.4   0.4  0.925802  0.901468  0.940752\n",
      "0.5   0.5  0.925004  0.882180  0.951314\n",
      "0.6   0.6  0.915909  0.828092  0.969861\n",
      "0.7   0.7  0.916228  0.810063  0.981453\n",
      "0.8   0.8  0.906335  0.774843  0.987120\n",
      "0.9   0.9  0.887027  0.718239  0.990726\n"
     ]
    }
   ],
   "source": [
    "# Now let's calculate accuracy sensitivity and specificity for various probability cutoffs.\n",
    "cutoff_df = pd.DataFrame( columns = ['prob','accuracy','sensi','speci'])\n",
    "from sklearn.metrics import confusion_matrix\n",
    "\n",
    "# TP = confusion[1,1] # true positive \n",
    "# TN = confusion[0,0] # true negatives\n",
    "# FP = confusion[0,1] # false positives\n",
    "# FN = confusion[1,0] # false negatives\n",
    "\n",
    "num = [0.0,0.1,0.2,0.3,0.4,0.5,0.6,0.7,0.8,0.9]\n",
    "for i in num:\n",
    "    cm1 = metrics.confusion_matrix(y_train_pred_final.Converted, y_train_pred_final[i] )\n",
    "    total1=sum(sum(cm1))\n",
    "    accuracy = (cm1[0,0]+cm1[1,1])/total1\n",
    "    \n",
    "    speci = cm1[0,0]/(cm1[0,0]+cm1[0,1])\n",
    "    sensi = cm1[1,1]/(cm1[1,0]+cm1[1,1])\n",
    "    cutoff_df.loc[i] =[ i ,accuracy,sensi,speci]\n",
    "print(cutoff_df)"
   ]
  },
  {
   "cell_type": "code",
   "execution_count": 145,
   "metadata": {},
   "outputs": [
    {
     "data": {
      "image/png": "[encoded data removed]",
      "text/plain": [
       "<Figure size 432x288 with 1 Axes>"
      ]
     },
     "metadata": {
      "needs_background": "light"
     },
     "output_type": "display_data"
    }
   ],
   "source": [
    "# Let's plot accuracy sensitivity and specificity for various probabilities.\n",
    "cutoff_df.plot.line(x='prob', y=['accuracy','sensi','speci'])\n",
    "plt.show()"
   ]
  },
  {
   "cell_type": "code",
   "execution_count": 148,
   "metadata": {},
   "outputs": [
    {
     "data": {
      "text/html": [
       "<div>\n",
       "<style scoped>\n",
       "    .dataframe tbody tr th:only-of-type {\n",
       "        vertical-align: middle;\n",
       "    }\n",
       "\n",
       "    .dataframe tbody tr th {\n",
       "        vertical-align: top;\n",
       "    }\n",
       "\n",
       "    .dataframe thead th {\n",
       "        text-align: right;\n",
       "    }\n",
       "</style>\n",
       "<table border=\"1\" class=\"dataframe\">\n",
       "  <thead>\n",
       "    <tr style=\"text-align: right;\">\n",
       "      <th></th>\n",
       "      <th>Converted</th>\n",
       "      <th>Converted_prob</th>\n",
       "      <th>Prospect ID</th>\n",
       "      <th>predicted</th>\n",
       "      <th>0.0</th>\n",
       "      <th>0.1</th>\n",
       "      <th>0.2</th>\n",
       "      <th>0.3</th>\n",
       "      <th>0.4</th>\n",
       "      <th>0.5</th>\n",
       "      <th>0.6</th>\n",
       "      <th>0.7</th>\n",
       "      <th>0.8</th>\n",
       "      <th>0.9</th>\n",
       "      <th>final_predicted</th>\n",
       "    </tr>\n",
       "  </thead>\n",
       "  <tbody>\n",
       "    <tr>\n",
       "      <th>0</th>\n",
       "      <td>1</td>\n",
       "      <td>0.283149</td>\n",
       "      <td>9196</td>\n",
       "      <td>0</td>\n",
       "      <td>1</td>\n",
       "      <td>1</td>\n",
       "      <td>1</td>\n",
       "      <td>0</td>\n",
       "      <td>0</td>\n",
       "      <td>0</td>\n",
       "      <td>0</td>\n",
       "      <td>0</td>\n",
       "      <td>0</td>\n",
       "      <td>0</td>\n",
       "      <td>0</td>\n",
       "    </tr>\n",
       "    <tr>\n",
       "      <th>1</th>\n",
       "      <td>0</td>\n",
       "      <td>0.031440</td>\n",
       "      <td>4696</td>\n",
       "      <td>0</td>\n",
       "      <td>1</td>\n",
       "      <td>0</td>\n",
       "      <td>0</td>\n",
       "      <td>0</td>\n",
       "      <td>0</td>\n",
       "      <td>0</td>\n",
       "      <td>0</td>\n",
       "      <td>0</td>\n",
       "      <td>0</td>\n",
       "      <td>0</td>\n",
       "      <td>0</td>\n",
       "    </tr>\n",
       "    <tr>\n",
       "      <th>2</th>\n",
       "      <td>0</td>\n",
       "      <td>0.576636</td>\n",
       "      <td>3274</td>\n",
       "      <td>1</td>\n",
       "      <td>1</td>\n",
       "      <td>1</td>\n",
       "      <td>1</td>\n",
       "      <td>1</td>\n",
       "      <td>1</td>\n",
       "      <td>1</td>\n",
       "      <td>0</td>\n",
       "      <td>0</td>\n",
       "      <td>0</td>\n",
       "      <td>0</td>\n",
       "      <td>1</td>\n",
       "    </tr>\n",
       "    <tr>\n",
       "      <th>3</th>\n",
       "      <td>0</td>\n",
       "      <td>0.006433</td>\n",
       "      <td>2164</td>\n",
       "      <td>0</td>\n",
       "      <td>1</td>\n",
       "      <td>0</td>\n",
       "      <td>0</td>\n",
       "      <td>0</td>\n",
       "      <td>0</td>\n",
       "      <td>0</td>\n",
       "      <td>0</td>\n",
       "      <td>0</td>\n",
       "      <td>0</td>\n",
       "      <td>0</td>\n",
       "      <td>0</td>\n",
       "    </tr>\n",
       "    <tr>\n",
       "      <th>4</th>\n",
       "      <td>1</td>\n",
       "      <td>0.989105</td>\n",
       "      <td>1667</td>\n",
       "      <td>1</td>\n",
       "      <td>1</td>\n",
       "      <td>1</td>\n",
       "      <td>1</td>\n",
       "      <td>1</td>\n",
       "      <td>1</td>\n",
       "      <td>1</td>\n",
       "      <td>1</td>\n",
       "      <td>1</td>\n",
       "      <td>1</td>\n",
       "      <td>1</td>\n",
       "      <td>1</td>\n",
       "    </tr>\n",
       "  </tbody>\n",
       "</table>\n",
       "</div>"
      ],
      "text/plain": [
       "   Converted  Converted_prob  Prospect ID  predicted  0.0  0.1  0.2  0.3  0.4  \\\n",
       "0          1        0.283149         9196          0    1    1    1    0    0   \n",
       "1          0        0.031440         4696          0    1    0    0    0    0   \n",
       "2          0        0.576636         3274          1    1    1    1    1    1   \n",
       "3          0        0.006433         2164          0    1    0    0    0    0   \n",
       "4          1        0.989105         1667          1    1    1    1    1    1   \n",
       "\n",
       "   0.5  0.6  0.7  0.8  0.9  final_predicted  \n",
       "0    0    0    0    0    0                0  \n",
       "1    0    0    0    0    0                0  \n",
       "2    1    0    0    0    0                1  \n",
       "3    0    0    0    0    0                0  \n",
       "4    1    1    1    1    1                1  "
      ]
     },
     "execution_count": 148,
     "metadata": {},
     "output_type": "execute_result"
    }
   ],
   "source": [
    "y_train_pred_final['final_predicted'] = y_train_pred_final.Converted_prob.map( lambda x: 1 if x > 0.3 else 0)\n",
    "\n",
    "y_train_pred_final.head()"
   ]
  },
  {
   "cell_type": "code",
   "execution_count": 149,
   "metadata": {},
   "outputs": [
    {
     "data": {
      "text/plain": [
       "0.922929631402585"
      ]
     },
     "execution_count": 149,
     "metadata": {},
     "output_type": "execute_result"
    }
   ],
   "source": [
    "# Let's check the overall accuracy.\n",
    "metrics.accuracy_score(y_train_pred_final.Converted, y_train_pred_final.final_predicted)"
   ]
  },
  {
   "cell_type": "code",
   "execution_count": 150,
   "metadata": {},
   "outputs": [
    {
     "data": {
      "text/plain": [
       "array([[3597,  285],\n",
       "       [ 198, 2187]], dtype=int64)"
      ]
     },
     "execution_count": 150,
     "metadata": {},
     "output_type": "execute_result"
    }
   ],
   "source": [
    "confusion2 = metrics.confusion_matrix(y_train_pred_final.Converted, y_train_pred_final.final_predicted )\n",
    "confusion2"
   ]
  },
  {
   "cell_type": "code",
   "execution_count": 153,
   "metadata": {},
   "outputs": [],
   "source": [
    "TP = confusion2[1,1] # true positive \n",
    "TN = confusion2[0,0] # true negatives\n",
    "FP = confusion2[0,1] # false positives\n",
    "FN = confusion2[1,0] # false negatives"
   ]
  },
  {
   "cell_type": "code",
   "execution_count": 154,
   "metadata": {},
   "outputs": [
    {
     "data": {
      "text/plain": [
       "0.9169811320754717"
      ]
     },
     "execution_count": 154,
     "metadata": {},
     "output_type": "execute_result"
    }
   ],
   "source": [
    "# Let's see the sensitivity of our logistic regression model\n",
    "TP / float(TP+FN)\n"
   ]
  },
  {
   "cell_type": "code",
   "execution_count": 155,
   "metadata": {},
   "outputs": [
    {
     "data": {
      "text/plain": [
       "0.9265842349304482"
      ]
     },
     "execution_count": 155,
     "metadata": {},
     "output_type": "execute_result"
    }
   ],
   "source": [
    "# Let us calculate specificity\n",
    "TN / float(TN+FP)"
   ]
  },
  {
   "cell_type": "code",
   "execution_count": 156,
   "metadata": {},
   "outputs": [
    {
     "name": "stdout",
     "output_type": "stream",
     "text": [
      "0.07341576506955177\n"
     ]
    }
   ],
   "source": [
    "print(FP/ float(TN+FP))"
   ]
  },
  {
   "cell_type": "code",
   "execution_count": 157,
   "metadata": {},
   "outputs": [
    {
     "name": "stdout",
     "output_type": "stream",
     "text": [
      "0.8847087378640777\n"
     ]
    }
   ],
   "source": [
    "# Positive predictive value \n",
    "print (TP / float(TP+FP))"
   ]
  },
  {
   "cell_type": "code",
   "execution_count": 158,
   "metadata": {},
   "outputs": [
    {
     "name": "stdout",
     "output_type": "stream",
     "text": [
      "0.9478260869565217\n"
     ]
    }
   ],
   "source": [
    "# Negative predictive value\n",
    "print (TN / float(TN+ FN))"
   ]
  },
  {
   "cell_type": "code",
   "execution_count": 159,
   "metadata": {},
   "outputs": [
    {
     "data": {
      "text/plain": [
       "array([[3693,  189],\n",
       "       [ 281, 2104]], dtype=int64)"
      ]
     },
     "execution_count": 159,
     "metadata": {},
     "output_type": "execute_result"
    }
   ],
   "source": [
    "confusion = metrics.confusion_matrix(y_train_pred_final.Converted, y_train_pred_final.predicted )\n",
    "confusion"
   ]
  },
  {
   "cell_type": "markdown",
   "metadata": {},
   "source": [
    "```Precision```\n",
    "TP / TP + FP\n",
    "\n"
   ]
  },
  {
   "cell_type": "code",
   "execution_count": 161,
   "metadata": {},
   "outputs": [
    {
     "data": {
      "text/plain": [
       "0.9175752289576974"
      ]
     },
     "execution_count": 161,
     "metadata": {},
     "output_type": "execute_result"
    }
   ],
   "source": [
    "confusion[1,1]/(confusion[0,1]+confusion[1,1])\n"
   ]
  },
  {
   "cell_type": "markdown",
   "metadata": {},
   "source": [
    "```Recall```\n",
    "TP / TP + FN"
   ]
  },
  {
   "cell_type": "code",
   "execution_count": 162,
   "metadata": {},
   "outputs": [
    {
     "data": {
      "text/plain": [
       "0.5376845376845377"
      ]
     },
     "execution_count": 162,
     "metadata": {},
     "output_type": "execute_result"
    }
   ],
   "source": [
    "confusion[1,1]/(confusion[1,0]+confusion[1,1])\n",
    "0.5376845376845377"
   ]
  },
  {
   "cell_type": "markdown",
   "metadata": {},
   "source": [
    "Using sklearn utilities for the same"
   ]
  },
  {
   "cell_type": "code",
   "execution_count": 163,
   "metadata": {},
   "outputs": [],
   "source": [
    "from sklearn.metrics import precision_score, recall_score"
   ]
  },
  {
   "cell_type": "code",
   "execution_count": 164,
   "metadata": {},
   "outputs": [],
   "source": [
    "?precision_score"
   ]
  },
  {
   "cell_type": "code",
   "execution_count": 166,
   "metadata": {},
   "outputs": [
    {
     "data": {
      "text/plain": [
       "0.9175752289576974"
      ]
     },
     "execution_count": 166,
     "metadata": {},
     "output_type": "execute_result"
    }
   ],
   "source": [
    "precision_score(y_train_pred_final.Converted, y_train_pred_final.predicted)\n"
   ]
  },
  {
   "cell_type": "code",
   "execution_count": 167,
   "metadata": {},
   "outputs": [
    {
     "data": {
      "text/plain": [
       "0.8821802935010482"
      ]
     },
     "execution_count": 167,
     "metadata": {},
     "output_type": "execute_result"
    }
   ],
   "source": [
    "recall_score(y_train_pred_final.Converted, y_train_pred_final.predicted)\n"
   ]
  },
  {
   "cell_type": "markdown",
   "metadata": {},
   "source": [
    "Precision and recall tradeoff"
   ]
  },
  {
   "cell_type": "code",
   "execution_count": 169,
   "metadata": {},
   "outputs": [
    {
     "data": {
      "text/plain": [
       "(0       1\n",
       " 1       0\n",
       " 2       0\n",
       " 3       0\n",
       " 4       1\n",
       "        ..\n",
       " 6262    1\n",
       " 6263    1\n",
       " 6264    0\n",
       " 6265    0\n",
       " 6266    1\n",
       " Name: Converted, Length: 6267, dtype: int64,\n",
       " 0       0\n",
       " 1       0\n",
       " 2       1\n",
       " 3       0\n",
       " 4       1\n",
       "        ..\n",
       " 6262    1\n",
       " 6263    1\n",
       " 6264    0\n",
       " 6265    0\n",
       " 6266    1\n",
       " Name: predicted, Length: 6267, dtype: int64)"
      ]
     },
     "execution_count": 169,
     "metadata": {},
     "output_type": "execute_result"
    }
   ],
   "source": [
    "from sklearn.metrics import precision_recall_curve\n",
    "y_train_pred_final.Converted, y_train_pred_final.predicted"
   ]
  },
  {
   "cell_type": "code",
   "execution_count": 171,
   "metadata": {},
   "outputs": [],
   "source": [
    "p, r, thresholds = precision_recall_curve(y_train_pred_final.Converted, y_train_pred_final.Converted_prob)"
   ]
  },
  {
   "cell_type": "code",
   "execution_count": 172,
   "metadata": {},
   "outputs": [
    {
     "data": {
      "image/png": "[encoded data removed]",
      "text/plain": [
       "<Figure size 432x288 with 1 Axes>"
      ]
     },
     "metadata": {
      "needs_background": "light"
     },
     "output_type": "display_data"
    }
   ],
   "source": [
    "plt.plot(thresholds, p[:-1], \"g-\")\n",
    "plt.plot(thresholds, r[:-1], \"r-\")\n",
    "plt.show()"
   ]
  },
  {
   "cell_type": "code",
   "execution_count": 173,
   "metadata": {},
   "outputs": [],
   "source": [
    "num_cols=X_test.select_dtypes(include=['float64', 'int64']).columns\n",
    "\n",
    "X_test[num_cols] = scaler.fit_transform(X_test[num_cols])"
   ]
  },
  {
   "cell_type": "code",
   "execution_count": 174,
   "metadata": {},
   "outputs": [
    {
     "data": {
      "text/html": [
       "<div>\n",
       "<style scoped>\n",
       "    .dataframe tbody tr th:only-of-type {\n",
       "        vertical-align: middle;\n",
       "    }\n",
       "\n",
       "    .dataframe tbody tr th {\n",
       "        vertical-align: top;\n",
       "    }\n",
       "\n",
       "    .dataframe thead th {\n",
       "        text-align: right;\n",
       "    }\n",
       "</style>\n",
       "<table border=\"1\" class=\"dataframe\">\n",
       "  <thead>\n",
       "    <tr style=\"text-align: right;\">\n",
       "      <th></th>\n",
       "      <th>TotalVisits</th>\n",
       "      <th>Total Time Spent on Website</th>\n",
       "      <th>Page Views Per Visit</th>\n",
       "      <th>Lead Origin_Landing Page Submission</th>\n",
       "      <th>Lead Origin_Lead Add Form</th>\n",
       "      <th>Lead Origin_Lead Import</th>\n",
       "      <th>What is your current occupation_Housewife</th>\n",
       "      <th>What is your current occupation_Other</th>\n",
       "      <th>What is your current occupation_Student</th>\n",
       "      <th>What is your current occupation_Unemployed</th>\n",
       "      <th>...</th>\n",
       "      <th>Last Notable Activity_Olark Chat Conversation</th>\n",
       "      <th>Last Notable Activity_Page Visited on Website</th>\n",
       "      <th>Last Notable Activity_SMS Sent</th>\n",
       "      <th>Tags_Busy</th>\n",
       "      <th>Tags_Closed by Horizzon</th>\n",
       "      <th>Tags_Interested in other courses</th>\n",
       "      <th>Tags_Lost to EINS</th>\n",
       "      <th>Tags_Other_Tags</th>\n",
       "      <th>Tags_Ringing</th>\n",
       "      <th>Tags_Will revert after reading the email</th>\n",
       "    </tr>\n",
       "  </thead>\n",
       "  <tbody>\n",
       "    <tr>\n",
       "      <th>7681</th>\n",
       "      <td>0.575687</td>\n",
       "      <td>-0.311318</td>\n",
       "      <td>0.092860</td>\n",
       "      <td>1</td>\n",
       "      <td>0</td>\n",
       "      <td>0</td>\n",
       "      <td>0</td>\n",
       "      <td>0</td>\n",
       "      <td>0</td>\n",
       "      <td>1</td>\n",
       "      <td>...</td>\n",
       "      <td>0</td>\n",
       "      <td>0</td>\n",
       "      <td>1</td>\n",
       "      <td>0</td>\n",
       "      <td>0</td>\n",
       "      <td>0</td>\n",
       "      <td>0</td>\n",
       "      <td>0</td>\n",
       "      <td>1</td>\n",
       "      <td>0</td>\n",
       "    </tr>\n",
       "    <tr>\n",
       "      <th>984</th>\n",
       "      <td>-0.090676</td>\n",
       "      <td>-0.550262</td>\n",
       "      <td>0.356568</td>\n",
       "      <td>1</td>\n",
       "      <td>0</td>\n",
       "      <td>0</td>\n",
       "      <td>0</td>\n",
       "      <td>0</td>\n",
       "      <td>0</td>\n",
       "      <td>1</td>\n",
       "      <td>...</td>\n",
       "      <td>0</td>\n",
       "      <td>0</td>\n",
       "      <td>0</td>\n",
       "      <td>0</td>\n",
       "      <td>0</td>\n",
       "      <td>0</td>\n",
       "      <td>0</td>\n",
       "      <td>1</td>\n",
       "      <td>0</td>\n",
       "      <td>0</td>\n",
       "    </tr>\n",
       "    <tr>\n",
       "      <th>8135</th>\n",
       "      <td>-0.423857</td>\n",
       "      <td>0.812462</td>\n",
       "      <td>-0.170849</td>\n",
       "      <td>1</td>\n",
       "      <td>0</td>\n",
       "      <td>0</td>\n",
       "      <td>0</td>\n",
       "      <td>0</td>\n",
       "      <td>0</td>\n",
       "      <td>1</td>\n",
       "      <td>...</td>\n",
       "      <td>0</td>\n",
       "      <td>0</td>\n",
       "      <td>1</td>\n",
       "      <td>0</td>\n",
       "      <td>0</td>\n",
       "      <td>0</td>\n",
       "      <td>0</td>\n",
       "      <td>0</td>\n",
       "      <td>0</td>\n",
       "      <td>0</td>\n",
       "    </tr>\n",
       "    <tr>\n",
       "      <th>6915</th>\n",
       "      <td>0.242505</td>\n",
       "      <td>-0.628665</td>\n",
       "      <td>-0.170849</td>\n",
       "      <td>1</td>\n",
       "      <td>0</td>\n",
       "      <td>0</td>\n",
       "      <td>0</td>\n",
       "      <td>0</td>\n",
       "      <td>0</td>\n",
       "      <td>1</td>\n",
       "      <td>...</td>\n",
       "      <td>0</td>\n",
       "      <td>0</td>\n",
       "      <td>0</td>\n",
       "      <td>0</td>\n",
       "      <td>0</td>\n",
       "      <td>0</td>\n",
       "      <td>0</td>\n",
       "      <td>0</td>\n",
       "      <td>1</td>\n",
       "      <td>0</td>\n",
       "    </tr>\n",
       "    <tr>\n",
       "      <th>2712</th>\n",
       "      <td>-0.090676</td>\n",
       "      <td>-0.421456</td>\n",
       "      <td>0.356568</td>\n",
       "      <td>0</td>\n",
       "      <td>0</td>\n",
       "      <td>0</td>\n",
       "      <td>0</td>\n",
       "      <td>0</td>\n",
       "      <td>0</td>\n",
       "      <td>1</td>\n",
       "      <td>...</td>\n",
       "      <td>0</td>\n",
       "      <td>0</td>\n",
       "      <td>0</td>\n",
       "      <td>0</td>\n",
       "      <td>0</td>\n",
       "      <td>0</td>\n",
       "      <td>0</td>\n",
       "      <td>0</td>\n",
       "      <td>0</td>\n",
       "      <td>1</td>\n",
       "    </tr>\n",
       "  </tbody>\n",
       "</table>\n",
       "<p>5 rows × 56 columns</p>\n",
       "</div>"
      ],
      "text/plain": [
       "      TotalVisits  Total Time Spent on Website  Page Views Per Visit  \\\n",
       "7681     0.575687                    -0.311318              0.092860   \n",
       "984     -0.090676                    -0.550262              0.356568   \n",
       "8135    -0.423857                     0.812462             -0.170849   \n",
       "6915     0.242505                    -0.628665             -0.170849   \n",
       "2712    -0.090676                    -0.421456              0.356568   \n",
       "\n",
       "      Lead Origin_Landing Page Submission  Lead Origin_Lead Add Form  \\\n",
       "7681                                    1                          0   \n",
       "984                                     1                          0   \n",
       "8135                                    1                          0   \n",
       "6915                                    1                          0   \n",
       "2712                                    0                          0   \n",
       "\n",
       "      Lead Origin_Lead Import  What is your current occupation_Housewife  \\\n",
       "7681                        0                                          0   \n",
       "984                         0                                          0   \n",
       "8135                        0                                          0   \n",
       "6915                        0                                          0   \n",
       "2712                        0                                          0   \n",
       "\n",
       "      What is your current occupation_Other  \\\n",
       "7681                                      0   \n",
       "984                                       0   \n",
       "8135                                      0   \n",
       "6915                                      0   \n",
       "2712                                      0   \n",
       "\n",
       "      What is your current occupation_Student  \\\n",
       "7681                                        0   \n",
       "984                                         0   \n",
       "8135                                        0   \n",
       "6915                                        0   \n",
       "2712                                        0   \n",
       "\n",
       "      What is your current occupation_Unemployed  ...  \\\n",
       "7681                                           1  ...   \n",
       "984                                            1  ...   \n",
       "8135                                           1  ...   \n",
       "6915                                           1  ...   \n",
       "2712                                           1  ...   \n",
       "\n",
       "      Last Notable Activity_Olark Chat Conversation  \\\n",
       "7681                                              0   \n",
       "984                                               0   \n",
       "8135                                              0   \n",
       "6915                                              0   \n",
       "2712                                              0   \n",
       "\n",
       "      Last Notable Activity_Page Visited on Website  \\\n",
       "7681                                              0   \n",
       "984                                               0   \n",
       "8135                                              0   \n",
       "6915                                              0   \n",
       "2712                                              0   \n",
       "\n",
       "      Last Notable Activity_SMS Sent  Tags_Busy  Tags_Closed by Horizzon  \\\n",
       "7681                               1          0                        0   \n",
       "984                                0          0                        0   \n",
       "8135                               1          0                        0   \n",
       "6915                               0          0                        0   \n",
       "2712                               0          0                        0   \n",
       "\n",
       "      Tags_Interested in other courses  Tags_Lost to EINS  Tags_Other_Tags  \\\n",
       "7681                                 0                  0                0   \n",
       "984                                  0                  0                1   \n",
       "8135                                 0                  0                0   \n",
       "6915                                 0                  0                0   \n",
       "2712                                 0                  0                0   \n",
       "\n",
       "      Tags_Ringing  Tags_Will revert after reading the email  \n",
       "7681             1                                         0  \n",
       "984              0                                         0  \n",
       "8135             0                                         0  \n",
       "6915             1                                         0  \n",
       "2712             0                                         1  \n",
       "\n",
       "[5 rows x 56 columns]"
      ]
     },
     "execution_count": 174,
     "metadata": {},
     "output_type": "execute_result"
    }
   ],
   "source": [
    "X_test.head()"
   ]
  },
  {
   "cell_type": "code",
   "execution_count": 175,
   "metadata": {},
   "outputs": [
    {
     "data": {
      "text/html": [
       "<div>\n",
       "<style scoped>\n",
       "    .dataframe tbody tr th:only-of-type {\n",
       "        vertical-align: middle;\n",
       "    }\n",
       "\n",
       "    .dataframe tbody tr th {\n",
       "        vertical-align: top;\n",
       "    }\n",
       "\n",
       "    .dataframe thead th {\n",
       "        text-align: right;\n",
       "    }\n",
       "</style>\n",
       "<table border=\"1\" class=\"dataframe\">\n",
       "  <thead>\n",
       "    <tr style=\"text-align: right;\">\n",
       "      <th></th>\n",
       "      <th>Total Time Spent on Website</th>\n",
       "      <th>Lead Origin_Lead Add Form</th>\n",
       "      <th>Lead Source_Direct Traffic</th>\n",
       "      <th>Lead Source_Welingak Website</th>\n",
       "      <th>Last Activity_SMS Sent</th>\n",
       "      <th>Last Notable Activity_Modified</th>\n",
       "      <th>Last Notable Activity_Olark Chat Conversation</th>\n",
       "      <th>Tags_Closed by Horizzon</th>\n",
       "      <th>Tags_Interested in other courses</th>\n",
       "      <th>Tags_Lost to EINS</th>\n",
       "      <th>Tags_Other_Tags</th>\n",
       "      <th>Tags_Ringing</th>\n",
       "      <th>Tags_Will revert after reading the email</th>\n",
       "    </tr>\n",
       "  </thead>\n",
       "  <tbody>\n",
       "    <tr>\n",
       "      <th>7681</th>\n",
       "      <td>-0.311318</td>\n",
       "      <td>0</td>\n",
       "      <td>1</td>\n",
       "      <td>0</td>\n",
       "      <td>1</td>\n",
       "      <td>0</td>\n",
       "      <td>0</td>\n",
       "      <td>0</td>\n",
       "      <td>0</td>\n",
       "      <td>0</td>\n",
       "      <td>0</td>\n",
       "      <td>1</td>\n",
       "      <td>0</td>\n",
       "    </tr>\n",
       "    <tr>\n",
       "      <th>984</th>\n",
       "      <td>-0.550262</td>\n",
       "      <td>0</td>\n",
       "      <td>0</td>\n",
       "      <td>0</td>\n",
       "      <td>1</td>\n",
       "      <td>1</td>\n",
       "      <td>0</td>\n",
       "      <td>0</td>\n",
       "      <td>0</td>\n",
       "      <td>0</td>\n",
       "      <td>1</td>\n",
       "      <td>0</td>\n",
       "      <td>0</td>\n",
       "    </tr>\n",
       "    <tr>\n",
       "      <th>8135</th>\n",
       "      <td>0.812462</td>\n",
       "      <td>0</td>\n",
       "      <td>1</td>\n",
       "      <td>0</td>\n",
       "      <td>1</td>\n",
       "      <td>0</td>\n",
       "      <td>0</td>\n",
       "      <td>0</td>\n",
       "      <td>0</td>\n",
       "      <td>0</td>\n",
       "      <td>0</td>\n",
       "      <td>0</td>\n",
       "      <td>0</td>\n",
       "    </tr>\n",
       "    <tr>\n",
       "      <th>6915</th>\n",
       "      <td>-0.628665</td>\n",
       "      <td>0</td>\n",
       "      <td>0</td>\n",
       "      <td>0</td>\n",
       "      <td>0</td>\n",
       "      <td>0</td>\n",
       "      <td>0</td>\n",
       "      <td>0</td>\n",
       "      <td>0</td>\n",
       "      <td>0</td>\n",
       "      <td>0</td>\n",
       "      <td>1</td>\n",
       "      <td>0</td>\n",
       "    </tr>\n",
       "    <tr>\n",
       "      <th>2712</th>\n",
       "      <td>-0.421456</td>\n",
       "      <td>0</td>\n",
       "      <td>0</td>\n",
       "      <td>0</td>\n",
       "      <td>0</td>\n",
       "      <td>0</td>\n",
       "      <td>0</td>\n",
       "      <td>0</td>\n",
       "      <td>0</td>\n",
       "      <td>0</td>\n",
       "      <td>0</td>\n",
       "      <td>0</td>\n",
       "      <td>1</td>\n",
       "    </tr>\n",
       "  </tbody>\n",
       "</table>\n",
       "</div>"
      ],
      "text/plain": [
       "      Total Time Spent on Website  Lead Origin_Lead Add Form  \\\n",
       "7681                    -0.311318                          0   \n",
       "984                     -0.550262                          0   \n",
       "8135                     0.812462                          0   \n",
       "6915                    -0.628665                          0   \n",
       "2712                    -0.421456                          0   \n",
       "\n",
       "      Lead Source_Direct Traffic  Lead Source_Welingak Website  \\\n",
       "7681                           1                             0   \n",
       "984                            0                             0   \n",
       "8135                           1                             0   \n",
       "6915                           0                             0   \n",
       "2712                           0                             0   \n",
       "\n",
       "      Last Activity_SMS Sent  Last Notable Activity_Modified  \\\n",
       "7681                       1                               0   \n",
       "984                        1                               1   \n",
       "8135                       1                               0   \n",
       "6915                       0                               0   \n",
       "2712                       0                               0   \n",
       "\n",
       "      Last Notable Activity_Olark Chat Conversation  Tags_Closed by Horizzon  \\\n",
       "7681                                              0                        0   \n",
       "984                                               0                        0   \n",
       "8135                                              0                        0   \n",
       "6915                                              0                        0   \n",
       "2712                                              0                        0   \n",
       "\n",
       "      Tags_Interested in other courses  Tags_Lost to EINS  Tags_Other_Tags  \\\n",
       "7681                                 0                  0                0   \n",
       "984                                  0                  0                1   \n",
       "8135                                 0                  0                0   \n",
       "6915                                 0                  0                0   \n",
       "2712                                 0                  0                0   \n",
       "\n",
       "      Tags_Ringing  Tags_Will revert after reading the email  \n",
       "7681             1                                         0  \n",
       "984              0                                         0  \n",
       "8135             0                                         0  \n",
       "6915             1                                         0  \n",
       "2712             0                                         1  "
      ]
     },
     "execution_count": 175,
     "metadata": {},
     "output_type": "execute_result"
    }
   ],
   "source": [
    "X_test = X_test[col]\n",
    "X_test.head()"
   ]
  },
  {
   "cell_type": "code",
   "execution_count": 177,
   "metadata": {},
   "outputs": [],
   "source": [
    "X_test_sm = sm.add_constant(X_test)"
   ]
  },
  {
   "cell_type": "markdown",
   "metadata": {},
   "source": [
    "Making predictions on the test set"
   ]
  },
  {
   "cell_type": "code",
   "execution_count": 178,
   "metadata": {},
   "outputs": [],
   "source": [
    "y_test_pred = res.predict(X_test_sm)"
   ]
  },
  {
   "cell_type": "code",
   "execution_count": 179,
   "metadata": {},
   "outputs": [
    {
     "data": {
      "text/plain": [
       "7681    0.024819\n",
       "984     0.025692\n",
       "8135    0.686054\n",
       "6915    0.005880\n",
       "2712    0.953208\n",
       "244     0.002398\n",
       "4698    0.014697\n",
       "8287    0.027549\n",
       "6791    0.981608\n",
       "8970    0.005703\n",
       "dtype: float64"
      ]
     },
     "execution_count": 179,
     "metadata": {},
     "output_type": "execute_result"
    }
   ],
   "source": [
    "y_test_pred = res.predict(X_test_sm)\n",
    "y_test_pred[:10]"
   ]
  },
  {
   "cell_type": "code",
   "execution_count": 180,
   "metadata": {},
   "outputs": [
    {
     "data": {
      "text/html": [
       "<div>\n",
       "<style scoped>\n",
       "    .dataframe tbody tr th:only-of-type {\n",
       "        vertical-align: middle;\n",
       "    }\n",
       "\n",
       "    .dataframe tbody tr th {\n",
       "        vertical-align: top;\n",
       "    }\n",
       "\n",
       "    .dataframe thead th {\n",
       "        text-align: right;\n",
       "    }\n",
       "</style>\n",
       "<table border=\"1\" class=\"dataframe\">\n",
       "  <thead>\n",
       "    <tr style=\"text-align: right;\">\n",
       "      <th></th>\n",
       "      <th>0</th>\n",
       "    </tr>\n",
       "  </thead>\n",
       "  <tbody>\n",
       "    <tr>\n",
       "      <th>7681</th>\n",
       "      <td>0.024819</td>\n",
       "    </tr>\n",
       "    <tr>\n",
       "      <th>984</th>\n",
       "      <td>0.025692</td>\n",
       "    </tr>\n",
       "    <tr>\n",
       "      <th>8135</th>\n",
       "      <td>0.686054</td>\n",
       "    </tr>\n",
       "    <tr>\n",
       "      <th>6915</th>\n",
       "      <td>0.005880</td>\n",
       "    </tr>\n",
       "    <tr>\n",
       "      <th>2712</th>\n",
       "      <td>0.953208</td>\n",
       "    </tr>\n",
       "  </tbody>\n",
       "</table>\n",
       "</div>"
      ],
      "text/plain": [
       "             0\n",
       "7681  0.024819\n",
       "984   0.025692\n",
       "8135  0.686054\n",
       "6915  0.005880\n",
       "2712  0.953208"
      ]
     },
     "execution_count": 180,
     "metadata": {},
     "output_type": "execute_result"
    }
   ],
   "source": [
    "# Converting y_pred to a dataframe which is an array\n",
    "y_pred_1 = pd.DataFrame(y_test_pred)\n",
    "# Let's see the head\n",
    "y_pred_1.head()"
   ]
  },
  {
   "cell_type": "code",
   "execution_count": 182,
   "metadata": {},
   "outputs": [],
   "source": [
    "# Converting y_test to dataframe\n",
    "y_test_df = pd.DataFrame(y_test)"
   ]
  },
  {
   "cell_type": "code",
   "execution_count": 183,
   "metadata": {},
   "outputs": [],
   "source": [
    "# Putting CustID to index\n",
    "y_test_df['Prospect ID'] = y_test_df.index"
   ]
  },
  {
   "cell_type": "code",
   "execution_count": 184,
   "metadata": {},
   "outputs": [],
   "source": [
    "# Removing index for both dataframes to append them side by side \n",
    "y_pred_1.reset_index(drop=True, inplace=True)\n",
    "y_test_df.reset_index(drop=True, inplace=True)"
   ]
  },
  {
   "cell_type": "code",
   "execution_count": 185,
   "metadata": {},
   "outputs": [],
   "source": [
    "# Appending y_test_df and y_pred_1\n",
    "y_pred_final = pd.concat([y_test_df, y_pred_1],axis=1)"
   ]
  },
  {
   "cell_type": "code",
   "execution_count": 186,
   "metadata": {},
   "outputs": [
    {
     "data": {
      "text/html": [
       "<div>\n",
       "<style scoped>\n",
       "    .dataframe tbody tr th:only-of-type {\n",
       "        vertical-align: middle;\n",
       "    }\n",
       "\n",
       "    .dataframe tbody tr th {\n",
       "        vertical-align: top;\n",
       "    }\n",
       "\n",
       "    .dataframe thead th {\n",
       "        text-align: right;\n",
       "    }\n",
       "</style>\n",
       "<table border=\"1\" class=\"dataframe\">\n",
       "  <thead>\n",
       "    <tr style=\"text-align: right;\">\n",
       "      <th></th>\n",
       "      <th>Converted</th>\n",
       "      <th>Prospect ID</th>\n",
       "      <th>0</th>\n",
       "    </tr>\n",
       "  </thead>\n",
       "  <tbody>\n",
       "    <tr>\n",
       "      <th>0</th>\n",
       "      <td>0</td>\n",
       "      <td>7681</td>\n",
       "      <td>0.024819</td>\n",
       "    </tr>\n",
       "    <tr>\n",
       "      <th>1</th>\n",
       "      <td>0</td>\n",
       "      <td>984</td>\n",
       "      <td>0.025692</td>\n",
       "    </tr>\n",
       "    <tr>\n",
       "      <th>2</th>\n",
       "      <td>0</td>\n",
       "      <td>8135</td>\n",
       "      <td>0.686054</td>\n",
       "    </tr>\n",
       "    <tr>\n",
       "      <th>3</th>\n",
       "      <td>0</td>\n",
       "      <td>6915</td>\n",
       "      <td>0.005880</td>\n",
       "    </tr>\n",
       "    <tr>\n",
       "      <th>4</th>\n",
       "      <td>1</td>\n",
       "      <td>2712</td>\n",
       "      <td>0.953208</td>\n",
       "    </tr>\n",
       "  </tbody>\n",
       "</table>\n",
       "</div>"
      ],
      "text/plain": [
       "   Converted  Prospect ID         0\n",
       "0          0         7681  0.024819\n",
       "1          0          984  0.025692\n",
       "2          0         8135  0.686054\n",
       "3          0         6915  0.005880\n",
       "4          1         2712  0.953208"
      ]
     },
     "execution_count": 186,
     "metadata": {},
     "output_type": "execute_result"
    }
   ],
   "source": [
    "y_pred_final.head()"
   ]
  },
  {
   "cell_type": "code",
   "execution_count": 187,
   "metadata": {},
   "outputs": [],
   "source": [
    "# Renaming the column \n",
    "y_pred_final= y_pred_final.rename(columns={ 0 : 'Converted_prob'})"
   ]
  },
  {
   "cell_type": "code",
   "execution_count": 193,
   "metadata": {},
   "outputs": [],
   "source": [
    "# Rearranging the columns\n",
    "y_pred_final = y_pred_final[['Prospect ID','Converted','Converted_prob']]"
   ]
  },
  {
   "cell_type": "code",
   "execution_count": 194,
   "metadata": {},
   "outputs": [
    {
     "data": {
      "text/html": [
       "<div>\n",
       "<style scoped>\n",
       "    .dataframe tbody tr th:only-of-type {\n",
       "        vertical-align: middle;\n",
       "    }\n",
       "\n",
       "    .dataframe tbody tr th {\n",
       "        vertical-align: top;\n",
       "    }\n",
       "\n",
       "    .dataframe thead th {\n",
       "        text-align: right;\n",
       "    }\n",
       "</style>\n",
       "<table border=\"1\" class=\"dataframe\">\n",
       "  <thead>\n",
       "    <tr style=\"text-align: right;\">\n",
       "      <th></th>\n",
       "      <th>Prospect ID</th>\n",
       "      <th>Converted</th>\n",
       "      <th>Converted_prob</th>\n",
       "    </tr>\n",
       "  </thead>\n",
       "  <tbody>\n",
       "    <tr>\n",
       "      <th>0</th>\n",
       "      <td>7681</td>\n",
       "      <td>0</td>\n",
       "      <td>0.024819</td>\n",
       "    </tr>\n",
       "    <tr>\n",
       "      <th>1</th>\n",
       "      <td>984</td>\n",
       "      <td>0</td>\n",
       "      <td>0.025692</td>\n",
       "    </tr>\n",
       "    <tr>\n",
       "      <th>2</th>\n",
       "      <td>8135</td>\n",
       "      <td>0</td>\n",
       "      <td>0.686054</td>\n",
       "    </tr>\n",
       "    <tr>\n",
       "      <th>3</th>\n",
       "      <td>6915</td>\n",
       "      <td>0</td>\n",
       "      <td>0.005880</td>\n",
       "    </tr>\n",
       "    <tr>\n",
       "      <th>4</th>\n",
       "      <td>2712</td>\n",
       "      <td>1</td>\n",
       "      <td>0.953208</td>\n",
       "    </tr>\n",
       "  </tbody>\n",
       "</table>\n",
       "</div>"
      ],
      "text/plain": [
       "   Prospect ID  Converted  Converted_prob\n",
       "0         7681          0        0.024819\n",
       "1          984          0        0.025692\n",
       "2         8135          0        0.686054\n",
       "3         6915          0        0.005880\n",
       "4         2712          1        0.953208"
      ]
     },
     "execution_count": 194,
     "metadata": {},
     "output_type": "execute_result"
    }
   ],
   "source": [
    "y_pred_final.head()"
   ]
  },
  {
   "cell_type": "code",
   "execution_count": 196,
   "metadata": {},
   "outputs": [
    {
     "data": {
      "text/html": [
       "<div>\n",
       "<style scoped>\n",
       "    .dataframe tbody tr th:only-of-type {\n",
       "        vertical-align: middle;\n",
       "    }\n",
       "\n",
       "    .dataframe tbody tr th {\n",
       "        vertical-align: top;\n",
       "    }\n",
       "\n",
       "    .dataframe thead th {\n",
       "        text-align: right;\n",
       "    }\n",
       "</style>\n",
       "<table border=\"1\" class=\"dataframe\">\n",
       "  <thead>\n",
       "    <tr style=\"text-align: right;\">\n",
       "      <th></th>\n",
       "      <th>Prospect ID</th>\n",
       "      <th>Converted</th>\n",
       "      <th>Converted_prob</th>\n",
       "      <th>final_predicted</th>\n",
       "    </tr>\n",
       "  </thead>\n",
       "  <tbody>\n",
       "    <tr>\n",
       "      <th>0</th>\n",
       "      <td>7681</td>\n",
       "      <td>0</td>\n",
       "      <td>0.024819</td>\n",
       "      <td>0</td>\n",
       "    </tr>\n",
       "    <tr>\n",
       "      <th>1</th>\n",
       "      <td>984</td>\n",
       "      <td>0</td>\n",
       "      <td>0.025692</td>\n",
       "      <td>0</td>\n",
       "    </tr>\n",
       "    <tr>\n",
       "      <th>2</th>\n",
       "      <td>8135</td>\n",
       "      <td>0</td>\n",
       "      <td>0.686054</td>\n",
       "      <td>1</td>\n",
       "    </tr>\n",
       "    <tr>\n",
       "      <th>3</th>\n",
       "      <td>6915</td>\n",
       "      <td>0</td>\n",
       "      <td>0.005880</td>\n",
       "      <td>0</td>\n",
       "    </tr>\n",
       "    <tr>\n",
       "      <th>4</th>\n",
       "      <td>2712</td>\n",
       "      <td>1</td>\n",
       "      <td>0.953208</td>\n",
       "      <td>1</td>\n",
       "    </tr>\n",
       "  </tbody>\n",
       "</table>\n",
       "</div>"
      ],
      "text/plain": [
       "   Prospect ID  Converted  Converted_prob  final_predicted\n",
       "0         7681          0        0.024819                0\n",
       "1          984          0        0.025692                0\n",
       "2         8135          0        0.686054                1\n",
       "3         6915          0        0.005880                0\n",
       "4         2712          1        0.953208                1"
      ]
     },
     "execution_count": 196,
     "metadata": {},
     "output_type": "execute_result"
    }
   ],
   "source": [
    "y_pred_final['final_predicted'] = y_pred_final.Converted_prob.map(lambda x: 1 if x > 0.3 else 0)\n",
    "y_pred_final.head()"
   ]
  },
  {
   "cell_type": "code",
   "execution_count": 198,
   "metadata": {},
   "outputs": [
    {
     "data": {
      "text/plain": [
       "0.9277736411020104"
      ]
     },
     "execution_count": 198,
     "metadata": {},
     "output_type": "execute_result"
    }
   ],
   "source": [
    "# Let's check the overall accuracy.\n",
    "metrics.accuracy_score(y_pred_final.Converted, y_pred_final.final_predicted)"
   ]
  },
  {
   "cell_type": "code",
   "execution_count": 199,
   "metadata": {},
   "outputs": [
    {
     "data": {
      "text/plain": [
       "array([[1563,  113],\n",
       "       [  81,  929]], dtype=int64)"
      ]
     },
     "execution_count": 199,
     "metadata": {},
     "output_type": "execute_result"
    }
   ],
   "source": [
    "confusion2 = metrics.confusion_matrix(y_pred_final.Converted, y_pred_final.final_predicted )\n",
    "confusion2"
   ]
  },
  {
   "cell_type": "code",
   "execution_count": null,
   "metadata": {},
   "outputs": [],
   "source": [
    "# TP = confusion2[1,1] # true positive \n",
    "TN = confusion2[0,0] # true negatives\n",
    "FP = confusion2[0,1] # false positives\n",
    "FN = confusion2[1,0] # false negatives\n"
   ]
  },
  {
   "cell_type": "code",
   "execution_count": 201,
   "metadata": {},
   "outputs": [
    {
     "data": {
      "text/plain": [
       "0.9198019801980198"
      ]
     },
     "execution_count": 201,
     "metadata": {},
     "output_type": "execute_result"
    }
   ],
   "source": [
    "# Let's see the sensitivity of our logistic regression model\n",
    "TP / float(TP+FN)"
   ]
  },
  {
   "cell_type": "code",
   "execution_count": 202,
   "metadata": {},
   "outputs": [
    {
     "data": {
      "text/plain": [
       "0.9325775656324582"
      ]
     },
     "execution_count": 202,
     "metadata": {},
     "output_type": "execute_result"
    }
   ],
   "source": [
    "# Let us calculate specificity\n",
    "TN / float(TN+FP)"
   ]
  },
  {
   "cell_type": "markdown",
   "metadata": {},
   "source": [
    "# Final Observation:"
   ]
  },
  {
   "cell_type": "markdown",
   "metadata": {},
   "source": [
    "# Let us compare the values obtained for Train & Test:\n",
    "\n",
    "Train Data:\n",
    "\n",
    "    \n",
    "Accuracy : 92.29%\n",
    "\n",
    "Sensitivity : 91.70%\n",
    "\n",
    "Specificity : 92.66%\n",
    "    \n",
    "Test Data:\n",
    "\n",
    "\n",
    "Accuracy : 92.78%\n",
    "\n",
    "Sensitivity : 91.98%\n",
    "\n",
    "Specificity : 93.26%"
   ]
  },
  {
   "cell_type": "code",
   "execution_count": null,
   "metadata": {},
   "outputs": [],
   "source": []
  }
 ],
 "metadata": {
  "kernelspec": {
   "display_name": "Python 3",
   "language": "python",
   "name": "python3"
  },
  "language_info": {
   "codemirror_mode": {
    "name": "ipython",
    "version": 3
   },
   "file_extension": ".py",
   "mimetype": "text/x-python",
   "name": "python",
   "nbconvert_exporter": "python",
   "pygments_lexer": "ipython3",
   "version": "3.7.6"
  }
 },
 "nbformat": 4,
 "nbformat_minor": 4
}
